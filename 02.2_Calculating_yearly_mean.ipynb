{
 "cells": [
  {
   "cell_type": "markdown",
   "id": "1201e980",
   "metadata": {},
   "source": [
    "# Step 2: Pre-processing - Calculating yearly Mean 📅\n",
    "\n",
    "The goal is to calculate the **yearly mean** of the variables from the **Baltic Sea Wave Hindcast** dataset, which is available only in **hourly resolution**. Each day has a separate file, and each file is around **200MB** in size. If I wanted to download the entire dataset and calculate the mean, I would need **657GB** of storage! Here's the math: (*365 * 200 * (2024-2015) = 657,000 MB = 657 GB*)... \n",
    "\n",
    "Since this isn't feasible, I will use a technique often employed in survey sampling. Instead of downloading the entire dataset, I will download a **random sample** of the data and calculate the mean based on this sample. To make it more manageable, I’ll assume I download **10%** of the dataset, which means downloading **328 files** (*365 * 9 * 0.10 = 328*).\n",
    "\n",
    "#### 📚 Required Libraries\n",
    "To carry out this process, you'll need the following libraries:\n",
    "- **`pandas`**: For reading, manipulating, and analyzing the data. \n",
    "- **`random`**: For generating random samples from the data. \n",
    "- **`requests`**: For interacting with the API and downloading files. \n",
    "- **`netCDF4`**: For working with NetCDF files, the format used by this dataset.\n",
    "\n",
    "### 🛠️ Steps:\n",
    "1. **Generate a Random List of Dates**: Create a list of random dates to represent 10% of the total dataset.\n",
    "2. **Download the Files**: Using the list of random dates, download the corresponding files from the API. \n",
    "3. **Apply the Spatial Mask**: Use a spatial filter to restrict the data to the region of interest (if necessary).\n",
    "4. **Calculate the Mean**: After downloading the files, calculate the yearly mean for the variables of interest.\n",
    "\n",
    "This method significantly reduces the amount of data needed while still providing a statistically valid approximation.\n",
    "\n",
    "______\n",
    "\n",
    "### 🛠️ Creating a Random List of Dates \n",
    "\n",
    "Let’s start by generating a random list of **328 dates**. This list will determine which files to download and will be the foundation for calculating the mean based on a representative sample of the data."
   ]
  },
  {
   "cell_type": "code",
   "execution_count": 15,
   "id": "2e908893",
   "metadata": {},
   "outputs": [],
   "source": [
    "import pandas as pd\n",
    "import random"
   ]
  },
  {
   "cell_type": "code",
   "execution_count": 4,
   "id": "67bc722d",
   "metadata": {},
   "outputs": [],
   "source": [
    "# Generate the full list of dates from January 1, 2015 to December 31, 2023\n",
    "start_date = \"2015-01-01\"\n",
    "end_date = \"2023-12-31\"\n",
    "\n",
    "# Generate the date range\n",
    "date_range = pd.date_range(start=start_date, end=end_date, freq='D')\n",
    "\n",
    "# Randomly sample 328 dates from this range\n",
    "sampled_dates = random.sample(list(date_range), 328)\n",
    "\n",
    "sampled_dates.sort()"
   ]
  },
  {
   "cell_type": "markdown",
   "id": "41f99219",
   "metadata": {},
   "source": [
    "We can now save our random dates in a csv file. Once I saved it, I make sure not to overwrite the file."
   ]
  },
  {
   "cell_type": "code",
   "execution_count": 14,
   "id": "a245cdf1",
   "metadata": {},
   "outputs": [],
   "source": [
    "# pd.Series(sampled_dates).to_csv('sampled_dates.csv', index=False)"
   ]
  },
  {
   "cell_type": "markdown",
   "id": "c7b5fa3f",
   "metadata": {},
   "source": [
    "### 🛠️ Dowloading the files\n",
    "\n",
    "I don't want to dowload this 328 files one by one. I can use the API of Copernicus Marine Data Store. It is possible to create a list of files or dowload the files one by one. You can find more informations on the [Copernicus Marine API page](https://help.marine.copernicus.eu/en/articles/8286883-copernicus-marine-toolbox-api-get-original-files#h_4cb9923744).\n",
    "\n",
    "⚠️ The dowloaded files are not saved in the GitHub repositary because it was too heavy (56GB). However, the spatial filtered version is saved."
   ]
  },
  {
   "cell_type": "code",
   "execution_count": 3,
   "id": "fa3520cf",
   "metadata": {},
   "outputs": [
    {
     "name": "stderr",
     "output_type": "stream",
     "text": [
      "C:\\Users\\PC\\AppData\\Local\\Packages\\PythonSoftwareFoundation.Python.3.11_qbz5n2kfra8p0\\LocalCache\\local-packages\\Python311\\site-packages\\tqdm\\auto.py:21: TqdmWarning: IProgress not found. Please update jupyter and ipywidgets. See https://ipywidgets.readthedocs.io/en/stable/user_install.html\n",
      "  from .autonotebook import tqdm as notebook_tqdm\n"
     ]
    }
   ],
   "source": [
    "import copernicusmarine as cm"
   ]
  },
  {
   "cell_type": "code",
   "execution_count": 16,
   "id": "b0900db9",
   "metadata": {},
   "outputs": [],
   "source": [
    "datasetID = 'cmems_mod_bal_wav_my_PT1H-i'\n",
    "sampled_dates = pd.read_csv('sampled_dates.csv', parse_dates=[0]).iloc[:, 0].tolist()"
   ]
  },
  {
   "cell_type": "code",
   "execution_count": null,
   "id": "1e9e431e",
   "metadata": {},
   "outputs": [
    {
     "name": "stderr",
     "output_type": "stream",
     "text": [
      "INFO - 2025-07-29T12:56:45Z - Selected dataset version: \"202411\"\n",
      "INFO - 2025-07-29T12:56:45Z - Selected dataset part: \"default\"\n",
      "INFO - 2025-07-29T12:56:46Z - Listing files on remote server...\n",
      "17it [00:09,  1.84it/s]\n",
      "Downloading files: 100%|██████████| 1/1 [00:09<00:00,  9.63s/it]\n"
     ]
    },
    {
     "name": "stdout",
     "output_type": "stream",
     "text": [
      "Dowloading 249 / 328 files for 2022-01-07\n"
     ]
    },
    {
     "name": "stderr",
     "output_type": "stream",
     "text": [
      "INFO - 2025-07-29T12:57:15Z - Selected dataset version: \"202411\"\n",
      "INFO - 2025-07-29T12:57:15Z - Selected dataset part: \"default\"\n",
      "INFO - 2025-07-29T12:57:16Z - Listing files on remote server...\n",
      "17it [00:09,  1.70it/s]\n",
      "Downloading files: 100%|██████████| 1/1 [00:13<00:00, 13.11s/it]\n"
     ]
    },
    {
     "name": "stdout",
     "output_type": "stream",
     "text": [
      "Dowloading 250 / 328 files for 2022-01-10\n"
     ]
    },
    {
     "name": "stderr",
     "output_type": "stream",
     "text": [
      "INFO - 2025-07-29T12:57:49Z - Selected dataset version: \"202411\"\n",
      "INFO - 2025-07-29T12:57:49Z - Selected dataset part: \"default\"\n",
      "INFO - 2025-07-29T12:57:49Z - Listing files on remote server...\n",
      "17it [00:09,  1.80it/s]\n",
      "Downloading files: 100%|██████████| 1/1 [00:09<00:00,  9.32s/it]\n"
     ]
    },
    {
     "name": "stdout",
     "output_type": "stream",
     "text": [
      "Dowloading 251 / 328 files for 2022-01-14\n"
     ]
    },
    {
     "name": "stderr",
     "output_type": "stream",
     "text": [
      "INFO - 2025-07-29T12:58:18Z - Selected dataset version: \"202411\"\n",
      "INFO - 2025-07-29T12:58:18Z - Selected dataset part: \"default\"\n",
      "INFO - 2025-07-29T12:58:19Z - Listing files on remote server...\n",
      "17it [00:12,  1.37it/s]\n",
      "Downloading files: 100%|██████████| 1/1 [00:12<00:00, 12.71s/it]\n"
     ]
    },
    {
     "name": "stdout",
     "output_type": "stream",
     "text": [
      "Dowloading 252 / 328 files for 2022-01-22\n"
     ]
    },
    {
     "name": "stderr",
     "output_type": "stream",
     "text": [
      "INFO - 2025-07-29T12:59:02Z - Selected dataset version: \"202411\"\n",
      "INFO - 2025-07-29T12:59:02Z - Selected dataset part: \"default\"\n",
      "INFO - 2025-07-29T12:59:03Z - Listing files on remote server...\n",
      "17it [00:16,  1.05it/s]\n",
      "Downloading files: 100%|██████████| 1/1 [00:13<00:00, 13.42s/it]\n"
     ]
    },
    {
     "name": "stdout",
     "output_type": "stream",
     "text": [
      "Dowloading 253 / 328 files for 2022-01-25\n"
     ]
    },
    {
     "name": "stderr",
     "output_type": "stream",
     "text": [
      "INFO - 2025-07-29T12:59:49Z - Selected dataset version: \"202411\"\n",
      "INFO - 2025-07-29T12:59:49Z - Selected dataset part: \"default\"\n",
      "INFO - 2025-07-29T12:59:50Z - Listing files on remote server...\n",
      "17it [00:11,  1.46it/s]\n",
      "Downloading files: 100%|██████████| 1/1 [00:22<00:00, 22.38s/it]\n"
     ]
    },
    {
     "name": "stdout",
     "output_type": "stream",
     "text": [
      "Dowloading 254 / 328 files for 2022-01-31\n"
     ]
    },
    {
     "name": "stderr",
     "output_type": "stream",
     "text": [
      "INFO - 2025-07-29T13:00:42Z - Selected dataset version: \"202411\"\n",
      "INFO - 2025-07-29T13:00:42Z - Selected dataset part: \"default\"\n",
      "INFO - 2025-07-29T13:00:44Z - Listing files on remote server...\n",
      "17it [00:13,  1.31it/s]\n",
      "Downloading files: 100%|██████████| 1/1 [00:11<00:00, 11.01s/it]\n"
     ]
    },
    {
     "name": "stdout",
     "output_type": "stream",
     "text": [
      "Dowloading 255 / 328 files for 2022-02-04\n"
     ]
    },
    {
     "name": "stderr",
     "output_type": "stream",
     "text": [
      "INFO - 2025-07-29T13:01:21Z - Selected dataset version: \"202411\"\n",
      "INFO - 2025-07-29T13:01:21Z - Selected dataset part: \"default\"\n",
      "INFO - 2025-07-29T13:01:22Z - Listing files on remote server...\n",
      "17it [00:14,  1.19it/s]\n",
      "Downloading files: 100%|██████████| 1/1 [00:11<00:00, 11.41s/it]\n"
     ]
    },
    {
     "name": "stdout",
     "output_type": "stream",
     "text": [
      "Dowloading 256 / 328 files for 2022-02-06\n"
     ]
    },
    {
     "name": "stderr",
     "output_type": "stream",
     "text": [
      "INFO - 2025-07-29T13:02:03Z - Selected dataset version: \"202411\"\n",
      "INFO - 2025-07-29T13:02:03Z - Selected dataset part: \"default\"\n",
      "INFO - 2025-07-29T13:02:05Z - Listing files on remote server...\n",
      "17it [00:13,  1.23it/s]\n",
      "Downloading files: 100%|██████████| 1/1 [00:12<00:00, 12.55s/it]\n"
     ]
    },
    {
     "name": "stdout",
     "output_type": "stream",
     "text": [
      "Dowloading 257 / 328 files for 2022-02-24\n"
     ]
    },
    {
     "name": "stderr",
     "output_type": "stream",
     "text": [
      "INFO - 2025-07-29T13:02:45Z - Selected dataset version: \"202411\"\n",
      "INFO - 2025-07-29T13:02:45Z - Selected dataset part: \"default\"\n",
      "INFO - 2025-07-29T13:02:47Z - Listing files on remote server...\n",
      "17it [00:11,  1.46it/s]\n",
      "Downloading files: 100%|██████████| 1/1 [00:11<00:00, 11.52s/it]\n"
     ]
    },
    {
     "name": "stdout",
     "output_type": "stream",
     "text": [
      "Dowloading 258 / 328 files for 2022-03-21\n"
     ]
    },
    {
     "name": "stderr",
     "output_type": "stream",
     "text": [
      "INFO - 2025-07-29T13:03:23Z - Selected dataset version: \"202411\"\n",
      "INFO - 2025-07-29T13:03:23Z - Selected dataset part: \"default\"\n",
      "INFO - 2025-07-29T13:03:24Z - Listing files on remote server...\n",
      "17it [00:11,  1.42it/s]\n",
      "Downloading files: 100%|██████████| 1/1 [00:11<00:00, 11.75s/it]\n"
     ]
    },
    {
     "name": "stdout",
     "output_type": "stream",
     "text": [
      "Dowloading 259 / 328 files for 2022-03-22\n"
     ]
    },
    {
     "name": "stderr",
     "output_type": "stream",
     "text": [
      "INFO - 2025-07-29T13:04:04Z - Selected dataset version: \"202411\"\n",
      "INFO - 2025-07-29T13:04:04Z - Selected dataset part: \"default\"\n",
      "INFO - 2025-07-29T13:04:06Z - Listing files on remote server...\n",
      "17it [00:12,  1.33it/s]\n",
      "Downloading files: 100%|██████████| 1/1 [00:11<00:00, 11.12s/it]\n"
     ]
    },
    {
     "name": "stdout",
     "output_type": "stream",
     "text": [
      "Dowloading 260 / 328 files for 2022-03-23\n"
     ]
    },
    {
     "name": "stderr",
     "output_type": "stream",
     "text": [
      "INFO - 2025-07-29T13:04:41Z - Selected dataset version: \"202411\"\n",
      "INFO - 2025-07-29T13:04:41Z - Selected dataset part: \"default\"\n",
      "INFO - 2025-07-29T13:04:42Z - Listing files on remote server...\n",
      "17it [00:09,  1.82it/s]\n",
      "Downloading files: 100%|██████████| 1/1 [00:11<00:00, 11.03s/it]\n"
     ]
    },
    {
     "name": "stdout",
     "output_type": "stream",
     "text": [
      "Dowloading 261 / 328 files for 2022-03-25\n"
     ]
    },
    {
     "name": "stderr",
     "output_type": "stream",
     "text": [
      "INFO - 2025-07-29T13:05:14Z - Selected dataset version: \"202411\"\n",
      "INFO - 2025-07-29T13:05:14Z - Selected dataset part: \"default\"\n",
      "INFO - 2025-07-29T13:05:16Z - Listing files on remote server...\n",
      "17it [00:11,  1.44it/s]\n",
      "Downloading files: 100%|██████████| 1/1 [00:11<00:00, 11.16s/it]\n"
     ]
    },
    {
     "name": "stdout",
     "output_type": "stream",
     "text": [
      "Dowloading 262 / 328 files for 2022-04-05\n"
     ]
    },
    {
     "name": "stderr",
     "output_type": "stream",
     "text": [
      "INFO - 2025-07-29T13:05:51Z - Selected dataset version: \"202411\"\n",
      "INFO - 2025-07-29T13:05:51Z - Selected dataset part: \"default\"\n",
      "INFO - 2025-07-29T13:05:52Z - Listing files on remote server...\n",
      "17it [00:12,  1.35it/s]\n",
      "Downloading files: 100%|██████████| 1/1 [00:10<00:00, 10.66s/it]\n"
     ]
    },
    {
     "name": "stdout",
     "output_type": "stream",
     "text": [
      "Dowloading 263 / 328 files for 2022-04-07\n"
     ]
    },
    {
     "name": "stderr",
     "output_type": "stream",
     "text": [
      "INFO - 2025-07-29T13:06:27Z - Selected dataset version: \"202411\"\n",
      "INFO - 2025-07-29T13:06:27Z - Selected dataset part: \"default\"\n",
      "INFO - 2025-07-29T13:06:28Z - Listing files on remote server...\n",
      "17it [00:14,  1.16it/s]\n",
      "Downloading files: 100%|██████████| 1/1 [00:12<00:00, 12.85s/it]\n"
     ]
    },
    {
     "name": "stdout",
     "output_type": "stream",
     "text": [
      "Dowloading 264 / 328 files for 2022-04-14\n"
     ]
    },
    {
     "name": "stderr",
     "output_type": "stream",
     "text": [
      "INFO - 2025-07-29T13:07:11Z - Selected dataset version: \"202411\"\n",
      "INFO - 2025-07-29T13:07:11Z - Selected dataset part: \"default\"\n",
      "INFO - 2025-07-29T13:07:12Z - Listing files on remote server...\n",
      "17it [00:11,  1.43it/s]\n",
      "Downloading files: 100%|██████████| 1/1 [00:14<00:00, 14.47s/it]\n"
     ]
    },
    {
     "name": "stdout",
     "output_type": "stream",
     "text": [
      "Dowloading 265 / 328 files for 2022-04-25\n"
     ]
    },
    {
     "name": "stderr",
     "output_type": "stream",
     "text": [
      "INFO - 2025-07-29T13:07:50Z - Selected dataset version: \"202411\"\n",
      "INFO - 2025-07-29T13:07:50Z - Selected dataset part: \"default\"\n",
      "INFO - 2025-07-29T13:07:51Z - Listing files on remote server...\n",
      "17it [00:11,  1.44it/s]\n",
      "Downloading files: 100%|██████████| 1/1 [00:13<00:00, 13.88s/it]\n"
     ]
    },
    {
     "name": "stdout",
     "output_type": "stream",
     "text": [
      "Dowloading 266 / 328 files for 2022-05-12\n"
     ]
    },
    {
     "name": "stderr",
     "output_type": "stream",
     "text": [
      "INFO - 2025-07-29T13:08:33Z - Selected dataset version: \"202411\"\n",
      "INFO - 2025-07-29T13:08:33Z - Selected dataset part: \"default\"\n",
      "INFO - 2025-07-29T13:08:34Z - Listing files on remote server...\n",
      "17it [00:13,  1.29it/s]\n",
      "Downloading files: 100%|██████████| 1/1 [00:20<00:00, 21.00s/it]\n"
     ]
    },
    {
     "name": "stdout",
     "output_type": "stream",
     "text": [
      "Dowloading 267 / 328 files for 2022-05-18\n"
     ]
    },
    {
     "name": "stderr",
     "output_type": "stream",
     "text": [
      "INFO - 2025-07-29T13:09:21Z - Selected dataset version: \"202411\"\n",
      "INFO - 2025-07-29T13:09:21Z - Selected dataset part: \"default\"\n",
      "INFO - 2025-07-29T13:09:22Z - Listing files on remote server...\n",
      "17it [00:11,  1.52it/s]\n",
      "Downloading files: 100%|██████████| 1/1 [00:12<00:00, 12.87s/it]\n"
     ]
    },
    {
     "name": "stdout",
     "output_type": "stream",
     "text": [
      "Dowloading 268 / 328 files for 2022-05-27\n"
     ]
    },
    {
     "name": "stderr",
     "output_type": "stream",
     "text": [
      "INFO - 2025-07-29T13:09:57Z - Selected dataset version: \"202411\"\n",
      "INFO - 2025-07-29T13:09:57Z - Selected dataset part: \"default\"\n",
      "INFO - 2025-07-29T13:09:58Z - Listing files on remote server...\n",
      "17it [00:10,  1.61it/s]\n",
      "Downloading files: 100%|██████████| 1/1 [00:12<00:00, 12.45s/it]\n"
     ]
    },
    {
     "name": "stdout",
     "output_type": "stream",
     "text": [
      "Dowloading 269 / 328 files for 2022-06-02\n"
     ]
    },
    {
     "name": "stderr",
     "output_type": "stream",
     "text": [
      "INFO - 2025-07-29T13:10:34Z - Selected dataset version: \"202411\"\n",
      "INFO - 2025-07-29T13:10:34Z - Selected dataset part: \"default\"\n",
      "INFO - 2025-07-29T13:10:34Z - Listing files on remote server...\n",
      "17it [00:08,  1.91it/s]\n",
      "Downloading files: 100%|██████████| 1/1 [00:12<00:00, 12.06s/it]\n"
     ]
    },
    {
     "name": "stdout",
     "output_type": "stream",
     "text": [
      "Dowloading 270 / 328 files for 2022-06-07\n"
     ]
    },
    {
     "name": "stderr",
     "output_type": "stream",
     "text": [
      "INFO - 2025-07-29T13:11:07Z - Selected dataset version: \"202411\"\n",
      "INFO - 2025-07-29T13:11:07Z - Selected dataset part: \"default\"\n",
      "INFO - 2025-07-29T13:11:08Z - Listing files on remote server...\n",
      "17it [00:11,  1.43it/s]\n",
      "Downloading files: 100%|██████████| 1/1 [00:13<00:00, 13.18s/it]"
     ]
    },
    {
     "name": "stdout",
     "output_type": "stream",
     "text": [
      "Dowloading 271 / 328 files for 2022-06-12\n"
     ]
    },
    {
     "name": "stderr",
     "output_type": "stream",
     "text": [
      "\n",
      "INFO - 2025-07-29T13:11:46Z - Selected dataset version: \"202411\"\n",
      "INFO - 2025-07-29T13:11:46Z - Selected dataset part: \"default\"\n",
      "INFO - 2025-07-29T13:11:47Z - Listing files on remote server...\n",
      "17it [00:11,  1.48it/s]\n",
      "Downloading files: 100%|██████████| 1/1 [00:11<00:00, 11.14s/it]\n"
     ]
    },
    {
     "name": "stdout",
     "output_type": "stream",
     "text": [
      "Dowloading 272 / 328 files for 2022-06-17\n"
     ]
    },
    {
     "name": "stderr",
     "output_type": "stream",
     "text": [
      "INFO - 2025-07-29T13:12:21Z - Selected dataset version: \"202411\"\n",
      "INFO - 2025-07-29T13:12:21Z - Selected dataset part: \"default\"\n",
      "INFO - 2025-07-29T13:12:22Z - Listing files on remote server...\n",
      "17it [00:11,  1.45it/s]\n",
      "Downloading files: 100%|██████████| 1/1 [00:11<00:00, 11.53s/it]\n"
     ]
    },
    {
     "name": "stdout",
     "output_type": "stream",
     "text": [
      "Dowloading 273 / 328 files for 2022-06-19\n"
     ]
    },
    {
     "name": "stderr",
     "output_type": "stream",
     "text": [
      "INFO - 2025-07-29T13:12:59Z - Selected dataset version: \"202411\"\n",
      "INFO - 2025-07-29T13:12:59Z - Selected dataset part: \"default\"\n",
      "INFO - 2025-07-29T13:13:02Z - Listing files on remote server...\n",
      "17it [00:10,  1.61it/s]\n",
      "Downloading files: 100%|██████████| 1/1 [00:13<00:00, 13.19s/it]\n"
     ]
    },
    {
     "name": "stdout",
     "output_type": "stream",
     "text": [
      "Dowloading 274 / 328 files for 2022-06-25\n"
     ]
    },
    {
     "name": "stderr",
     "output_type": "stream",
     "text": [
      "INFO - 2025-07-29T13:13:36Z - Selected dataset version: \"202411\"\n",
      "INFO - 2025-07-29T13:13:36Z - Selected dataset part: \"default\"\n",
      "INFO - 2025-07-29T13:13:38Z - Listing files on remote server...\n",
      "17it [00:10,  1.62it/s]\n",
      "Downloading files: 100%|██████████| 1/1 [00:11<00:00, 11.72s/it]\n"
     ]
    },
    {
     "name": "stdout",
     "output_type": "stream",
     "text": [
      "Dowloading 275 / 328 files for 2022-07-11\n"
     ]
    },
    {
     "name": "stderr",
     "output_type": "stream",
     "text": [
      "INFO - 2025-07-29T13:14:11Z - Selected dataset version: \"202411\"\n",
      "INFO - 2025-07-29T13:14:11Z - Selected dataset part: \"default\"\n",
      "INFO - 2025-07-29T13:14:12Z - Listing files on remote server...\n",
      "17it [00:10,  1.62it/s]\n",
      "Downloading files: 100%|██████████| 1/1 [00:13<00:00, 13.64s/it]\n"
     ]
    },
    {
     "name": "stdout",
     "output_type": "stream",
     "text": [
      "Dowloading 276 / 328 files for 2022-07-22\n"
     ]
    },
    {
     "name": "stderr",
     "output_type": "stream",
     "text": [
      "INFO - 2025-07-29T13:14:47Z - Selected dataset version: \"202411\"\n",
      "INFO - 2025-07-29T13:14:47Z - Selected dataset part: \"default\"\n",
      "INFO - 2025-07-29T13:14:48Z - Listing files on remote server...\n",
      "17it [00:12,  1.34it/s]\n",
      "Downloading files: 100%|██████████| 1/1 [00:15<00:00, 15.41s/it]\n"
     ]
    },
    {
     "name": "stdout",
     "output_type": "stream",
     "text": [
      "Dowloading 277 / 328 files for 2022-08-08\n"
     ]
    },
    {
     "name": "stderr",
     "output_type": "stream",
     "text": [
      "INFO - 2025-07-29T13:15:26Z - Selected dataset version: \"202411\"\n",
      "INFO - 2025-07-29T13:15:26Z - Selected dataset part: \"default\"\n",
      "INFO - 2025-07-29T13:15:27Z - Listing files on remote server...\n",
      "17it [00:08,  2.03it/s]\n",
      "Downloading files: 100%|██████████| 1/1 [00:10<00:00, 10.15s/it]\n"
     ]
    },
    {
     "name": "stdout",
     "output_type": "stream",
     "text": [
      "Dowloading 278 / 328 files for 2022-08-29\n"
     ]
    },
    {
     "name": "stderr",
     "output_type": "stream",
     "text": [
      "INFO - 2025-07-29T13:15:54Z - Selected dataset version: \"202411\"\n",
      "INFO - 2025-07-29T13:15:54Z - Selected dataset part: \"default\"\n",
      "INFO - 2025-07-29T13:15:55Z - Listing files on remote server...\n",
      "17it [00:09,  1.71it/s]\n",
      "Downloading files: 100%|██████████| 1/1 [00:10<00:00, 10.30s/it]\n"
     ]
    },
    {
     "name": "stdout",
     "output_type": "stream",
     "text": [
      "Dowloading 279 / 328 files for 2022-09-01\n"
     ]
    },
    {
     "name": "stderr",
     "output_type": "stream",
     "text": [
      "INFO - 2025-07-29T13:16:25Z - Selected dataset version: \"202411\"\n",
      "INFO - 2025-07-29T13:16:25Z - Selected dataset part: \"default\"\n",
      "INFO - 2025-07-29T13:16:26Z - Listing files on remote server...\n",
      "17it [00:08,  1.94it/s]\n",
      "Downloading files: 100%|██████████| 1/1 [00:11<00:00, 11.71s/it]\n"
     ]
    },
    {
     "name": "stdout",
     "output_type": "stream",
     "text": [
      "Dowloading 280 / 328 files for 2022-09-25\n"
     ]
    },
    {
     "name": "stderr",
     "output_type": "stream",
     "text": [
      "INFO - 2025-07-29T13:16:55Z - Selected dataset version: \"202411\"\n",
      "INFO - 2025-07-29T13:16:55Z - Selected dataset part: \"default\"\n",
      "INFO - 2025-07-29T13:16:56Z - Listing files on remote server...\n",
      "17it [00:07,  2.16it/s]\n",
      "Downloading files: 100%|██████████| 1/1 [00:10<00:00, 10.55s/it]\n"
     ]
    },
    {
     "name": "stdout",
     "output_type": "stream",
     "text": [
      "Dowloading 281 / 328 files for 2022-10-10\n"
     ]
    },
    {
     "name": "stderr",
     "output_type": "stream",
     "text": [
      "INFO - 2025-07-29T13:17:22Z - Selected dataset version: \"202411\"\n",
      "INFO - 2025-07-29T13:17:22Z - Selected dataset part: \"default\"\n",
      "INFO - 2025-07-29T13:17:23Z - Listing files on remote server...\n",
      "17it [00:09,  1.86it/s]\n",
      "Downloading files: 100%|██████████| 1/1 [00:17<00:00, 17.71s/it]\n"
     ]
    },
    {
     "name": "stdout",
     "output_type": "stream",
     "text": [
      "Dowloading 282 / 328 files for 2022-10-12\n"
     ]
    },
    {
     "name": "stderr",
     "output_type": "stream",
     "text": [
      "INFO - 2025-07-29T13:17:58Z - Selected dataset version: \"202411\"\n",
      "INFO - 2025-07-29T13:17:58Z - Selected dataset part: \"default\"\n",
      "INFO - 2025-07-29T13:17:59Z - Listing files on remote server...\n",
      "17it [00:07,  2.13it/s]\n",
      "Downloading files: 100%|██████████| 1/1 [00:09<00:00,  9.46s/it]\n"
     ]
    },
    {
     "name": "stdout",
     "output_type": "stream",
     "text": [
      "Dowloading 283 / 328 files for 2022-10-24\n"
     ]
    },
    {
     "name": "stderr",
     "output_type": "stream",
     "text": [
      "INFO - 2025-07-29T13:18:25Z - Selected dataset version: \"202411\"\n",
      "INFO - 2025-07-29T13:18:25Z - Selected dataset part: \"default\"\n",
      "INFO - 2025-07-29T13:18:26Z - Listing files on remote server...\n",
      "17it [00:08,  2.07it/s]\n",
      "Downloading files: 100%|██████████| 1/1 [00:11<00:00, 11.09s/it]\n"
     ]
    },
    {
     "name": "stdout",
     "output_type": "stream",
     "text": [
      "Dowloading 284 / 328 files for 2022-10-27\n"
     ]
    },
    {
     "name": "stderr",
     "output_type": "stream",
     "text": [
      "INFO - 2025-07-29T13:18:55Z - Selected dataset version: \"202411\"\n",
      "INFO - 2025-07-29T13:18:55Z - Selected dataset part: \"default\"\n",
      "INFO - 2025-07-29T13:18:56Z - Listing files on remote server...\n",
      "17it [00:10,  1.57it/s]\n",
      "Downloading files: 100%|██████████| 1/1 [00:11<00:00, 11.32s/it]\n"
     ]
    },
    {
     "name": "stdout",
     "output_type": "stream",
     "text": [
      "Dowloading 285 / 328 files for 2022-11-02\n"
     ]
    },
    {
     "name": "stderr",
     "output_type": "stream",
     "text": [
      "INFO - 2025-07-29T13:19:28Z - Selected dataset version: \"202411\"\n",
      "INFO - 2025-07-29T13:19:28Z - Selected dataset part: \"default\"\n",
      "INFO - 2025-07-29T13:19:29Z - Listing files on remote server...\n",
      "17it [00:10,  1.57it/s]\n",
      "Downloading files: 100%|██████████| 1/1 [00:12<00:00, 12.94s/it]\n"
     ]
    },
    {
     "name": "stdout",
     "output_type": "stream",
     "text": [
      "Dowloading 286 / 328 files for 2022-11-04\n"
     ]
    },
    {
     "name": "stderr",
     "output_type": "stream",
     "text": [
      "INFO - 2025-07-29T13:20:04Z - Selected dataset version: \"202411\"\n",
      "INFO - 2025-07-29T13:20:04Z - Selected dataset part: \"default\"\n",
      "INFO - 2025-07-29T13:20:05Z - Listing files on remote server...\n",
      "17it [00:09,  1.78it/s]\n",
      "Downloading files: 100%|██████████| 1/1 [00:10<00:00, 10.06s/it]\n"
     ]
    },
    {
     "name": "stdout",
     "output_type": "stream",
     "text": [
      "Dowloading 287 / 328 files for 2022-11-07\n"
     ]
    },
    {
     "name": "stderr",
     "output_type": "stream",
     "text": [
      "INFO - 2025-07-29T13:20:36Z - Selected dataset version: \"202411\"\n",
      "INFO - 2025-07-29T13:20:36Z - Selected dataset part: \"default\"\n",
      "INFO - 2025-07-29T13:20:37Z - Listing files on remote server...\n",
      "17it [00:09,  1.72it/s]\n",
      "Downloading files: 100%|██████████| 1/1 [00:11<00:00, 11.22s/it]\n"
     ]
    },
    {
     "name": "stdout",
     "output_type": "stream",
     "text": [
      "Dowloading 288 / 328 files for 2022-11-08\n"
     ]
    },
    {
     "name": "stderr",
     "output_type": "stream",
     "text": [
      "INFO - 2025-07-29T13:21:09Z - Selected dataset version: \"202411\"\n",
      "INFO - 2025-07-29T13:21:09Z - Selected dataset part: \"default\"\n",
      "INFO - 2025-07-29T13:21:10Z - Listing files on remote server...\n",
      "17it [00:09,  1.85it/s]\n",
      "Downloading files: 100%|██████████| 1/1 [00:10<00:00, 10.79s/it]\n"
     ]
    },
    {
     "name": "stdout",
     "output_type": "stream",
     "text": [
      "Dowloading 289 / 328 files for 2022-11-29\n"
     ]
    },
    {
     "name": "stderr",
     "output_type": "stream",
     "text": [
      "INFO - 2025-07-29T13:21:40Z - Selected dataset version: \"202411\"\n",
      "INFO - 2025-07-29T13:21:40Z - Selected dataset part: \"default\"\n",
      "INFO - 2025-07-29T13:21:41Z - Listing files on remote server...\n",
      "17it [00:11,  1.53it/s]\n",
      "Downloading files: 100%|██████████| 1/1 [00:10<00:00, 10.71s/it]\n"
     ]
    },
    {
     "name": "stdout",
     "output_type": "stream",
     "text": [
      "Dowloading 290 / 328 files for 2022-12-05\n"
     ]
    },
    {
     "name": "stderr",
     "output_type": "stream",
     "text": [
      "INFO - 2025-07-29T13:22:13Z - Selected dataset version: \"202411\"\n",
      "INFO - 2025-07-29T13:22:13Z - Selected dataset part: \"default\"\n",
      "INFO - 2025-07-29T13:22:14Z - Listing files on remote server...\n",
      "17it [00:10,  1.65it/s]\n",
      "Downloading files: 100%|██████████| 1/1 [00:09<00:00,  9.84s/it]\n"
     ]
    },
    {
     "name": "stdout",
     "output_type": "stream",
     "text": [
      "Dowloading 291 / 328 files for 2022-12-19\n"
     ]
    },
    {
     "name": "stderr",
     "output_type": "stream",
     "text": [
      "INFO - 2025-07-29T13:22:46Z - Selected dataset version: \"202411\"\n",
      "INFO - 2025-07-29T13:22:46Z - Selected dataset part: \"default\"\n",
      "INFO - 2025-07-29T13:22:47Z - Listing files on remote server...\n",
      "17it [00:09,  1.87it/s]\n",
      "Downloading files: 100%|██████████| 1/1 [00:12<00:00, 13.00s/it]\n"
     ]
    },
    {
     "name": "stdout",
     "output_type": "stream",
     "text": [
      "Dowloading 292 / 328 files for 2023-01-04\n"
     ]
    },
    {
     "name": "stderr",
     "output_type": "stream",
     "text": [
      "INFO - 2025-07-29T13:23:18Z - Selected dataset version: \"202411\"\n",
      "INFO - 2025-07-29T13:23:18Z - Selected dataset part: \"default\"\n",
      "INFO - 2025-07-29T13:23:19Z - Listing files on remote server...\n",
      "17it [00:09,  1.84it/s]\n",
      "Downloading files: 100%|██████████| 1/1 [00:12<00:00, 12.06s/it]\n"
     ]
    },
    {
     "name": "stdout",
     "output_type": "stream",
     "text": [
      "Dowloading 293 / 328 files for 2023-01-15\n"
     ]
    },
    {
     "name": "stderr",
     "output_type": "stream",
     "text": [
      "INFO - 2025-07-29T13:23:51Z - Selected dataset version: \"202411\"\n",
      "INFO - 2025-07-29T13:23:51Z - Selected dataset part: \"default\"\n",
      "INFO - 2025-07-29T13:23:52Z - Listing files on remote server...\n",
      "17it [00:08,  2.12it/s]\n",
      "Downloading files: 100%|██████████| 1/1 [00:11<00:00, 11.82s/it]\n"
     ]
    },
    {
     "name": "stdout",
     "output_type": "stream",
     "text": [
      "Dowloading 294 / 328 files for 2023-01-22\n"
     ]
    },
    {
     "name": "stderr",
     "output_type": "stream",
     "text": [
      "INFO - 2025-07-29T13:24:23Z - Selected dataset version: \"202411\"\n",
      "INFO - 2025-07-29T13:24:23Z - Selected dataset part: \"default\"\n",
      "INFO - 2025-07-29T13:24:24Z - Listing files on remote server...\n",
      "17it [00:10,  1.64it/s]\n",
      "Downloading files: 100%|██████████| 1/1 [00:10<00:00, 10.80s/it]\n"
     ]
    },
    {
     "name": "stdout",
     "output_type": "stream",
     "text": [
      "Dowloading 295 / 328 files for 2023-01-26\n"
     ]
    },
    {
     "name": "stderr",
     "output_type": "stream",
     "text": [
      "INFO - 2025-07-29T13:24:56Z - Selected dataset version: \"202411\"\n",
      "INFO - 2025-07-29T13:24:56Z - Selected dataset part: \"default\"\n",
      "INFO - 2025-07-29T13:24:58Z - Listing files on remote server...\n",
      "17it [00:11,  1.54it/s]\n",
      "Downloading files: 100%|██████████| 1/1 [00:23<00:00, 23.34s/it]\n"
     ]
    },
    {
     "name": "stdout",
     "output_type": "stream",
     "text": [
      "Dowloading 296 / 328 files for 2023-01-31\n"
     ]
    },
    {
     "name": "stderr",
     "output_type": "stream",
     "text": [
      "INFO - 2025-07-29T13:25:43Z - Selected dataset version: \"202411\"\n",
      "INFO - 2025-07-29T13:25:43Z - Selected dataset part: \"default\"\n",
      "INFO - 2025-07-29T13:25:43Z - Listing files on remote server...\n",
      "17it [00:08,  2.12it/s]\n",
      "Downloading files: 100%|██████████| 1/1 [00:18<00:00, 18.22s/it]\n"
     ]
    },
    {
     "name": "stdout",
     "output_type": "stream",
     "text": [
      "Dowloading 297 / 328 files for 2023-02-14\n"
     ]
    },
    {
     "name": "stderr",
     "output_type": "stream",
     "text": [
      "INFO - 2025-07-29T13:26:19Z - Selected dataset version: \"202411\"\n",
      "INFO - 2025-07-29T13:26:19Z - Selected dataset part: \"default\"\n",
      "INFO - 2025-07-29T13:26:20Z - Listing files on remote server...\n",
      "17it [00:10,  1.56it/s]\n",
      "Downloading files: 100%|██████████| 1/1 [00:15<00:00, 15.33s/it]\n"
     ]
    },
    {
     "name": "stdout",
     "output_type": "stream",
     "text": [
      "Dowloading 298 / 328 files for 2023-03-06\n"
     ]
    },
    {
     "name": "stderr",
     "output_type": "stream",
     "text": [
      "INFO - 2025-07-29T13:26:57Z - Selected dataset version: \"202411\"\n",
      "INFO - 2025-07-29T13:26:57Z - Selected dataset part: \"default\"\n",
      "INFO - 2025-07-29T13:26:58Z - Listing files on remote server...\n",
      "17it [00:09,  1.73it/s]\n",
      "Downloading files: 100%|██████████| 1/1 [00:09<00:00,  9.66s/it]\n"
     ]
    },
    {
     "name": "stdout",
     "output_type": "stream",
     "text": [
      "Dowloading 299 / 328 files for 2023-03-20\n"
     ]
    },
    {
     "name": "stderr",
     "output_type": "stream",
     "text": [
      "INFO - 2025-07-29T13:27:29Z - Selected dataset version: \"202411\"\n",
      "INFO - 2025-07-29T13:27:29Z - Selected dataset part: \"default\"\n",
      "INFO - 2025-07-29T13:27:30Z - Listing files on remote server...\n",
      "17it [00:10,  1.67it/s]\n",
      "Downloading files: 100%|██████████| 1/1 [00:10<00:00, 10.18s/it]\n"
     ]
    },
    {
     "name": "stdout",
     "output_type": "stream",
     "text": [
      "Dowloading 300 / 328 files for 2023-03-22\n"
     ]
    },
    {
     "name": "stderr",
     "output_type": "stream",
     "text": [
      "INFO - 2025-07-29T13:28:02Z - Selected dataset version: \"202411\"\n",
      "INFO - 2025-07-29T13:28:02Z - Selected dataset part: \"default\"\n",
      "INFO - 2025-07-29T13:28:03Z - Listing files on remote server...\n",
      "17it [00:10,  1.60it/s]\n",
      "Downloading files: 100%|██████████| 1/1 [00:11<00:00, 11.03s/it]\n"
     ]
    },
    {
     "name": "stdout",
     "output_type": "stream",
     "text": [
      "Dowloading 301 / 328 files for 2023-04-03\n"
     ]
    },
    {
     "name": "stderr",
     "output_type": "stream",
     "text": [
      "INFO - 2025-07-29T13:28:35Z - Selected dataset version: \"202411\"\n",
      "INFO - 2025-07-29T13:28:35Z - Selected dataset part: \"default\"\n",
      "INFO - 2025-07-29T13:28:36Z - Listing files on remote server...\n",
      "17it [00:08,  2.02it/s]\n",
      "Downloading files: 100%|██████████| 1/1 [00:15<00:00, 15.99s/it]\n"
     ]
    },
    {
     "name": "stdout",
     "output_type": "stream",
     "text": [
      "Dowloading 302 / 328 files for 2023-04-23\n"
     ]
    },
    {
     "name": "stderr",
     "output_type": "stream",
     "text": [
      "INFO - 2025-07-29T13:29:09Z - Selected dataset version: \"202411\"\n",
      "INFO - 2025-07-29T13:29:09Z - Selected dataset part: \"default\"\n",
      "INFO - 2025-07-29T13:29:10Z - Listing files on remote server...\n",
      "17it [00:08,  1.97it/s]\n",
      "Downloading files: 100%|██████████| 1/1 [00:25<00:00, 25.60s/it]\n"
     ]
    },
    {
     "name": "stdout",
     "output_type": "stream",
     "text": [
      "Dowloading 303 / 328 files for 2023-04-24\n"
     ]
    },
    {
     "name": "stderr",
     "output_type": "stream",
     "text": [
      "INFO - 2025-07-29T13:29:56Z - Selected dataset version: \"202411\"\n",
      "INFO - 2025-07-29T13:29:56Z - Selected dataset part: \"default\"\n",
      "INFO - 2025-07-29T13:29:57Z - Listing files on remote server...\n",
      "17it [00:10,  1.63it/s]\n",
      "Downloading files: 100%|██████████| 1/1 [00:18<00:00, 18.98s/it]\n"
     ]
    },
    {
     "name": "stdout",
     "output_type": "stream",
     "text": [
      "Dowloading 304 / 328 files for 2023-04-26\n"
     ]
    },
    {
     "name": "stderr",
     "output_type": "stream",
     "text": [
      "INFO - 2025-07-29T13:30:39Z - Selected dataset version: \"202411\"\n",
      "INFO - 2025-07-29T13:30:39Z - Selected dataset part: \"default\"\n",
      "INFO - 2025-07-29T13:30:40Z - Listing files on remote server...\n",
      "17it [00:10,  1.69it/s]\n",
      "Downloading files: 100%|██████████| 1/1 [00:11<00:00, 11.66s/it]\n"
     ]
    },
    {
     "name": "stdout",
     "output_type": "stream",
     "text": [
      "Dowloading 305 / 328 files for 2023-05-04\n"
     ]
    },
    {
     "name": "stderr",
     "output_type": "stream",
     "text": [
      "INFO - 2025-07-29T13:31:12Z - Selected dataset version: \"202411\"\n",
      "INFO - 2025-07-29T13:31:12Z - Selected dataset part: \"default\"\n",
      "INFO - 2025-07-29T13:31:13Z - Listing files on remote server...\n",
      "17it [00:11,  1.52it/s]\n",
      "Downloading files: 100%|██████████| 1/1 [00:13<00:00, 13.13s/it]\n"
     ]
    },
    {
     "name": "stdout",
     "output_type": "stream",
     "text": [
      "Dowloading 306 / 328 files for 2023-05-05\n"
     ]
    },
    {
     "name": "stderr",
     "output_type": "stream",
     "text": [
      "INFO - 2025-07-29T13:31:49Z - Selected dataset version: \"202411\"\n",
      "INFO - 2025-07-29T13:31:49Z - Selected dataset part: \"default\"\n",
      "INFO - 2025-07-29T13:31:50Z - Listing files on remote server...\n",
      "17it [00:10,  1.70it/s]\n",
      "Downloading files: 100%|██████████| 1/1 [00:10<00:00, 10.51s/it]\n"
     ]
    },
    {
     "name": "stdout",
     "output_type": "stream",
     "text": [
      "Dowloading 307 / 328 files for 2023-05-23\n"
     ]
    },
    {
     "name": "stderr",
     "output_type": "stream",
     "text": [
      "INFO - 2025-07-29T13:32:21Z - Selected dataset version: \"202411\"\n",
      "INFO - 2025-07-29T13:32:21Z - Selected dataset part: \"default\"\n",
      "INFO - 2025-07-29T13:32:22Z - Listing files on remote server...\n",
      "17it [00:10,  1.57it/s]\n",
      "Downloading files: 100%|██████████| 1/1 [00:11<00:00, 11.18s/it]\n"
     ]
    },
    {
     "name": "stdout",
     "output_type": "stream",
     "text": [
      "Dowloading 308 / 328 files for 2023-05-27\n"
     ]
    },
    {
     "name": "stderr",
     "output_type": "stream",
     "text": [
      "INFO - 2025-07-29T13:32:53Z - Selected dataset version: \"202411\"\n",
      "INFO - 2025-07-29T13:32:53Z - Selected dataset part: \"default\"\n",
      "INFO - 2025-07-29T13:32:54Z - Listing files on remote server...\n",
      "17it [00:10,  1.57it/s]\n",
      "Downloading files: 100%|██████████| 1/1 [00:12<00:00, 12.09s/it]\n"
     ]
    },
    {
     "name": "stdout",
     "output_type": "stream",
     "text": [
      "Dowloading 309 / 328 files for 2023-06-01\n"
     ]
    },
    {
     "name": "stderr",
     "output_type": "stream",
     "text": [
      "INFO - 2025-07-29T13:33:28Z - Selected dataset version: \"202411\"\n",
      "INFO - 2025-07-29T13:33:28Z - Selected dataset part: \"default\"\n",
      "INFO - 2025-07-29T13:33:29Z - Listing files on remote server...\n",
      "17it [00:10,  1.67it/s]\n",
      "Downloading files: 100%|██████████| 1/1 [00:10<00:00, 10.29s/it]\n"
     ]
    },
    {
     "name": "stdout",
     "output_type": "stream",
     "text": [
      "Dowloading 310 / 328 files for 2023-06-05\n"
     ]
    },
    {
     "name": "stderr",
     "output_type": "stream",
     "text": [
      "INFO - 2025-07-29T13:34:00Z - Selected dataset version: \"202411\"\n",
      "INFO - 2025-07-29T13:34:00Z - Selected dataset part: \"default\"\n",
      "INFO - 2025-07-29T13:34:01Z - Listing files on remote server...\n",
      "17it [00:11,  1.50it/s]\n",
      "Downloading files: 100%|██████████| 1/1 [00:11<00:00, 11.24s/it]\n"
     ]
    },
    {
     "name": "stdout",
     "output_type": "stream",
     "text": [
      "Dowloading 311 / 328 files for 2023-06-06\n"
     ]
    },
    {
     "name": "stderr",
     "output_type": "stream",
     "text": [
      "INFO - 2025-07-29T13:34:35Z - Selected dataset version: \"202411\"\n",
      "INFO - 2025-07-29T13:34:35Z - Selected dataset part: \"default\"\n",
      "INFO - 2025-07-29T13:34:35Z - Listing files on remote server...\n",
      "17it [00:09,  1.85it/s]\n",
      "Downloading files: 100%|██████████| 1/1 [00:09<00:00,  9.97s/it]\n"
     ]
    },
    {
     "name": "stdout",
     "output_type": "stream",
     "text": [
      "Dowloading 312 / 328 files for 2023-06-19\n"
     ]
    },
    {
     "name": "stderr",
     "output_type": "stream",
     "text": [
      "INFO - 2025-07-29T13:35:05Z - Selected dataset version: \"202411\"\n",
      "INFO - 2025-07-29T13:35:05Z - Selected dataset part: \"default\"\n",
      "INFO - 2025-07-29T13:35:06Z - Listing files on remote server...\n",
      "17it [00:07,  2.14it/s]\n",
      "Downloading files: 100%|██████████| 1/1 [00:09<00:00,  9.83s/it]\n"
     ]
    },
    {
     "name": "stdout",
     "output_type": "stream",
     "text": [
      "Dowloading 313 / 328 files for 2023-06-21\n"
     ]
    },
    {
     "name": "stderr",
     "output_type": "stream",
     "text": [
      "INFO - 2025-07-29T13:35:33Z - Selected dataset version: \"202411\"\n",
      "INFO - 2025-07-29T13:35:33Z - Selected dataset part: \"default\"\n",
      "INFO - 2025-07-29T13:35:34Z - Listing files on remote server...\n",
      "17it [00:10,  1.56it/s]\n",
      "Downloading files: 100%|██████████| 1/1 [00:09<00:00,  9.83s/it]\n"
     ]
    },
    {
     "name": "stdout",
     "output_type": "stream",
     "text": [
      "Dowloading 314 / 328 files for 2023-07-18\n"
     ]
    },
    {
     "name": "stderr",
     "output_type": "stream",
     "text": [
      "INFO - 2025-07-29T13:36:04Z - Selected dataset version: \"202411\"\n",
      "INFO - 2025-07-29T13:36:04Z - Selected dataset part: \"default\"\n",
      "INFO - 2025-07-29T13:36:04Z - Listing files on remote server...\n",
      "17it [00:08,  2.06it/s]\n",
      "Downloading files: 100%|██████████| 1/1 [00:09<00:00,  9.52s/it]\n"
     ]
    },
    {
     "name": "stdout",
     "output_type": "stream",
     "text": [
      "Dowloading 315 / 328 files for 2023-07-19\n"
     ]
    },
    {
     "name": "stderr",
     "output_type": "stream",
     "text": [
      "INFO - 2025-07-29T13:36:32Z - Selected dataset version: \"202411\"\n",
      "INFO - 2025-07-29T13:36:32Z - Selected dataset part: \"default\"\n",
      "INFO - 2025-07-29T13:36:33Z - Listing files on remote server...\n",
      "17it [00:11,  1.48it/s]\n",
      "Downloading files: 100%|██████████| 1/1 [00:19<00:00, 19.33s/it]\n"
     ]
    },
    {
     "name": "stdout",
     "output_type": "stream",
     "text": [
      "Dowloading 316 / 328 files for 2023-08-03\n"
     ]
    },
    {
     "name": "stderr",
     "output_type": "stream",
     "text": [
      "INFO - 2025-07-29T13:37:16Z - Selected dataset version: \"202411\"\n",
      "INFO - 2025-07-29T13:37:16Z - Selected dataset part: \"default\"\n",
      "INFO - 2025-07-29T13:37:16Z - Listing files on remote server...\n",
      "17it [00:10,  1.55it/s]\n",
      "Downloading files: 100%|██████████| 1/1 [00:12<00:00, 12.08s/it]\n"
     ]
    },
    {
     "name": "stdout",
     "output_type": "stream",
     "text": [
      "Dowloading 317 / 328 files for 2023-08-08\n"
     ]
    },
    {
     "name": "stderr",
     "output_type": "stream",
     "text": [
      "INFO - 2025-07-29T13:37:49Z - Selected dataset version: \"202411\"\n",
      "INFO - 2025-07-29T13:37:49Z - Selected dataset part: \"default\"\n",
      "INFO - 2025-07-29T13:37:50Z - Listing files on remote server...\n",
      "17it [00:09,  1.83it/s]\n",
      "Downloading files: 100%|██████████| 1/1 [00:11<00:00, 11.78s/it]\n"
     ]
    },
    {
     "name": "stdout",
     "output_type": "stream",
     "text": [
      "Dowloading 318 / 328 files for 2023-08-09\n"
     ]
    },
    {
     "name": "stderr",
     "output_type": "stream",
     "text": [
      "INFO - 2025-07-29T13:38:21Z - Selected dataset version: \"202411\"\n",
      "INFO - 2025-07-29T13:38:21Z - Selected dataset part: \"default\"\n",
      "INFO - 2025-07-29T13:38:22Z - Listing files on remote server...\n",
      "17it [00:09,  1.85it/s]\n",
      "Downloading files: 100%|██████████| 1/1 [00:13<00:00, 13.39s/it]\n"
     ]
    },
    {
     "name": "stdout",
     "output_type": "stream",
     "text": [
      "Dowloading 319 / 328 files for 2023-08-17\n"
     ]
    },
    {
     "name": "stderr",
     "output_type": "stream",
     "text": [
      "INFO - 2025-07-29T13:38:53Z - Selected dataset version: \"202411\"\n",
      "INFO - 2025-07-29T13:38:53Z - Selected dataset part: \"default\"\n",
      "INFO - 2025-07-29T13:38:54Z - Listing files on remote server...\n",
      "17it [00:08,  1.97it/s]\n",
      "Downloading files: 100%|██████████| 1/1 [00:11<00:00, 11.26s/it]\n"
     ]
    },
    {
     "name": "stdout",
     "output_type": "stream",
     "text": [
      "Dowloading 320 / 328 files for 2023-08-23\n"
     ]
    },
    {
     "name": "stderr",
     "output_type": "stream",
     "text": [
      "INFO - 2025-07-29T13:39:24Z - Selected dataset version: \"202411\"\n",
      "INFO - 2025-07-29T13:39:24Z - Selected dataset part: \"default\"\n",
      "INFO - 2025-07-29T13:39:25Z - Listing files on remote server...\n",
      "17it [00:08,  2.12it/s]\n",
      "Downloading files: 100%|██████████| 1/1 [00:10<00:00, 11.00s/it]\n"
     ]
    },
    {
     "name": "stdout",
     "output_type": "stream",
     "text": [
      "Dowloading 321 / 328 files for 2023-08-26\n"
     ]
    },
    {
     "name": "stderr",
     "output_type": "stream",
     "text": [
      "INFO - 2025-07-29T13:39:52Z - Selected dataset version: \"202411\"\n",
      "INFO - 2025-07-29T13:39:52Z - Selected dataset part: \"default\"\n",
      "INFO - 2025-07-29T13:39:53Z - Listing files on remote server...\n",
      "17it [00:08,  1.90it/s]\n",
      "Downloading files: 100%|██████████| 1/1 [00:10<00:00, 10.09s/it]\n"
     ]
    },
    {
     "name": "stdout",
     "output_type": "stream",
     "text": [
      "Dowloading 322 / 328 files for 2023-08-31\n"
     ]
    },
    {
     "name": "stderr",
     "output_type": "stream",
     "text": [
      "INFO - 2025-07-29T13:40:24Z - Selected dataset version: \"202411\"\n",
      "INFO - 2025-07-29T13:40:24Z - Selected dataset part: \"default\"\n",
      "INFO - 2025-07-29T13:40:26Z - Listing files on remote server...\n",
      "17it [00:11,  1.46it/s]\n",
      "Downloading files: 100%|██████████| 1/1 [00:10<00:00, 10.24s/it]\n"
     ]
    },
    {
     "name": "stdout",
     "output_type": "stream",
     "text": [
      "Dowloading 323 / 328 files for 2023-09-26\n"
     ]
    },
    {
     "name": "stderr",
     "output_type": "stream",
     "text": [
      "INFO - 2025-07-29T13:40:59Z - Selected dataset version: \"202411\"\n",
      "INFO - 2025-07-29T13:40:59Z - Selected dataset part: \"default\"\n",
      "INFO - 2025-07-29T13:41:00Z - Listing files on remote server...\n",
      "17it [00:10,  1.55it/s]\n",
      "Downloading files: 100%|██████████| 1/1 [00:11<00:00, 11.17s/it]\n"
     ]
    },
    {
     "name": "stdout",
     "output_type": "stream",
     "text": [
      "Dowloading 324 / 328 files for 2023-10-03\n"
     ]
    },
    {
     "name": "stderr",
     "output_type": "stream",
     "text": [
      "INFO - 2025-07-29T13:41:32Z - Selected dataset version: \"202411\"\n",
      "INFO - 2025-07-29T13:41:32Z - Selected dataset part: \"default\"\n",
      "INFO - 2025-07-29T13:41:33Z - Listing files on remote server...\n",
      "17it [00:11,  1.44it/s]\n",
      "Downloading files: 100%|██████████| 1/1 [00:10<00:00, 10.65s/it]\n"
     ]
    },
    {
     "name": "stdout",
     "output_type": "stream",
     "text": [
      "Dowloading 325 / 328 files for 2023-11-18\n"
     ]
    },
    {
     "name": "stderr",
     "output_type": "stream",
     "text": [
      "INFO - 2025-07-29T13:42:08Z - Selected dataset version: \"202411\"\n",
      "INFO - 2025-07-29T13:42:08Z - Selected dataset part: \"default\"\n",
      "INFO - 2025-07-29T13:42:09Z - Listing files on remote server...\n",
      "17it [00:10,  1.59it/s]\n",
      "Downloading files: 100%|██████████| 1/1 [00:31<00:00, 31.85s/it]\n"
     ]
    },
    {
     "name": "stdout",
     "output_type": "stream",
     "text": [
      "Dowloading 326 / 328 files for 2023-12-05\n"
     ]
    },
    {
     "name": "stderr",
     "output_type": "stream",
     "text": [
      "INFO - 2025-07-29T13:43:01Z - Selected dataset version: \"202411\"\n",
      "INFO - 2025-07-29T13:43:01Z - Selected dataset part: \"default\"\n",
      "INFO - 2025-07-29T13:43:02Z - Listing files on remote server...\n",
      "17it [00:09,  1.71it/s]\n",
      "Downloading files: 100%|██████████| 1/1 [00:17<00:00, 17.63s/it]\n"
     ]
    },
    {
     "name": "stdout",
     "output_type": "stream",
     "text": [
      "Dowloading 327 / 328 files for 2023-12-19\n"
     ]
    },
    {
     "name": "stderr",
     "output_type": "stream",
     "text": [
      "INFO - 2025-07-29T13:43:41Z - Selected dataset version: \"202411\"\n",
      "INFO - 2025-07-29T13:43:41Z - Selected dataset part: \"default\"\n",
      "INFO - 2025-07-29T13:43:42Z - Listing files on remote server...\n",
      "17it [00:10,  1.61it/s]\n",
      "Downloading files: 100%|██████████| 1/1 [00:11<00:00, 11.22s/it]"
     ]
    },
    {
     "name": "stdout",
     "output_type": "stream",
     "text": [
      "Dowloading 328 / 328 files for 2023-12-28\n"
     ]
    },
    {
     "name": "stderr",
     "output_type": "stream",
     "text": [
      "\n"
     ]
    }
   ],
   "source": [
    "i=0\n",
    "for date in sampled_dates:\n",
    "    i += 1\n",
    "    year = date.year\n",
    "    month = date.month \n",
    "    if month < 10:\n",
    "        month = f'0{month}'             \n",
    "    day = date.day\n",
    "    if day < 10:\n",
    "        day = f'0{day}'\n",
    "    cm.get(\n",
    "        username = 'your_username',\n",
    "        password = 'your_password',\n",
    "        dataset_id  = datasetID,\n",
    "        filter=f'*{year}{month}{day}*'\n",
    "        )\n",
    "    print(f'Dowloading {i} / 328 files for {year}-{month}-{day}')"
   ]
  },
  {
   "cell_type": "markdown",
   "id": "2cb4a96f",
   "metadata": {},
   "source": [
    "### 🛠️ Spatial filtering\n",
    "\n",
    "I filtered the files using the same method I used in the 02_Spatial_filtering notebook. I will remove the dowloaded files to reduce the space it takes on my computer."
   ]
  },
  {
   "cell_type": "code",
   "execution_count": 17,
   "id": "d645bde0",
   "metadata": {},
   "outputs": [],
   "source": [
    "import xarray as xr\n",
    "import numpy as np\n",
    "from shapely.geometry import shape\n",
    "import geopandas as gpd\n",
    "import os\n",
    "import time\n",
    "import gc"
   ]
  },
  {
   "cell_type": "code",
   "execution_count": 18,
   "id": "ef6af870",
   "metadata": {},
   "outputs": [
    {
     "data": {
      "text/html": [
       "<div><svg style=\"position: absolute; width: 0; height: 0; overflow: hidden\">\n",
       "<defs>\n",
       "<symbol id=\"icon-database\" viewBox=\"0 0 32 32\">\n",
       "<path d=\"M16 0c-8.837 0-16 2.239-16 5v4c0 2.761 7.163 5 16 5s16-2.239 16-5v-4c0-2.761-7.163-5-16-5z\"></path>\n",
       "<path d=\"M16 17c-8.837 0-16-2.239-16-5v6c0 2.761 7.163 5 16 5s16-2.239 16-5v-6c0 2.761-7.163 5-16 5z\"></path>\n",
       "<path d=\"M16 26c-8.837 0-16-2.239-16-5v6c0 2.761 7.163 5 16 5s16-2.239 16-5v-6c0 2.761-7.163 5-16 5z\"></path>\n",
       "</symbol>\n",
       "<symbol id=\"icon-file-text2\" viewBox=\"0 0 32 32\">\n",
       "<path d=\"M28.681 7.159c-0.694-0.947-1.662-2.053-2.724-3.116s-2.169-2.030-3.116-2.724c-1.612-1.182-2.393-1.319-2.841-1.319h-15.5c-1.378 0-2.5 1.121-2.5 2.5v27c0 1.378 1.122 2.5 2.5 2.5h23c1.378 0 2.5-1.122 2.5-2.5v-19.5c0-0.448-0.137-1.23-1.319-2.841zM24.543 5.457c0.959 0.959 1.712 1.825 2.268 2.543h-4.811v-4.811c0.718 0.556 1.584 1.309 2.543 2.268zM28 29.5c0 0.271-0.229 0.5-0.5 0.5h-23c-0.271 0-0.5-0.229-0.5-0.5v-27c0-0.271 0.229-0.5 0.5-0.5 0 0 15.499-0 15.5 0v7c0 0.552 0.448 1 1 1h7v19.5z\"></path>\n",
       "<path d=\"M23 26h-14c-0.552 0-1-0.448-1-1s0.448-1 1-1h14c0.552 0 1 0.448 1 1s-0.448 1-1 1z\"></path>\n",
       "<path d=\"M23 22h-14c-0.552 0-1-0.448-1-1s0.448-1 1-1h14c0.552 0 1 0.448 1 1s-0.448 1-1 1z\"></path>\n",
       "<path d=\"M23 18h-14c-0.552 0-1-0.448-1-1s0.448-1 1-1h14c0.552 0 1 0.448 1 1s-0.448 1-1 1z\"></path>\n",
       "</symbol>\n",
       "</defs>\n",
       "</svg>\n",
       "<style>/* CSS stylesheet for displaying xarray objects in jupyterlab.\n",
       " *\n",
       " */\n",
       "\n",
       ":root {\n",
       "  --xr-font-color0: var(--jp-content-font-color0, rgba(0, 0, 0, 1));\n",
       "  --xr-font-color2: var(--jp-content-font-color2, rgba(0, 0, 0, 0.54));\n",
       "  --xr-font-color3: var(--jp-content-font-color3, rgba(0, 0, 0, 0.38));\n",
       "  --xr-border-color: var(--jp-border-color2, #e0e0e0);\n",
       "  --xr-disabled-color: var(--jp-layout-color3, #bdbdbd);\n",
       "  --xr-background-color: var(--jp-layout-color0, white);\n",
       "  --xr-background-color-row-even: var(--jp-layout-color1, white);\n",
       "  --xr-background-color-row-odd: var(--jp-layout-color2, #eeeeee);\n",
       "}\n",
       "\n",
       "html[theme=\"dark\"],\n",
       "html[data-theme=\"dark\"],\n",
       "body[data-theme=\"dark\"],\n",
       "body.vscode-dark {\n",
       "  --xr-font-color0: rgba(255, 255, 255, 1);\n",
       "  --xr-font-color2: rgba(255, 255, 255, 0.54);\n",
       "  --xr-font-color3: rgba(255, 255, 255, 0.38);\n",
       "  --xr-border-color: #1f1f1f;\n",
       "  --xr-disabled-color: #515151;\n",
       "  --xr-background-color: #111111;\n",
       "  --xr-background-color-row-even: #111111;\n",
       "  --xr-background-color-row-odd: #313131;\n",
       "}\n",
       "\n",
       ".xr-wrap {\n",
       "  display: block !important;\n",
       "  min-width: 300px;\n",
       "  max-width: 700px;\n",
       "}\n",
       "\n",
       ".xr-text-repr-fallback {\n",
       "  /* fallback to plain text repr when CSS is not injected (untrusted notebook) */\n",
       "  display: none;\n",
       "}\n",
       "\n",
       ".xr-header {\n",
       "  padding-top: 6px;\n",
       "  padding-bottom: 6px;\n",
       "  margin-bottom: 4px;\n",
       "  border-bottom: solid 1px var(--xr-border-color);\n",
       "}\n",
       "\n",
       ".xr-header > div,\n",
       ".xr-header > ul {\n",
       "  display: inline;\n",
       "  margin-top: 0;\n",
       "  margin-bottom: 0;\n",
       "}\n",
       "\n",
       ".xr-obj-type,\n",
       ".xr-array-name {\n",
       "  margin-left: 2px;\n",
       "  margin-right: 10px;\n",
       "}\n",
       "\n",
       ".xr-obj-type {\n",
       "  color: var(--xr-font-color2);\n",
       "}\n",
       "\n",
       ".xr-sections {\n",
       "  padding-left: 0 !important;\n",
       "  display: grid;\n",
       "  grid-template-columns: 150px auto auto 1fr 0 20px 0 20px;\n",
       "}\n",
       "\n",
       ".xr-section-item {\n",
       "  display: contents;\n",
       "}\n",
       "\n",
       ".xr-section-item input {\n",
       "  display: inline-block;\n",
       "  opacity: 0;\n",
       "  height: 0;\n",
       "}\n",
       "\n",
       ".xr-section-item input + label {\n",
       "  color: var(--xr-disabled-color);\n",
       "}\n",
       "\n",
       ".xr-section-item input:enabled + label {\n",
       "  cursor: pointer;\n",
       "  color: var(--xr-font-color2);\n",
       "}\n",
       "\n",
       ".xr-section-item input:focus + label {\n",
       "  border: 2px solid var(--xr-font-color0);\n",
       "}\n",
       "\n",
       ".xr-section-item input:enabled + label:hover {\n",
       "  color: var(--xr-font-color0);\n",
       "}\n",
       "\n",
       ".xr-section-summary {\n",
       "  grid-column: 1;\n",
       "  color: var(--xr-font-color2);\n",
       "  font-weight: 500;\n",
       "}\n",
       "\n",
       ".xr-section-summary > span {\n",
       "  display: inline-block;\n",
       "  padding-left: 0.5em;\n",
       "}\n",
       "\n",
       ".xr-section-summary-in:disabled + label {\n",
       "  color: var(--xr-font-color2);\n",
       "}\n",
       "\n",
       ".xr-section-summary-in + label:before {\n",
       "  display: inline-block;\n",
       "  content: \"►\";\n",
       "  font-size: 11px;\n",
       "  width: 15px;\n",
       "  text-align: center;\n",
       "}\n",
       "\n",
       ".xr-section-summary-in:disabled + label:before {\n",
       "  color: var(--xr-disabled-color);\n",
       "}\n",
       "\n",
       ".xr-section-summary-in:checked + label:before {\n",
       "  content: \"▼\";\n",
       "}\n",
       "\n",
       ".xr-section-summary-in:checked + label > span {\n",
       "  display: none;\n",
       "}\n",
       "\n",
       ".xr-section-summary,\n",
       ".xr-section-inline-details {\n",
       "  padding-top: 4px;\n",
       "  padding-bottom: 4px;\n",
       "}\n",
       "\n",
       ".xr-section-inline-details {\n",
       "  grid-column: 2 / -1;\n",
       "}\n",
       "\n",
       ".xr-section-details {\n",
       "  display: none;\n",
       "  grid-column: 1 / -1;\n",
       "  margin-bottom: 5px;\n",
       "}\n",
       "\n",
       ".xr-section-summary-in:checked ~ .xr-section-details {\n",
       "  display: contents;\n",
       "}\n",
       "\n",
       ".xr-array-wrap {\n",
       "  grid-column: 1 / -1;\n",
       "  display: grid;\n",
       "  grid-template-columns: 20px auto;\n",
       "}\n",
       "\n",
       ".xr-array-wrap > label {\n",
       "  grid-column: 1;\n",
       "  vertical-align: top;\n",
       "}\n",
       "\n",
       ".xr-preview {\n",
       "  color: var(--xr-font-color3);\n",
       "}\n",
       "\n",
       ".xr-array-preview,\n",
       ".xr-array-data {\n",
       "  padding: 0 5px !important;\n",
       "  grid-column: 2;\n",
       "}\n",
       "\n",
       ".xr-array-data,\n",
       ".xr-array-in:checked ~ .xr-array-preview {\n",
       "  display: none;\n",
       "}\n",
       "\n",
       ".xr-array-in:checked ~ .xr-array-data,\n",
       ".xr-array-preview {\n",
       "  display: inline-block;\n",
       "}\n",
       "\n",
       ".xr-dim-list {\n",
       "  display: inline-block !important;\n",
       "  list-style: none;\n",
       "  padding: 0 !important;\n",
       "  margin: 0;\n",
       "}\n",
       "\n",
       ".xr-dim-list li {\n",
       "  display: inline-block;\n",
       "  padding: 0;\n",
       "  margin: 0;\n",
       "}\n",
       "\n",
       ".xr-dim-list:before {\n",
       "  content: \"(\";\n",
       "}\n",
       "\n",
       ".xr-dim-list:after {\n",
       "  content: \")\";\n",
       "}\n",
       "\n",
       ".xr-dim-list li:not(:last-child):after {\n",
       "  content: \",\";\n",
       "  padding-right: 5px;\n",
       "}\n",
       "\n",
       ".xr-has-index {\n",
       "  font-weight: bold;\n",
       "}\n",
       "\n",
       ".xr-var-list,\n",
       ".xr-var-item {\n",
       "  display: contents;\n",
       "}\n",
       "\n",
       ".xr-var-item > div,\n",
       ".xr-var-item label,\n",
       ".xr-var-item > .xr-var-name span {\n",
       "  background-color: var(--xr-background-color-row-even);\n",
       "  margin-bottom: 0;\n",
       "}\n",
       "\n",
       ".xr-var-item > .xr-var-name:hover span {\n",
       "  padding-right: 5px;\n",
       "}\n",
       "\n",
       ".xr-var-list > li:nth-child(odd) > div,\n",
       ".xr-var-list > li:nth-child(odd) > label,\n",
       ".xr-var-list > li:nth-child(odd) > .xr-var-name span {\n",
       "  background-color: var(--xr-background-color-row-odd);\n",
       "}\n",
       "\n",
       ".xr-var-name {\n",
       "  grid-column: 1;\n",
       "}\n",
       "\n",
       ".xr-var-dims {\n",
       "  grid-column: 2;\n",
       "}\n",
       "\n",
       ".xr-var-dtype {\n",
       "  grid-column: 3;\n",
       "  text-align: right;\n",
       "  color: var(--xr-font-color2);\n",
       "}\n",
       "\n",
       ".xr-var-preview {\n",
       "  grid-column: 4;\n",
       "}\n",
       "\n",
       ".xr-index-preview {\n",
       "  grid-column: 2 / 5;\n",
       "  color: var(--xr-font-color2);\n",
       "}\n",
       "\n",
       ".xr-var-name,\n",
       ".xr-var-dims,\n",
       ".xr-var-dtype,\n",
       ".xr-preview,\n",
       ".xr-attrs dt {\n",
       "  white-space: nowrap;\n",
       "  overflow: hidden;\n",
       "  text-overflow: ellipsis;\n",
       "  padding-right: 10px;\n",
       "}\n",
       "\n",
       ".xr-var-name:hover,\n",
       ".xr-var-dims:hover,\n",
       ".xr-var-dtype:hover,\n",
       ".xr-attrs dt:hover {\n",
       "  overflow: visible;\n",
       "  width: auto;\n",
       "  z-index: 1;\n",
       "}\n",
       "\n",
       ".xr-var-attrs,\n",
       ".xr-var-data,\n",
       ".xr-index-data {\n",
       "  display: none;\n",
       "  background-color: var(--xr-background-color) !important;\n",
       "  padding-bottom: 5px !important;\n",
       "}\n",
       "\n",
       ".xr-var-attrs-in:checked ~ .xr-var-attrs,\n",
       ".xr-var-data-in:checked ~ .xr-var-data,\n",
       ".xr-index-data-in:checked ~ .xr-index-data {\n",
       "  display: block;\n",
       "}\n",
       "\n",
       ".xr-var-data > table {\n",
       "  float: right;\n",
       "}\n",
       "\n",
       ".xr-var-name span,\n",
       ".xr-var-data,\n",
       ".xr-index-name div,\n",
       ".xr-index-data,\n",
       ".xr-attrs {\n",
       "  padding-left: 25px !important;\n",
       "}\n",
       "\n",
       ".xr-attrs,\n",
       ".xr-var-attrs,\n",
       ".xr-var-data,\n",
       ".xr-index-data {\n",
       "  grid-column: 1 / -1;\n",
       "}\n",
       "\n",
       "dl.xr-attrs {\n",
       "  padding: 0;\n",
       "  margin: 0;\n",
       "  display: grid;\n",
       "  grid-template-columns: 125px auto;\n",
       "}\n",
       "\n",
       ".xr-attrs dt,\n",
       ".xr-attrs dd {\n",
       "  padding: 0;\n",
       "  margin: 0;\n",
       "  float: left;\n",
       "  padding-right: 10px;\n",
       "  width: auto;\n",
       "}\n",
       "\n",
       ".xr-attrs dt {\n",
       "  font-weight: normal;\n",
       "  grid-column: 1;\n",
       "}\n",
       "\n",
       ".xr-attrs dt:hover span {\n",
       "  display: inline-block;\n",
       "  background: var(--xr-background-color);\n",
       "  padding-right: 10px;\n",
       "}\n",
       "\n",
       ".xr-attrs dd {\n",
       "  grid-column: 2;\n",
       "  white-space: pre-wrap;\n",
       "  word-break: break-all;\n",
       "}\n",
       "\n",
       ".xr-icon-database,\n",
       ".xr-icon-file-text2,\n",
       ".xr-no-icon {\n",
       "  display: inline-block;\n",
       "  vertical-align: middle;\n",
       "  width: 1em;\n",
       "  height: 1.5em !important;\n",
       "  stroke-width: 0;\n",
       "  stroke: currentColor;\n",
       "  fill: currentColor;\n",
       "}\n",
       "</style><pre class='xr-text-repr-fallback'>&lt;xarray.Dataset&gt; Size: 1GB\n",
       "Dimensions:    (lat: 775, lon: 764, time: 24)\n",
       "Coordinates:\n",
       "  * lat        (lat) float32 3kB 53.01 53.02 53.04 53.06 ... 65.87 65.89 65.91\n",
       "  * lon        (lon) float32 3kB 9.014 9.042 9.069 9.097 ... 30.15 30.18 30.21\n",
       "  * time       (time) datetime64[ns] 192B 2015-01-02T01:00:00 ... 2015-01-03\n",
       "Data variables: (12/19)\n",
       "    VHM0       (time, lat, lon) float32 57MB ...\n",
       "    VTPK       (time, lat, lon) float32 57MB ...\n",
       "    VTM10      (time, lat, lon) float32 57MB ...\n",
       "    VTM02      (time, lat, lon) float32 57MB ...\n",
       "    VMDR       (time, lat, lon) float32 57MB ...\n",
       "    VHM0_WW    (time, lat, lon) float32 57MB ...\n",
       "    ...         ...\n",
       "    VTM01_SW2  (time, lat, lon) float32 57MB ...\n",
       "    VMDR_SW2   (time, lat, lon) float32 57MB ...\n",
       "    VSDX       (time, lat, lon) float32 57MB ...\n",
       "    VSDY       (time, lat, lon) float32 57MB ...\n",
       "    VMXL       (time, lat, lon) float32 57MB ...\n",
       "    VCMX       (time, lat, lon) float32 57MB ...\n",
       "Attributes:\n",
       "    Conventions:            CF-1.0\n",
       "    source:                 FMI-WAM_CMEMS\n",
       "    institution:            Baltic MFC, PU Finnish Meteorological Institute\n",
       "    title:                  2D - Hourly Instantaneous\n",
       "    cmems_product_id:       BALTICSEA_MULTIYEAR_WAV_003_015\n",
       "    westernmost_longitude:  9.0138\n",
       "    easternmost_longitude:  30.2080\n",
       "    southernmost_latitude:  53.0083\n",
       "    northernmost_latitude:  65.9081\n",
       "    grid_resolution:        1 nautical mile (ie. 0.0167 degrees northward; 0....</pre><div class='xr-wrap' style='display:none'><div class='xr-header'><div class='xr-obj-type'>xarray.Dataset</div></div><ul class='xr-sections'><li class='xr-section-item'><input id='section-19ae6d66-13bd-4ea5-923f-fa6f2b4e53f0' class='xr-section-summary-in' type='checkbox' disabled ><label for='section-19ae6d66-13bd-4ea5-923f-fa6f2b4e53f0' class='xr-section-summary'  title='Expand/collapse section'>Dimensions:</label><div class='xr-section-inline-details'><ul class='xr-dim-list'><li><span class='xr-has-index'>lat</span>: 775</li><li><span class='xr-has-index'>lon</span>: 764</li><li><span class='xr-has-index'>time</span>: 24</li></ul></div><div class='xr-section-details'></div></li><li class='xr-section-item'><input id='section-7b035e1a-38b3-4708-aed8-5744fc823294' class='xr-section-summary-in' type='checkbox'  checked><label for='section-7b035e1a-38b3-4708-aed8-5744fc823294' class='xr-section-summary' >Coordinates: <span>(3)</span></label><div class='xr-section-inline-details'></div><div class='xr-section-details'><ul class='xr-var-list'><li class='xr-var-item'><div class='xr-var-name'><span class='xr-has-index'>lat</span></div><div class='xr-var-dims'>(lat)</div><div class='xr-var-dtype'>float32</div><div class='xr-var-preview xr-preview'>53.01 53.02 53.04 ... 65.89 65.91</div><input id='attrs-ad9eb4a3-2960-4e9e-9713-4807439444f6' class='xr-var-attrs-in' type='checkbox' ><label for='attrs-ad9eb4a3-2960-4e9e-9713-4807439444f6' title='Show/Hide attributes'><svg class='icon xr-icon-file-text2'><use xlink:href='#icon-file-text2'></use></svg></label><input id='data-6e980d53-2243-4e0e-9b01-1a12bd5c9443' class='xr-var-data-in' type='checkbox'><label for='data-6e980d53-2243-4e0e-9b01-1a12bd5c9443' title='Show/Hide data repr'><svg class='icon xr-icon-database'><use xlink:href='#icon-database'></use></svg></label><div class='xr-var-attrs'><dl class='xr-attrs'><dt><span>standard_name :</span></dt><dd>latitude</dd><dt><span>long_name :</span></dt><dd>latitude</dd><dt><span>units :</span></dt><dd>degrees_north</dd><dt><span>axis :</span></dt><dd>Y</dd></dl></div><div class='xr-var-data'><pre>array([53.00829 , 53.024956, 53.041622, ..., 65.87444 , 65.891106, 65.907776],\n",
       "      shape=(775,), dtype=float32)</pre></div></li><li class='xr-var-item'><div class='xr-var-name'><span class='xr-has-index'>lon</span></div><div class='xr-var-dims'>(lon)</div><div class='xr-var-dtype'>float32</div><div class='xr-var-preview xr-preview'>9.014 9.042 9.069 ... 30.18 30.21</div><input id='attrs-dcccb17e-a597-4075-a8cc-c954fcdb59a4' class='xr-var-attrs-in' type='checkbox' ><label for='attrs-dcccb17e-a597-4075-a8cc-c954fcdb59a4' title='Show/Hide attributes'><svg class='icon xr-icon-file-text2'><use xlink:href='#icon-file-text2'></use></svg></label><input id='data-db2a9a25-d8ac-40f0-9f6b-f3ad85375e8b' class='xr-var-data-in' type='checkbox'><label for='data-db2a9a25-d8ac-40f0-9f6b-f3ad85375e8b' title='Show/Hide data repr'><svg class='icon xr-icon-database'><use xlink:href='#icon-database'></use></svg></label><div class='xr-var-attrs'><dl class='xr-attrs'><dt><span>standard_name :</span></dt><dd>longitude</dd><dt><span>long_name :</span></dt><dd>longitude</dd><dt><span>units :</span></dt><dd>degrees_east</dd><dt><span>axis :</span></dt><dd>X</dd></dl></div><div class='xr-var-data'><pre>array([ 9.013887,  9.041664,  9.069442, ..., 30.152184, 30.17996 , 30.207739],\n",
       "      shape=(764,), dtype=float32)</pre></div></li><li class='xr-var-item'><div class='xr-var-name'><span class='xr-has-index'>time</span></div><div class='xr-var-dims'>(time)</div><div class='xr-var-dtype'>datetime64[ns]</div><div class='xr-var-preview xr-preview'>2015-01-02T01:00:00 ... 2015-01-03</div><input id='attrs-9ec0aaa5-b8e0-4fc4-8480-95b63afe5608' class='xr-var-attrs-in' type='checkbox' ><label for='attrs-9ec0aaa5-b8e0-4fc4-8480-95b63afe5608' title='Show/Hide attributes'><svg class='icon xr-icon-file-text2'><use xlink:href='#icon-file-text2'></use></svg></label><input id='data-aa8c6b5b-e732-4cd1-bcd1-4a7555bc5fc4' class='xr-var-data-in' type='checkbox'><label for='data-aa8c6b5b-e732-4cd1-bcd1-4a7555bc5fc4' title='Show/Hide data repr'><svg class='icon xr-icon-database'><use xlink:href='#icon-database'></use></svg></label><div class='xr-var-attrs'><dl class='xr-attrs'><dt><span>standard_name :</span></dt><dd>time</dd><dt><span>long_name :</span></dt><dd>time</dd><dt><span>cell_methods :</span></dt><dd>time: mean</dd></dl></div><div class='xr-var-data'><pre>array([&#x27;2015-01-02T01:00:00.000000000&#x27;, &#x27;2015-01-02T02:00:00.000000000&#x27;,\n",
       "       &#x27;2015-01-02T03:00:00.000000000&#x27;, &#x27;2015-01-02T04:00:00.000000000&#x27;,\n",
       "       &#x27;2015-01-02T05:00:00.000000000&#x27;, &#x27;2015-01-02T06:00:00.000000000&#x27;,\n",
       "       &#x27;2015-01-02T07:00:00.000000000&#x27;, &#x27;2015-01-02T08:00:00.000000000&#x27;,\n",
       "       &#x27;2015-01-02T09:00:00.000000000&#x27;, &#x27;2015-01-02T10:00:00.000000000&#x27;,\n",
       "       &#x27;2015-01-02T11:00:00.000000000&#x27;, &#x27;2015-01-02T12:00:00.000000000&#x27;,\n",
       "       &#x27;2015-01-02T13:00:00.000000000&#x27;, &#x27;2015-01-02T14:00:00.000000000&#x27;,\n",
       "       &#x27;2015-01-02T15:00:00.000000000&#x27;, &#x27;2015-01-02T16:00:00.000000000&#x27;,\n",
       "       &#x27;2015-01-02T17:00:00.000000000&#x27;, &#x27;2015-01-02T18:00:00.000000000&#x27;,\n",
       "       &#x27;2015-01-02T19:00:00.000000000&#x27;, &#x27;2015-01-02T20:00:00.000000000&#x27;,\n",
       "       &#x27;2015-01-02T21:00:00.000000000&#x27;, &#x27;2015-01-02T22:00:00.000000000&#x27;,\n",
       "       &#x27;2015-01-02T23:00:00.000000000&#x27;, &#x27;2015-01-03T00:00:00.000000000&#x27;],\n",
       "      dtype=&#x27;datetime64[ns]&#x27;)</pre></div></li></ul></div></li><li class='xr-section-item'><input id='section-a027e06e-f119-446f-be25-aba323ef5bbc' class='xr-section-summary-in' type='checkbox'  ><label for='section-a027e06e-f119-446f-be25-aba323ef5bbc' class='xr-section-summary' >Data variables: <span>(19)</span></label><div class='xr-section-inline-details'></div><div class='xr-section-details'><ul class='xr-var-list'><li class='xr-var-item'><div class='xr-var-name'><span>VHM0</span></div><div class='xr-var-dims'>(time, lat, lon)</div><div class='xr-var-dtype'>float32</div><div class='xr-var-preview xr-preview'>...</div><input id='attrs-e58afc60-3b2e-442f-ba9a-ba9f4bdb76de' class='xr-var-attrs-in' type='checkbox' ><label for='attrs-e58afc60-3b2e-442f-ba9a-ba9f4bdb76de' title='Show/Hide attributes'><svg class='icon xr-icon-file-text2'><use xlink:href='#icon-file-text2'></use></svg></label><input id='data-c49d0d0d-d9f1-45cf-9a29-89a50ef5ff76' class='xr-var-data-in' type='checkbox'><label for='data-c49d0d0d-d9f1-45cf-9a29-89a50ef5ff76' title='Show/Hide data repr'><svg class='icon xr-icon-database'><use xlink:href='#icon-database'></use></svg></label><div class='xr-var-attrs'><dl class='xr-attrs'><dt><span>long_name :</span></dt><dd>Spectral significant wave height (Hm0)</dd><dt><span>standard_name :</span></dt><dd>sea_surface_wave_significant_height</dd><dt><span>units :</span></dt><dd>m</dd><dt><span>valid_min :</span></dt><dd>0.0</dd><dt><span>valid_max :</span></dt><dd>20.0</dd><dt><span>cell_methods :</span></dt><dd>time: mean</dd></dl></div><div class='xr-var-data'><pre>[14210400 values with dtype=float32]</pre></div></li><li class='xr-var-item'><div class='xr-var-name'><span>VTPK</span></div><div class='xr-var-dims'>(time, lat, lon)</div><div class='xr-var-dtype'>float32</div><div class='xr-var-preview xr-preview'>...</div><input id='attrs-c1902ea5-4284-40b6-9dc5-6bc89ff9cc69' class='xr-var-attrs-in' type='checkbox' ><label for='attrs-c1902ea5-4284-40b6-9dc5-6bc89ff9cc69' title='Show/Hide attributes'><svg class='icon xr-icon-file-text2'><use xlink:href='#icon-file-text2'></use></svg></label><input id='data-28a71f66-346b-4b51-aa6f-2bddb263e46d' class='xr-var-data-in' type='checkbox'><label for='data-28a71f66-346b-4b51-aa6f-2bddb263e46d' title='Show/Hide data repr'><svg class='icon xr-icon-database'><use xlink:href='#icon-database'></use></svg></label><div class='xr-var-attrs'><dl class='xr-attrs'><dt><span>long_name :</span></dt><dd>Wave period at spectral peak / peak period (Tp)</dd><dt><span>standard_name :</span></dt><dd>sea_surface_wave_period_at_variance_spectral_density_maximum</dd><dt><span>units :</span></dt><dd>s</dd><dt><span>valid_min :</span></dt><dd>0.0</dd><dt><span>valid_max :</span></dt><dd>30.0</dd><dt><span>cell_methods :</span></dt><dd>time: mean</dd></dl></div><div class='xr-var-data'><pre>[14210400 values with dtype=float32]</pre></div></li><li class='xr-var-item'><div class='xr-var-name'><span>VTM10</span></div><div class='xr-var-dims'>(time, lat, lon)</div><div class='xr-var-dtype'>float32</div><div class='xr-var-preview xr-preview'>...</div><input id='attrs-97315ee5-9d70-4b04-ab20-fd49c63e53c2' class='xr-var-attrs-in' type='checkbox' ><label for='attrs-97315ee5-9d70-4b04-ab20-fd49c63e53c2' title='Show/Hide attributes'><svg class='icon xr-icon-file-text2'><use xlink:href='#icon-file-text2'></use></svg></label><input id='data-ff2bd689-89c4-492d-a0e8-d1381c8a6f3f' class='xr-var-data-in' type='checkbox'><label for='data-ff2bd689-89c4-492d-a0e8-d1381c8a6f3f' title='Show/Hide data repr'><svg class='icon xr-icon-database'><use xlink:href='#icon-database'></use></svg></label><div class='xr-var-attrs'><dl class='xr-attrs'><dt><span>long_name :</span></dt><dd>Spectral moments (-1,0) wave period (Tm-10)</dd><dt><span>standard_name :</span></dt><dd>sea_surface_wave_mean_period_from_variance_spectral_density_inverse_frequency_moment</dd><dt><span>units :</span></dt><dd>s</dd><dt><span>valid_min :</span></dt><dd>0.0</dd><dt><span>valid_max :</span></dt><dd>20.0</dd><dt><span>cell_methods :</span></dt><dd>time: mean</dd></dl></div><div class='xr-var-data'><pre>[14210400 values with dtype=float32]</pre></div></li><li class='xr-var-item'><div class='xr-var-name'><span>VTM02</span></div><div class='xr-var-dims'>(time, lat, lon)</div><div class='xr-var-dtype'>float32</div><div class='xr-var-preview xr-preview'>...</div><input id='attrs-4c31d595-9520-44fe-b7e7-716ea71a2927' class='xr-var-attrs-in' type='checkbox' ><label for='attrs-4c31d595-9520-44fe-b7e7-716ea71a2927' title='Show/Hide attributes'><svg class='icon xr-icon-file-text2'><use xlink:href='#icon-file-text2'></use></svg></label><input id='data-bce3dc87-0617-4d75-88cd-e4cece5aa0b2' class='xr-var-data-in' type='checkbox'><label for='data-bce3dc87-0617-4d75-88cd-e4cece5aa0b2' title='Show/Hide data repr'><svg class='icon xr-icon-database'><use xlink:href='#icon-database'></use></svg></label><div class='xr-var-attrs'><dl class='xr-attrs'><dt><span>long_name :</span></dt><dd>Spectral moments (0,2) wave period (Tm02)</dd><dt><span>standard_name :</span></dt><dd>sea_surface_wave_mean_period_from_variance_spectral_density_second_frequency_moment</dd><dt><span>units :</span></dt><dd>s</dd><dt><span>valid_min :</span></dt><dd>0.0</dd><dt><span>valid_max :</span></dt><dd>20.0</dd><dt><span>cell_methods :</span></dt><dd>time: mean</dd></dl></div><div class='xr-var-data'><pre>[14210400 values with dtype=float32]</pre></div></li><li class='xr-var-item'><div class='xr-var-name'><span>VMDR</span></div><div class='xr-var-dims'>(time, lat, lon)</div><div class='xr-var-dtype'>float32</div><div class='xr-var-preview xr-preview'>...</div><input id='attrs-2e1667f4-ffdd-431a-a049-58a4ca50af48' class='xr-var-attrs-in' type='checkbox' ><label for='attrs-2e1667f4-ffdd-431a-a049-58a4ca50af48' title='Show/Hide attributes'><svg class='icon xr-icon-file-text2'><use xlink:href='#icon-file-text2'></use></svg></label><input id='data-b970cd8c-c686-4d01-99c7-5f822ea2e3d4' class='xr-var-data-in' type='checkbox'><label for='data-b970cd8c-c686-4d01-99c7-5f822ea2e3d4' title='Show/Hide data repr'><svg class='icon xr-icon-database'><use xlink:href='#icon-database'></use></svg></label><div class='xr-var-attrs'><dl class='xr-attrs'><dt><span>long_name :</span></dt><dd>Mean wave direction from (Mdir)</dd><dt><span>standard_name :</span></dt><dd>sea_surface_wave_from_direction</dd><dt><span>units :</span></dt><dd>degree</dd><dt><span>valid_min :</span></dt><dd>0.0</dd><dt><span>valid_max :</span></dt><dd>360.0</dd><dt><span>cell_methods :</span></dt><dd>time: mean</dd></dl></div><div class='xr-var-data'><pre>[14210400 values with dtype=float32]</pre></div></li><li class='xr-var-item'><div class='xr-var-name'><span>VHM0_WW</span></div><div class='xr-var-dims'>(time, lat, lon)</div><div class='xr-var-dtype'>float32</div><div class='xr-var-preview xr-preview'>...</div><input id='attrs-221e4d16-cf00-4283-9772-a95f03d4f1da' class='xr-var-attrs-in' type='checkbox' ><label for='attrs-221e4d16-cf00-4283-9772-a95f03d4f1da' title='Show/Hide attributes'><svg class='icon xr-icon-file-text2'><use xlink:href='#icon-file-text2'></use></svg></label><input id='data-982255b1-2582-42c9-bfab-dd2e0ea45595' class='xr-var-data-in' type='checkbox'><label for='data-982255b1-2582-42c9-bfab-dd2e0ea45595' title='Show/Hide data repr'><svg class='icon xr-icon-database'><use xlink:href='#icon-database'></use></svg></label><div class='xr-var-attrs'><dl class='xr-attrs'><dt><span>long_name :</span></dt><dd>Spectral significant wind wave height</dd><dt><span>standard_name :</span></dt><dd>sea_surface_wind_wave_significant_height</dd><dt><span>units :</span></dt><dd>m</dd><dt><span>valid_min :</span></dt><dd>0.0</dd><dt><span>valid_max :</span></dt><dd>20.0</dd><dt><span>cell_methods :</span></dt><dd>time: mean</dd></dl></div><div class='xr-var-data'><pre>[14210400 values with dtype=float32]</pre></div></li><li class='xr-var-item'><div class='xr-var-name'><span>VTM01_WW</span></div><div class='xr-var-dims'>(time, lat, lon)</div><div class='xr-var-dtype'>float32</div><div class='xr-var-preview xr-preview'>...</div><input id='attrs-f1ab03bd-8b02-47c6-becb-1cd374a22949' class='xr-var-attrs-in' type='checkbox' ><label for='attrs-f1ab03bd-8b02-47c6-becb-1cd374a22949' title='Show/Hide attributes'><svg class='icon xr-icon-file-text2'><use xlink:href='#icon-file-text2'></use></svg></label><input id='data-bcd7376e-ef78-42bd-adca-11c359819604' class='xr-var-data-in' type='checkbox'><label for='data-bcd7376e-ef78-42bd-adca-11c359819604' title='Show/Hide data repr'><svg class='icon xr-icon-database'><use xlink:href='#icon-database'></use></svg></label><div class='xr-var-attrs'><dl class='xr-attrs'><dt><span>long_name :</span></dt><dd>Spectral moments (0,1) wind wave period</dd><dt><span>standard_name :</span></dt><dd>sea_surface_wind_wave_mean_period</dd><dt><span>units :</span></dt><dd>s</dd><dt><span>valid_min :</span></dt><dd>0.0</dd><dt><span>valid_max :</span></dt><dd>20.0</dd><dt><span>cell_methods :</span></dt><dd>time: mean</dd></dl></div><div class='xr-var-data'><pre>[14210400 values with dtype=float32]</pre></div></li><li class='xr-var-item'><div class='xr-var-name'><span>VMDR_WW</span></div><div class='xr-var-dims'>(time, lat, lon)</div><div class='xr-var-dtype'>float32</div><div class='xr-var-preview xr-preview'>...</div><input id='attrs-90e5fae6-0e34-4603-8bd7-d4c950735e8e' class='xr-var-attrs-in' type='checkbox' ><label for='attrs-90e5fae6-0e34-4603-8bd7-d4c950735e8e' title='Show/Hide attributes'><svg class='icon xr-icon-file-text2'><use xlink:href='#icon-file-text2'></use></svg></label><input id='data-977681de-b78b-4fbc-8dd2-5d65ec2a5489' class='xr-var-data-in' type='checkbox'><label for='data-977681de-b78b-4fbc-8dd2-5d65ec2a5489' title='Show/Hide data repr'><svg class='icon xr-icon-database'><use xlink:href='#icon-database'></use></svg></label><div class='xr-var-attrs'><dl class='xr-attrs'><dt><span>long_name :</span></dt><dd>Mean wind wave direction from</dd><dt><span>standard_name :</span></dt><dd>sea_surface_wind_wave_from_direction</dd><dt><span>units :</span></dt><dd>degree</dd><dt><span>valid_min :</span></dt><dd>0.0</dd><dt><span>valid_max :</span></dt><dd>360.0</dd><dt><span>cell_methods :</span></dt><dd>time: mean</dd></dl></div><div class='xr-var-data'><pre>[14210400 values with dtype=float32]</pre></div></li><li class='xr-var-item'><div class='xr-var-name'><span>VPED</span></div><div class='xr-var-dims'>(time, lat, lon)</div><div class='xr-var-dtype'>float32</div><div class='xr-var-preview xr-preview'>...</div><input id='attrs-2afb1bc4-9908-43b2-8d0a-b0903e28b556' class='xr-var-attrs-in' type='checkbox' ><label for='attrs-2afb1bc4-9908-43b2-8d0a-b0903e28b556' title='Show/Hide attributes'><svg class='icon xr-icon-file-text2'><use xlink:href='#icon-file-text2'></use></svg></label><input id='data-68e82286-69e8-4f26-98ef-c48b42b08163' class='xr-var-data-in' type='checkbox'><label for='data-68e82286-69e8-4f26-98ef-c48b42b08163' title='Show/Hide data repr'><svg class='icon xr-icon-database'><use xlink:href='#icon-database'></use></svg></label><div class='xr-var-attrs'><dl class='xr-attrs'><dt><span>long_name :</span></dt><dd>Wave principal direction at spectral peak</dd><dt><span>standard_name :</span></dt><dd>sea_surface_wave_from_direction_at_variance_spectral_density_maximum</dd><dt><span>units :</span></dt><dd>degree</dd><dt><span>valid_min :</span></dt><dd>0.0</dd><dt><span>valid_max :</span></dt><dd>360.0</dd><dt><span>cell_methods :</span></dt><dd>time: mean</dd></dl></div><div class='xr-var-data'><pre>[14210400 values with dtype=float32]</pre></div></li><li class='xr-var-item'><div class='xr-var-name'><span>VHM0_SW1</span></div><div class='xr-var-dims'>(time, lat, lon)</div><div class='xr-var-dtype'>float32</div><div class='xr-var-preview xr-preview'>...</div><input id='attrs-4907c15c-7e2b-4d76-b26a-debba1aaf0a1' class='xr-var-attrs-in' type='checkbox' ><label for='attrs-4907c15c-7e2b-4d76-b26a-debba1aaf0a1' title='Show/Hide attributes'><svg class='icon xr-icon-file-text2'><use xlink:href='#icon-file-text2'></use></svg></label><input id='data-baee87f5-9f73-4e2e-971e-d3a24f23cd3e' class='xr-var-data-in' type='checkbox'><label for='data-baee87f5-9f73-4e2e-971e-d3a24f23cd3e' title='Show/Hide data repr'><svg class='icon xr-icon-database'><use xlink:href='#icon-database'></use></svg></label><div class='xr-var-attrs'><dl class='xr-attrs'><dt><span>long_name :</span></dt><dd>Spectral significant primary swell wave height</dd><dt><span>standard_name :</span></dt><dd>sea_surface_primary_swell_wave_significant_height</dd><dt><span>units :</span></dt><dd>m</dd><dt><span>valid_min :</span></dt><dd>0.0</dd><dt><span>valid_max :</span></dt><dd>20.0</dd><dt><span>cell_methods :</span></dt><dd>time: mean</dd></dl></div><div class='xr-var-data'><pre>[14210400 values with dtype=float32]</pre></div></li><li class='xr-var-item'><div class='xr-var-name'><span>VTM01_SW1</span></div><div class='xr-var-dims'>(time, lat, lon)</div><div class='xr-var-dtype'>float32</div><div class='xr-var-preview xr-preview'>...</div><input id='attrs-60f8447b-9190-44c8-962e-6d200d8a37c6' class='xr-var-attrs-in' type='checkbox' ><label for='attrs-60f8447b-9190-44c8-962e-6d200d8a37c6' title='Show/Hide attributes'><svg class='icon xr-icon-file-text2'><use xlink:href='#icon-file-text2'></use></svg></label><input id='data-e91915ab-74bc-4aae-9e08-bb2202a6d257' class='xr-var-data-in' type='checkbox'><label for='data-e91915ab-74bc-4aae-9e08-bb2202a6d257' title='Show/Hide data repr'><svg class='icon xr-icon-database'><use xlink:href='#icon-database'></use></svg></label><div class='xr-var-attrs'><dl class='xr-attrs'><dt><span>long_name :</span></dt><dd>Spectral moments (0,1) primary swell wave period</dd><dt><span>standard_name :</span></dt><dd>sea_surface_primary_swell_wave_mean_period</dd><dt><span>units :</span></dt><dd>s</dd><dt><span>valid_min :</span></dt><dd>0.0</dd><dt><span>valid_max :</span></dt><dd>25.0</dd><dt><span>cell_methods :</span></dt><dd>time: mean</dd></dl></div><div class='xr-var-data'><pre>[14210400 values with dtype=float32]</pre></div></li><li class='xr-var-item'><div class='xr-var-name'><span>VMDR_SW1</span></div><div class='xr-var-dims'>(time, lat, lon)</div><div class='xr-var-dtype'>float32</div><div class='xr-var-preview xr-preview'>...</div><input id='attrs-a4674eb0-ccf3-4d00-8998-a234b96e9efd' class='xr-var-attrs-in' type='checkbox' ><label for='attrs-a4674eb0-ccf3-4d00-8998-a234b96e9efd' title='Show/Hide attributes'><svg class='icon xr-icon-file-text2'><use xlink:href='#icon-file-text2'></use></svg></label><input id='data-af283ad7-d6e5-4dae-be6c-16f8bf7fca3e' class='xr-var-data-in' type='checkbox'><label for='data-af283ad7-d6e5-4dae-be6c-16f8bf7fca3e' title='Show/Hide data repr'><svg class='icon xr-icon-database'><use xlink:href='#icon-database'></use></svg></label><div class='xr-var-attrs'><dl class='xr-attrs'><dt><span>long_name :</span></dt><dd>Mean primary swell wave direction from</dd><dt><span>standard_name :</span></dt><dd>sea_surface_primary_swell_wave_from_direction</dd><dt><span>units :</span></dt><dd>degree</dd><dt><span>valid_min :</span></dt><dd>0.0</dd><dt><span>valid_max :</span></dt><dd>360.0</dd><dt><span>cell_methods :</span></dt><dd>time: mean</dd></dl></div><div class='xr-var-data'><pre>[14210400 values with dtype=float32]</pre></div></li><li class='xr-var-item'><div class='xr-var-name'><span>VHM0_SW2</span></div><div class='xr-var-dims'>(time, lat, lon)</div><div class='xr-var-dtype'>float32</div><div class='xr-var-preview xr-preview'>...</div><input id='attrs-9a94127a-a95a-4334-a982-75ce5eaf2c96' class='xr-var-attrs-in' type='checkbox' ><label for='attrs-9a94127a-a95a-4334-a982-75ce5eaf2c96' title='Show/Hide attributes'><svg class='icon xr-icon-file-text2'><use xlink:href='#icon-file-text2'></use></svg></label><input id='data-2ab1e943-15a1-4270-919f-16e70f7dd702' class='xr-var-data-in' type='checkbox'><label for='data-2ab1e943-15a1-4270-919f-16e70f7dd702' title='Show/Hide data repr'><svg class='icon xr-icon-database'><use xlink:href='#icon-database'></use></svg></label><div class='xr-var-attrs'><dl class='xr-attrs'><dt><span>long_name :</span></dt><dd>Spectral significant secondary swell wave height</dd><dt><span>standard_name :</span></dt><dd>sea_surface_secondary_swell_wave_significant_height</dd><dt><span>units :</span></dt><dd>m</dd><dt><span>valid_min :</span></dt><dd>0.0</dd><dt><span>valid_max :</span></dt><dd>20.0</dd><dt><span>cell_methods :</span></dt><dd>time: mean</dd></dl></div><div class='xr-var-data'><pre>[14210400 values with dtype=float32]</pre></div></li><li class='xr-var-item'><div class='xr-var-name'><span>VTM01_SW2</span></div><div class='xr-var-dims'>(time, lat, lon)</div><div class='xr-var-dtype'>float32</div><div class='xr-var-preview xr-preview'>...</div><input id='attrs-8f618040-7fe7-4960-9e53-a2a67ace6203' class='xr-var-attrs-in' type='checkbox' ><label for='attrs-8f618040-7fe7-4960-9e53-a2a67ace6203' title='Show/Hide attributes'><svg class='icon xr-icon-file-text2'><use xlink:href='#icon-file-text2'></use></svg></label><input id='data-c7505832-09b7-409a-a12a-40ff44107915' class='xr-var-data-in' type='checkbox'><label for='data-c7505832-09b7-409a-a12a-40ff44107915' title='Show/Hide data repr'><svg class='icon xr-icon-database'><use xlink:href='#icon-database'></use></svg></label><div class='xr-var-attrs'><dl class='xr-attrs'><dt><span>long_name :</span></dt><dd>Spectral moments (0,1) secondary swell wave period</dd><dt><span>standard_name :</span></dt><dd>sea_surface_secondary_swell_wave_mean_period</dd><dt><span>units :</span></dt><dd>s</dd><dt><span>valid_min :</span></dt><dd>0.0</dd><dt><span>valid_max :</span></dt><dd>25.0</dd><dt><span>cell_methods :</span></dt><dd>time: mean</dd></dl></div><div class='xr-var-data'><pre>[14210400 values with dtype=float32]</pre></div></li><li class='xr-var-item'><div class='xr-var-name'><span>VMDR_SW2</span></div><div class='xr-var-dims'>(time, lat, lon)</div><div class='xr-var-dtype'>float32</div><div class='xr-var-preview xr-preview'>...</div><input id='attrs-05b997ad-9a37-45f0-b9ea-bc2e6f0befce' class='xr-var-attrs-in' type='checkbox' ><label for='attrs-05b997ad-9a37-45f0-b9ea-bc2e6f0befce' title='Show/Hide attributes'><svg class='icon xr-icon-file-text2'><use xlink:href='#icon-file-text2'></use></svg></label><input id='data-2c1abd26-aba4-4b36-981f-fdf5867d16b8' class='xr-var-data-in' type='checkbox'><label for='data-2c1abd26-aba4-4b36-981f-fdf5867d16b8' title='Show/Hide data repr'><svg class='icon xr-icon-database'><use xlink:href='#icon-database'></use></svg></label><div class='xr-var-attrs'><dl class='xr-attrs'><dt><span>long_name :</span></dt><dd>Mean secondary swell wave direction from</dd><dt><span>standard_name :</span></dt><dd>sea_surface_secondary_swell_wave_from_direction</dd><dt><span>units :</span></dt><dd>degree</dd><dt><span>valid_min :</span></dt><dd>0.0</dd><dt><span>valid_max :</span></dt><dd>360.0</dd><dt><span>cell_methods :</span></dt><dd>time: mean</dd></dl></div><div class='xr-var-data'><pre>[14210400 values with dtype=float32]</pre></div></li><li class='xr-var-item'><div class='xr-var-name'><span>VSDX</span></div><div class='xr-var-dims'>(time, lat, lon)</div><div class='xr-var-dtype'>float32</div><div class='xr-var-preview xr-preview'>...</div><input id='attrs-79310667-43a3-4094-ae18-e4487d8a99d1' class='xr-var-attrs-in' type='checkbox' ><label for='attrs-79310667-43a3-4094-ae18-e4487d8a99d1' title='Show/Hide attributes'><svg class='icon xr-icon-file-text2'><use xlink:href='#icon-file-text2'></use></svg></label><input id='data-ce190152-3aa9-47c8-8e34-8069282c95b5' class='xr-var-data-in' type='checkbox'><label for='data-ce190152-3aa9-47c8-8e34-8069282c95b5' title='Show/Hide data repr'><svg class='icon xr-icon-database'><use xlink:href='#icon-database'></use></svg></label><div class='xr-var-attrs'><dl class='xr-attrs'><dt><span>long_name :</span></dt><dd>Stokes drift U</dd><dt><span>standard_name :</span></dt><dd>sea_surface_wave_stokes_drift_x_velocity</dd><dt><span>units :</span></dt><dd>m s-1</dd><dt><span>valid_min :</span></dt><dd>-999.0</dd><dt><span>valid_max :</span></dt><dd>999.0</dd><dt><span>cell_methods :</span></dt><dd>time: mean</dd></dl></div><div class='xr-var-data'><pre>[14210400 values with dtype=float32]</pre></div></li><li class='xr-var-item'><div class='xr-var-name'><span>VSDY</span></div><div class='xr-var-dims'>(time, lat, lon)</div><div class='xr-var-dtype'>float32</div><div class='xr-var-preview xr-preview'>...</div><input id='attrs-803574a2-3e14-4d79-8654-5935937d8a6d' class='xr-var-attrs-in' type='checkbox' ><label for='attrs-803574a2-3e14-4d79-8654-5935937d8a6d' title='Show/Hide attributes'><svg class='icon xr-icon-file-text2'><use xlink:href='#icon-file-text2'></use></svg></label><input id='data-cce097bc-fd53-418b-b18e-74a3c8a1c862' class='xr-var-data-in' type='checkbox'><label for='data-cce097bc-fd53-418b-b18e-74a3c8a1c862' title='Show/Hide data repr'><svg class='icon xr-icon-database'><use xlink:href='#icon-database'></use></svg></label><div class='xr-var-attrs'><dl class='xr-attrs'><dt><span>long_name :</span></dt><dd>Stokes drift V</dd><dt><span>standard_name :</span></dt><dd>sea_surface_wave_stokes_drift_y_velocity</dd><dt><span>units :</span></dt><dd>m s-1</dd><dt><span>valid_min :</span></dt><dd>-999.0</dd><dt><span>valid_max :</span></dt><dd>999.0</dd><dt><span>cell_methods :</span></dt><dd>time: mean</dd></dl></div><div class='xr-var-data'><pre>[14210400 values with dtype=float32]</pre></div></li><li class='xr-var-item'><div class='xr-var-name'><span>VMXL</span></div><div class='xr-var-dims'>(time, lat, lon)</div><div class='xr-var-dtype'>float32</div><div class='xr-var-preview xr-preview'>...</div><input id='attrs-f8debd0b-ce12-4a76-ba8b-2c4a2e9e12d9' class='xr-var-attrs-in' type='checkbox' ><label for='attrs-f8debd0b-ce12-4a76-ba8b-2c4a2e9e12d9' title='Show/Hide attributes'><svg class='icon xr-icon-file-text2'><use xlink:href='#icon-file-text2'></use></svg></label><input id='data-fb7b3cd9-c9c3-4b45-8614-0938036d07a4' class='xr-var-data-in' type='checkbox'><label for='data-fb7b3cd9-c9c3-4b45-8614-0938036d07a4' title='Show/Hide data repr'><svg class='icon xr-icon-database'><use xlink:href='#icon-database'></use></svg></label><div class='xr-var-attrs'><dl class='xr-attrs'><dt><span>long_name :</span></dt><dd>Height of the highest crest</dd><dt><span>standard_name :</span></dt><dd>sea_surface_wave_maximum_crest_height</dd><dt><span>units :</span></dt><dd>m</dd><dt><span>valid_min :</span></dt><dd>0.0</dd><dt><span>valid_max :</span></dt><dd>30.0</dd><dt><span>cell_methods :</span></dt><dd>time: mean</dd></dl></div><div class='xr-var-data'><pre>[14210400 values with dtype=float32]</pre></div></li><li class='xr-var-item'><div class='xr-var-name'><span>VCMX</span></div><div class='xr-var-dims'>(time, lat, lon)</div><div class='xr-var-dtype'>float32</div><div class='xr-var-preview xr-preview'>...</div><input id='attrs-d7fcdd9b-b128-4ae4-81ef-17db20d10100' class='xr-var-attrs-in' type='checkbox' ><label for='attrs-d7fcdd9b-b128-4ae4-81ef-17db20d10100' title='Show/Hide attributes'><svg class='icon xr-icon-file-text2'><use xlink:href='#icon-file-text2'></use></svg></label><input id='data-d720b401-cbd8-40f3-b933-06c47f0e3169' class='xr-var-data-in' type='checkbox'><label for='data-d720b401-cbd8-40f3-b933-06c47f0e3169' title='Show/Hide data repr'><svg class='icon xr-icon-database'><use xlink:href='#icon-database'></use></svg></label><div class='xr-var-attrs'><dl class='xr-attrs'><dt><span>long_name :</span></dt><dd>Maximum crest trough wave height (Hc,max)</dd><dt><span>standard_name :</span></dt><dd>sea_surface_wave_maximum_height</dd><dt><span>units :</span></dt><dd>m</dd><dt><span>valid_min :</span></dt><dd>0.0</dd><dt><span>valid_max :</span></dt><dd>50.0</dd><dt><span>cell_methods :</span></dt><dd>time: mean</dd></dl></div><div class='xr-var-data'><pre>[14210400 values with dtype=float32]</pre></div></li></ul></div></li><li class='xr-section-item'><input id='section-0de15d8d-ba95-4221-807b-55bab8ca5ce2' class='xr-section-summary-in' type='checkbox'  ><label for='section-0de15d8d-ba95-4221-807b-55bab8ca5ce2' class='xr-section-summary' >Indexes: <span>(3)</span></label><div class='xr-section-inline-details'></div><div class='xr-section-details'><ul class='xr-var-list'><li class='xr-var-item'><div class='xr-index-name'><div>lat</div></div><div class='xr-index-preview'>PandasIndex</div><input type='checkbox' disabled/><label></label><input id='index-d21d8c44-047f-45bc-8ac2-4e74db15a03a' class='xr-index-data-in' type='checkbox'/><label for='index-d21d8c44-047f-45bc-8ac2-4e74db15a03a' title='Show/Hide index repr'><svg class='icon xr-icon-database'><use xlink:href='#icon-database'></use></svg></label><div class='xr-index-data'><pre>PandasIndex(Index([  53.0082893371582,  53.02495574951172, 53.041622161865234,\n",
       "        53.05828857421875, 53.074954986572266, 53.091617584228516,\n",
       "        53.10828399658203,  53.12495040893555,  53.14161682128906,\n",
       "        53.15828323364258,\n",
       "       ...\n",
       "        65.75778198242188,  65.77444458007812,   65.7911148071289,\n",
       "        65.80777740478516,  65.82444763183594,  65.84111022949219,\n",
       "        65.85777282714844,  65.87444305419922,  65.89110565185547,\n",
       "        65.90777587890625],\n",
       "      dtype=&#x27;float32&#x27;, name=&#x27;lat&#x27;, length=775))</pre></div></li><li class='xr-var-item'><div class='xr-index-name'><div>lon</div></div><div class='xr-index-preview'>PandasIndex</div><input type='checkbox' disabled/><label></label><input id='index-dda97098-3e88-462b-b788-0b707465db8e' class='xr-index-data-in' type='checkbox'/><label for='index-dda97098-3e88-462b-b788-0b707465db8e' title='Show/Hide index repr'><svg class='icon xr-icon-database'><use xlink:href='#icon-database'></use></svg></label><div class='xr-index-data'><pre>PandasIndex(Index([ 9.013887405395508,  9.041664123535156,  9.069441795349121,\n",
       "         9.09721851348877,  9.124995231628418,  9.152771949768066,\n",
       "        9.180549621582031,   9.20832633972168,  9.236103057861328,\n",
       "        9.263880729675293,\n",
       "       ...\n",
       "       29.957744598388672,  29.98552131652832,  30.01329803466797,\n",
       "        30.04107666015625,   30.0688533782959, 30.096630096435547,\n",
       "       30.124406814575195, 30.152183532714844, 30.179960250854492,\n",
       "       30.207738876342773],\n",
       "      dtype=&#x27;float32&#x27;, name=&#x27;lon&#x27;, length=764))</pre></div></li><li class='xr-var-item'><div class='xr-index-name'><div>time</div></div><div class='xr-index-preview'>PandasIndex</div><input type='checkbox' disabled/><label></label><input id='index-bb658a14-0183-4370-a3fd-847417a7e596' class='xr-index-data-in' type='checkbox'/><label for='index-bb658a14-0183-4370-a3fd-847417a7e596' title='Show/Hide index repr'><svg class='icon xr-icon-database'><use xlink:href='#icon-database'></use></svg></label><div class='xr-index-data'><pre>PandasIndex(DatetimeIndex([&#x27;2015-01-02 01:00:00&#x27;, &#x27;2015-01-02 02:00:00&#x27;,\n",
       "               &#x27;2015-01-02 03:00:00&#x27;, &#x27;2015-01-02 04:00:00&#x27;,\n",
       "               &#x27;2015-01-02 05:00:00&#x27;, &#x27;2015-01-02 06:00:00&#x27;,\n",
       "               &#x27;2015-01-02 07:00:00&#x27;, &#x27;2015-01-02 08:00:00&#x27;,\n",
       "               &#x27;2015-01-02 09:00:00&#x27;, &#x27;2015-01-02 10:00:00&#x27;,\n",
       "               &#x27;2015-01-02 11:00:00&#x27;, &#x27;2015-01-02 12:00:00&#x27;,\n",
       "               &#x27;2015-01-02 13:00:00&#x27;, &#x27;2015-01-02 14:00:00&#x27;,\n",
       "               &#x27;2015-01-02 15:00:00&#x27;, &#x27;2015-01-02 16:00:00&#x27;,\n",
       "               &#x27;2015-01-02 17:00:00&#x27;, &#x27;2015-01-02 18:00:00&#x27;,\n",
       "               &#x27;2015-01-02 19:00:00&#x27;, &#x27;2015-01-02 20:00:00&#x27;,\n",
       "               &#x27;2015-01-02 21:00:00&#x27;, &#x27;2015-01-02 22:00:00&#x27;,\n",
       "               &#x27;2015-01-02 23:00:00&#x27;, &#x27;2015-01-03 00:00:00&#x27;],\n",
       "              dtype=&#x27;datetime64[ns]&#x27;, name=&#x27;time&#x27;, freq=None))</pre></div></li></ul></div></li><li class='xr-section-item'><input id='section-a8904536-4b61-48ca-b826-2010edc80c0e' class='xr-section-summary-in' type='checkbox'  ><label for='section-a8904536-4b61-48ca-b826-2010edc80c0e' class='xr-section-summary' >Attributes: <span>(10)</span></label><div class='xr-section-inline-details'></div><div class='xr-section-details'><dl class='xr-attrs'><dt><span>Conventions :</span></dt><dd>CF-1.0</dd><dt><span>source :</span></dt><dd>FMI-WAM_CMEMS</dd><dt><span>institution :</span></dt><dd>Baltic MFC, PU Finnish Meteorological Institute</dd><dt><span>title :</span></dt><dd>2D - Hourly Instantaneous</dd><dt><span>cmems_product_id :</span></dt><dd>BALTICSEA_MULTIYEAR_WAV_003_015</dd><dt><span>westernmost_longitude :</span></dt><dd>9.0138</dd><dt><span>easternmost_longitude :</span></dt><dd>30.2080</dd><dt><span>southernmost_latitude :</span></dt><dd>53.0083</dd><dt><span>northernmost_latitude :</span></dt><dd>65.9081</dd><dt><span>grid_resolution :</span></dt><dd>1 nautical mile (ie. 0.0167 degrees northward; 0.0278 degrees eastward</dd></dl></div></li></ul></div></div>"
      ],
      "text/plain": [
       "<xarray.Dataset> Size: 1GB\n",
       "Dimensions:    (lat: 775, lon: 764, time: 24)\n",
       "Coordinates:\n",
       "  * lat        (lat) float32 3kB 53.01 53.02 53.04 53.06 ... 65.87 65.89 65.91\n",
       "  * lon        (lon) float32 3kB 9.014 9.042 9.069 9.097 ... 30.15 30.18 30.21\n",
       "  * time       (time) datetime64[ns] 192B 2015-01-02T01:00:00 ... 2015-01-03\n",
       "Data variables: (12/19)\n",
       "    VHM0       (time, lat, lon) float32 57MB ...\n",
       "    VTPK       (time, lat, lon) float32 57MB ...\n",
       "    VTM10      (time, lat, lon) float32 57MB ...\n",
       "    VTM02      (time, lat, lon) float32 57MB ...\n",
       "    VMDR       (time, lat, lon) float32 57MB ...\n",
       "    VHM0_WW    (time, lat, lon) float32 57MB ...\n",
       "    ...         ...\n",
       "    VTM01_SW2  (time, lat, lon) float32 57MB ...\n",
       "    VMDR_SW2   (time, lat, lon) float32 57MB ...\n",
       "    VSDX       (time, lat, lon) float32 57MB ...\n",
       "    VSDY       (time, lat, lon) float32 57MB ...\n",
       "    VMXL       (time, lat, lon) float32 57MB ...\n",
       "    VCMX       (time, lat, lon) float32 57MB ...\n",
       "Attributes:\n",
       "    Conventions:            CF-1.0\n",
       "    source:                 FMI-WAM_CMEMS\n",
       "    institution:            Baltic MFC, PU Finnish Meteorological Institute\n",
       "    title:                  2D - Hourly Instantaneous\n",
       "    cmems_product_id:       BALTICSEA_MULTIYEAR_WAV_003_015\n",
       "    westernmost_longitude:  9.0138\n",
       "    easternmost_longitude:  30.2080\n",
       "    southernmost_latitude:  53.0083\n",
       "    northernmost_latitude:  65.9081\n",
       "    grid_resolution:        1 nautical mile (ie. 0.0167 degrees northward; 0...."
      ]
     },
     "execution_count": 18,
     "metadata": {},
     "output_type": "execute_result"
    }
   ],
   "source": [
    "livinglab_geometry = gpd.read_file('livinglab_west.json')\n",
    "path = 'C:/Users\\PC\\Documents\\Ecole/2A\\Stage_2A\\RISE\\Example\\Angiosperms-model\\BALTICSEA_MULTIYEAR_WAV_003_015\\cmems_mod_bal_wav_my_PT1H-i_202411'\n",
    "input_file = f'{path}/2015/01/CMEMS_BAL_WAV_MY_2015010201.nc'\n",
    "ds = xr.open_dataset(input_file)\n",
    "ds"
   ]
  },
  {
   "cell_type": "code",
   "execution_count": null,
   "id": "aa40723c",
   "metadata": {},
   "outputs": [
    {
     "name": "stdout",
     "output_type": "stream",
     "text": [
      "File 70 / 328 processed: filtered_CMEMS_BAL_WAV_MY_2017020801.nc\n",
      "File 71 / 328 processed: filtered_CMEMS_BAL_WAV_MY_2017022001.nc\n",
      "File 72 / 328 processed: filtered_CMEMS_BAL_WAV_MY_2017032801.nc\n",
      "File 73 / 328 processed: filtered_CMEMS_BAL_WAV_MY_2017040101.nc\n",
      "File 74 / 328 processed: filtered_CMEMS_BAL_WAV_MY_2017041401.nc\n",
      "File 75 / 328 processed: filtered_CMEMS_BAL_WAV_MY_2017041701.nc\n",
      "File 76 / 328 processed: filtered_CMEMS_BAL_WAV_MY_2017042301.nc\n",
      "File 77 / 328 processed: filtered_CMEMS_BAL_WAV_MY_2017043001.nc\n",
      "File 78 / 328 processed: filtered_CMEMS_BAL_WAV_MY_2017051001.nc\n",
      "File 79 / 328 processed: filtered_CMEMS_BAL_WAV_MY_2017051101.nc\n",
      "File 80 / 328 processed: filtered_CMEMS_BAL_WAV_MY_2017051301.nc\n",
      "File 81 / 328 processed: filtered_CMEMS_BAL_WAV_MY_2017051401.nc\n",
      "File 82 / 328 processed: filtered_CMEMS_BAL_WAV_MY_2017052601.nc\n",
      "File 83 / 328 processed: filtered_CMEMS_BAL_WAV_MY_2017060601.nc\n",
      "File 84 / 328 processed: filtered_CMEMS_BAL_WAV_MY_2017062601.nc\n",
      "File 85 / 328 processed: filtered_CMEMS_BAL_WAV_MY_2017070701.nc\n",
      "File 86 / 328 processed: filtered_CMEMS_BAL_WAV_MY_2017071701.nc\n",
      "File 87 / 328 processed: filtered_CMEMS_BAL_WAV_MY_2017072501.nc\n",
      "File 88 / 328 processed: filtered_CMEMS_BAL_WAV_MY_2017081101.nc\n",
      "File 89 / 328 processed: filtered_CMEMS_BAL_WAV_MY_2017081501.nc\n",
      "File 90 / 328 processed: filtered_CMEMS_BAL_WAV_MY_2017091601.nc\n",
      "File 91 / 328 processed: filtered_CMEMS_BAL_WAV_MY_2017092801.nc\n",
      "File 92 / 328 processed: filtered_CMEMS_BAL_WAV_MY_2017092901.nc\n",
      "File 93 / 328 processed: filtered_CMEMS_BAL_WAV_MY_2017101701.nc\n",
      "File 94 / 328 processed: filtered_CMEMS_BAL_WAV_MY_2017101901.nc\n",
      "File 95 / 328 processed: filtered_CMEMS_BAL_WAV_MY_2017102101.nc\n",
      "File 96 / 328 processed: filtered_CMEMS_BAL_WAV_MY_2017102201.nc\n",
      "File 97 / 328 processed: filtered_CMEMS_BAL_WAV_MY_2017103001.nc\n",
      "File 98 / 328 processed: filtered_CMEMS_BAL_WAV_MY_2017110201.nc\n",
      "File 99 / 328 processed: filtered_CMEMS_BAL_WAV_MY_2017111201.nc\n",
      "File 100 / 328 processed: filtered_CMEMS_BAL_WAV_MY_2017111601.nc\n",
      "File 101 / 328 processed: filtered_CMEMS_BAL_WAV_MY_2017113001.nc\n",
      "File 102 / 328 processed: filtered_CMEMS_BAL_WAV_MY_2017121601.nc\n",
      "File 103 / 328 processed: filtered_CMEMS_BAL_WAV_MY_2017121901.nc\n",
      "File 104 / 328 processed: filtered_CMEMS_BAL_WAV_MY_2018011201.nc\n",
      "File 105 / 328 processed: filtered_CMEMS_BAL_WAV_MY_2018012901.nc\n",
      "File 106 / 328 processed: filtered_CMEMS_BAL_WAV_MY_2018020101.nc\n",
      "File 107 / 328 processed: filtered_CMEMS_BAL_WAV_MY_2018021501.nc\n",
      "File 108 / 328 processed: filtered_CMEMS_BAL_WAV_MY_2018022201.nc\n",
      "File 109 / 328 processed: filtered_CMEMS_BAL_WAV_MY_2018031201.nc\n",
      "File 110 / 328 processed: filtered_CMEMS_BAL_WAV_MY_2018031901.nc\n",
      "File 111 / 328 processed: filtered_CMEMS_BAL_WAV_MY_2018040401.nc\n",
      "File 112 / 328 processed: filtered_CMEMS_BAL_WAV_MY_2018041301.nc\n",
      "File 113 / 328 processed: filtered_CMEMS_BAL_WAV_MY_2018041801.nc\n",
      "File 114 / 328 processed: filtered_CMEMS_BAL_WAV_MY_2018042301.nc\n",
      "File 115 / 328 processed: filtered_CMEMS_BAL_WAV_MY_2018050801.nc\n",
      "File 116 / 328 processed: filtered_CMEMS_BAL_WAV_MY_2018060201.nc\n",
      "File 117 / 328 processed: filtered_CMEMS_BAL_WAV_MY_2018060901.nc\n",
      "File 118 / 328 processed: filtered_CMEMS_BAL_WAV_MY_2018061101.nc\n",
      "File 119 / 328 processed: filtered_CMEMS_BAL_WAV_MY_2018061801.nc\n",
      "File 120 / 328 processed: filtered_CMEMS_BAL_WAV_MY_2018062701.nc\n",
      "File 121 / 328 processed: filtered_CMEMS_BAL_WAV_MY_2018071601.nc\n",
      "File 122 / 328 processed: filtered_CMEMS_BAL_WAV_MY_2018082901.nc\n",
      "File 123 / 328 processed: filtered_CMEMS_BAL_WAV_MY_2018093001.nc\n",
      "File 124 / 328 processed: filtered_CMEMS_BAL_WAV_MY_2018100601.nc\n",
      "File 125 / 328 processed: filtered_CMEMS_BAL_WAV_MY_2018100701.nc\n",
      "File 126 / 328 processed: filtered_CMEMS_BAL_WAV_MY_2018100901.nc\n",
      "File 127 / 328 processed: filtered_CMEMS_BAL_WAV_MY_2018111001.nc\n",
      "File 128 / 328 processed: filtered_CMEMS_BAL_WAV_MY_2018111901.nc\n",
      "File 129 / 328 processed: filtered_CMEMS_BAL_WAV_MY_2018120301.nc\n",
      "File 130 / 328 processed: filtered_CMEMS_BAL_WAV_MY_2018120401.nc\n",
      "File 131 / 328 processed: filtered_CMEMS_BAL_WAV_MY_2018121201.nc\n",
      "File 132 / 328 processed: filtered_CMEMS_BAL_WAV_MY_2018121701.nc\n",
      "File 133 / 328 processed: filtered_CMEMS_BAL_WAV_MY_2018122301.nc\n",
      "File 134 / 328 processed: filtered_CMEMS_BAL_WAV_MY_2018122801.nc\n",
      "File 135 / 328 processed: filtered_CMEMS_BAL_WAV_MY_2018123001.nc\n",
      "File 136 / 328 processed: filtered_CMEMS_BAL_WAV_MY_2019011401.nc\n",
      "File 137 / 328 processed: filtered_CMEMS_BAL_WAV_MY_2019012001.nc\n",
      "File 138 / 328 processed: filtered_CMEMS_BAL_WAV_MY_2019012501.nc\n",
      "File 139 / 328 processed: filtered_CMEMS_BAL_WAV_MY_2019020801.nc\n",
      "File 140 / 328 processed: filtered_CMEMS_BAL_WAV_MY_2019022101.nc\n",
      "File 141 / 328 processed: filtered_CMEMS_BAL_WAV_MY_2019031001.nc\n",
      "File 142 / 328 processed: filtered_CMEMS_BAL_WAV_MY_2019031301.nc\n",
      "File 143 / 328 processed: filtered_CMEMS_BAL_WAV_MY_2019031601.nc\n",
      "File 144 / 328 processed: filtered_CMEMS_BAL_WAV_MY_2019032601.nc\n",
      "File 145 / 328 processed: filtered_CMEMS_BAL_WAV_MY_2019032801.nc\n",
      "File 146 / 328 processed: filtered_CMEMS_BAL_WAV_MY_2019040801.nc\n",
      "File 147 / 328 processed: filtered_CMEMS_BAL_WAV_MY_2019040901.nc\n",
      "File 148 / 328 processed: filtered_CMEMS_BAL_WAV_MY_2019041901.nc\n",
      "File 149 / 328 processed: filtered_CMEMS_BAL_WAV_MY_2019052401.nc\n",
      "File 150 / 328 processed: filtered_CMEMS_BAL_WAV_MY_2019061901.nc\n",
      "File 151 / 328 processed: filtered_CMEMS_BAL_WAV_MY_2019062001.nc\n",
      "File 152 / 328 processed: filtered_CMEMS_BAL_WAV_MY_2019062301.nc\n",
      "File 153 / 328 processed: filtered_CMEMS_BAL_WAV_MY_2019063001.nc\n",
      "File 154 / 328 processed: filtered_CMEMS_BAL_WAV_MY_2019080701.nc\n",
      "File 155 / 328 processed: filtered_CMEMS_BAL_WAV_MY_2019081201.nc\n",
      "File 156 / 328 processed: filtered_CMEMS_BAL_WAV_MY_2019081601.nc\n",
      "File 157 / 328 processed: filtered_CMEMS_BAL_WAV_MY_2019081801.nc\n",
      "File 158 / 328 processed: filtered_CMEMS_BAL_WAV_MY_2019090101.nc\n",
      "File 159 / 328 processed: filtered_CMEMS_BAL_WAV_MY_2019091301.nc\n",
      "File 160 / 328 processed: filtered_CMEMS_BAL_WAV_MY_2019101001.nc\n",
      "File 161 / 328 processed: filtered_CMEMS_BAL_WAV_MY_2019102001.nc\n",
      "File 162 / 328 processed: filtered_CMEMS_BAL_WAV_MY_2019102101.nc\n",
      "File 163 / 328 processed: filtered_CMEMS_BAL_WAV_MY_2019102201.nc\n",
      "File 164 / 328 processed: filtered_CMEMS_BAL_WAV_MY_2019102301.nc\n",
      "File 165 / 328 processed: filtered_CMEMS_BAL_WAV_MY_2019102601.nc\n",
      "File 166 / 328 processed: filtered_CMEMS_BAL_WAV_MY_2019110801.nc\n",
      "File 167 / 328 processed: filtered_CMEMS_BAL_WAV_MY_2019111101.nc\n",
      "File 168 / 328 processed: filtered_CMEMS_BAL_WAV_MY_2019111201.nc\n",
      "File 169 / 328 processed: filtered_CMEMS_BAL_WAV_MY_2019111501.nc\n",
      "File 170 / 328 processed: filtered_CMEMS_BAL_WAV_MY_2019111801.nc\n",
      "File 171 / 328 processed: filtered_CMEMS_BAL_WAV_MY_2019112001.nc\n",
      "File 172 / 328 processed: filtered_CMEMS_BAL_WAV_MY_2019112501.nc\n",
      "File 173 / 328 processed: filtered_CMEMS_BAL_WAV_MY_2019112601.nc\n",
      "File 174 / 328 processed: filtered_CMEMS_BAL_WAV_MY_2019120401.nc\n",
      "File 175 / 328 processed: filtered_CMEMS_BAL_WAV_MY_2019120701.nc\n",
      "File 176 / 328 processed: filtered_CMEMS_BAL_WAV_MY_2019120901.nc\n",
      "File 177 / 328 processed: filtered_CMEMS_BAL_WAV_MY_2019121101.nc\n",
      "File 178 / 328 processed: filtered_CMEMS_BAL_WAV_MY_2020010301.nc\n",
      "File 179 / 328 processed: filtered_CMEMS_BAL_WAV_MY_2020010701.nc\n",
      "File 180 / 328 processed: filtered_CMEMS_BAL_WAV_MY_2020010801.nc\n",
      "File 181 / 328 processed: filtered_CMEMS_BAL_WAV_MY_2020022001.nc\n",
      "File 182 / 328 processed: filtered_CMEMS_BAL_WAV_MY_2020022301.nc\n",
      "File 183 / 328 processed: filtered_CMEMS_BAL_WAV_MY_2020032001.nc\n",
      "File 184 / 328 processed: filtered_CMEMS_BAL_WAV_MY_2020032601.nc\n",
      "File 185 / 328 processed: filtered_CMEMS_BAL_WAV_MY_2020032901.nc\n",
      "File 186 / 328 processed: filtered_CMEMS_BAL_WAV_MY_2020041501.nc\n",
      "File 187 / 328 processed: filtered_CMEMS_BAL_WAV_MY_2020043001.nc\n",
      "File 188 / 328 processed: filtered_CMEMS_BAL_WAV_MY_2020051801.nc\n",
      "File 189 / 328 processed: filtered_CMEMS_BAL_WAV_MY_2020052801.nc\n",
      "File 190 / 328 processed: filtered_CMEMS_BAL_WAV_MY_2020061601.nc\n",
      "File 191 / 328 processed: filtered_CMEMS_BAL_WAV_MY_2020062101.nc\n",
      "File 192 / 328 processed: filtered_CMEMS_BAL_WAV_MY_2020070201.nc\n",
      "File 193 / 328 processed: filtered_CMEMS_BAL_WAV_MY_2020072401.nc\n",
      "File 194 / 328 processed: filtered_CMEMS_BAL_WAV_MY_2020081501.nc\n",
      "File 195 / 328 processed: filtered_CMEMS_BAL_WAV_MY_2020082901.nc\n",
      "File 196 / 328 processed: filtered_CMEMS_BAL_WAV_MY_2020083101.nc\n",
      "File 197 / 328 processed: filtered_CMEMS_BAL_WAV_MY_2020090201.nc\n",
      "File 198 / 328 processed: filtered_CMEMS_BAL_WAV_MY_2020091301.nc\n",
      "File 199 / 328 processed: filtered_CMEMS_BAL_WAV_MY_2020091401.nc\n",
      "File 200 / 328 processed: filtered_CMEMS_BAL_WAV_MY_2020091701.nc\n",
      "File 201 / 328 processed: filtered_CMEMS_BAL_WAV_MY_2020100101.nc\n",
      "File 202 / 328 processed: filtered_CMEMS_BAL_WAV_MY_2020100801.nc\n",
      "File 203 / 328 processed: filtered_CMEMS_BAL_WAV_MY_2020101201.nc\n",
      "File 204 / 328 processed: filtered_CMEMS_BAL_WAV_MY_2020101701.nc\n",
      "File 205 / 328 processed: filtered_CMEMS_BAL_WAV_MY_2020102001.nc\n",
      "File 206 / 328 processed: filtered_CMEMS_BAL_WAV_MY_2020102601.nc\n",
      "File 207 / 328 processed: filtered_CMEMS_BAL_WAV_MY_2020112801.nc\n",
      "File 208 / 328 processed: filtered_CMEMS_BAL_WAV_MY_2020121601.nc\n",
      "File 209 / 328 processed: filtered_CMEMS_BAL_WAV_MY_2020122001.nc\n",
      "File 210 / 328 processed: filtered_CMEMS_BAL_WAV_MY_2021010401.nc\n",
      "File 211 / 328 processed: filtered_CMEMS_BAL_WAV_MY_2021011201.nc\n",
      "File 212 / 328 processed: filtered_CMEMS_BAL_WAV_MY_2021011401.nc\n",
      "File 213 / 328 processed: filtered_CMEMS_BAL_WAV_MY_2021011901.nc\n",
      "File 214 / 328 processed: filtered_CMEMS_BAL_WAV_MY_2021013101.nc\n",
      "File 215 / 328 processed: filtered_CMEMS_BAL_WAV_MY_2021020801.nc\n",
      "File 216 / 328 processed: filtered_CMEMS_BAL_WAV_MY_2021020901.nc\n",
      "File 217 / 328 processed: filtered_CMEMS_BAL_WAV_MY_2021022301.nc\n",
      "File 218 / 328 processed: filtered_CMEMS_BAL_WAV_MY_2021030701.nc\n",
      "File 219 / 328 processed: filtered_CMEMS_BAL_WAV_MY_2021031301.nc\n",
      "File 220 / 328 processed: filtered_CMEMS_BAL_WAV_MY_2021032001.nc\n",
      "File 221 / 328 processed: filtered_CMEMS_BAL_WAV_MY_2021040201.nc\n",
      "File 222 / 328 processed: filtered_CMEMS_BAL_WAV_MY_2021040601.nc\n",
      "File 223 / 328 processed: filtered_CMEMS_BAL_WAV_MY_2021041301.nc\n",
      "File 224 / 328 processed: filtered_CMEMS_BAL_WAV_MY_2021042301.nc\n",
      "File 225 / 328 processed: filtered_CMEMS_BAL_WAV_MY_2021042901.nc\n",
      "File 226 / 328 processed: filtered_CMEMS_BAL_WAV_MY_2021043001.nc\n",
      "File 227 / 328 processed: filtered_CMEMS_BAL_WAV_MY_2021051101.nc\n",
      "File 228 / 328 processed: filtered_CMEMS_BAL_WAV_MY_2021052501.nc\n",
      "File 229 / 328 processed: filtered_CMEMS_BAL_WAV_MY_2021053001.nc\n",
      "File 230 / 328 processed: filtered_CMEMS_BAL_WAV_MY_2021053101.nc\n",
      "File 231 / 328 processed: filtered_CMEMS_BAL_WAV_MY_2021070201.nc\n",
      "File 232 / 328 processed: filtered_CMEMS_BAL_WAV_MY_2021071901.nc\n",
      "File 233 / 328 processed: filtered_CMEMS_BAL_WAV_MY_2021072401.nc\n",
      "File 234 / 328 processed: filtered_CMEMS_BAL_WAV_MY_2021072901.nc\n",
      "File 235 / 328 processed: filtered_CMEMS_BAL_WAV_MY_2021080901.nc\n",
      "File 236 / 328 processed: filtered_CMEMS_BAL_WAV_MY_2021081101.nc\n",
      "File 237 / 328 processed: filtered_CMEMS_BAL_WAV_MY_2021081501.nc\n",
      "File 238 / 328 processed: filtered_CMEMS_BAL_WAV_MY_2021081601.nc\n",
      "File 239 / 328 processed: filtered_CMEMS_BAL_WAV_MY_2021090101.nc\n",
      "File 240 / 328 processed: filtered_CMEMS_BAL_WAV_MY_2021091001.nc\n",
      "File 241 / 328 processed: filtered_CMEMS_BAL_WAV_MY_2021091901.nc\n",
      "File 242 / 328 processed: filtered_CMEMS_BAL_WAV_MY_2021101801.nc\n",
      "File 243 / 328 processed: filtered_CMEMS_BAL_WAV_MY_2021103001.nc\n",
      "File 244 / 328 processed: filtered_CMEMS_BAL_WAV_MY_2021110101.nc\n",
      "File 245 / 328 processed: filtered_CMEMS_BAL_WAV_MY_2021110801.nc\n",
      "File 246 / 328 processed: filtered_CMEMS_BAL_WAV_MY_2021111801.nc\n",
      "File 247 / 328 processed: filtered_CMEMS_BAL_WAV_MY_2021120501.nc\n",
      "File 248 / 328 processed: filtered_CMEMS_BAL_WAV_MY_2021122601.nc\n",
      "File 249 / 328 processed: filtered_CMEMS_BAL_WAV_MY_2022010701.nc\n",
      "File 250 / 328 processed: filtered_CMEMS_BAL_WAV_MY_2022011001.nc\n",
      "File 251 / 328 processed: filtered_CMEMS_BAL_WAV_MY_2022011401.nc\n",
      "File 252 / 328 processed: filtered_CMEMS_BAL_WAV_MY_2022012201.nc\n",
      "File 253 / 328 processed: filtered_CMEMS_BAL_WAV_MY_2022012501.nc\n",
      "File 254 / 328 processed: filtered_CMEMS_BAL_WAV_MY_2022013101.nc\n",
      "File 255 / 328 processed: filtered_CMEMS_BAL_WAV_MY_2022020401.nc\n",
      "File 256 / 328 processed: filtered_CMEMS_BAL_WAV_MY_2022020601.nc\n",
      "File 257 / 328 processed: filtered_CMEMS_BAL_WAV_MY_2022022401.nc\n",
      "File 258 / 328 processed: filtered_CMEMS_BAL_WAV_MY_2022032101.nc\n",
      "File 259 / 328 processed: filtered_CMEMS_BAL_WAV_MY_2022032201.nc\n",
      "File 260 / 328 processed: filtered_CMEMS_BAL_WAV_MY_2022032301.nc\n",
      "File 261 / 328 processed: filtered_CMEMS_BAL_WAV_MY_2022032501.nc\n",
      "File 262 / 328 processed: filtered_CMEMS_BAL_WAV_MY_2022040501.nc\n",
      "File 263 / 328 processed: filtered_CMEMS_BAL_WAV_MY_2022040701.nc\n",
      "File 264 / 328 processed: filtered_CMEMS_BAL_WAV_MY_2022041401.nc\n",
      "File 265 / 328 processed: filtered_CMEMS_BAL_WAV_MY_2022042501.nc\n",
      "File 266 / 328 processed: filtered_CMEMS_BAL_WAV_MY_2022051201.nc\n",
      "File 267 / 328 processed: filtered_CMEMS_BAL_WAV_MY_2022051801.nc\n",
      "File 268 / 328 processed: filtered_CMEMS_BAL_WAV_MY_2022052701.nc\n",
      "File 269 / 328 processed: filtered_CMEMS_BAL_WAV_MY_2022060201.nc\n",
      "File 270 / 328 processed: filtered_CMEMS_BAL_WAV_MY_2022060701.nc\n",
      "File 271 / 328 processed: filtered_CMEMS_BAL_WAV_MY_2022061201.nc\n",
      "File 272 / 328 processed: filtered_CMEMS_BAL_WAV_MY_2022061701.nc\n",
      "File 273 / 328 processed: filtered_CMEMS_BAL_WAV_MY_2022061901.nc\n",
      "File 274 / 328 processed: filtered_CMEMS_BAL_WAV_MY_2022062501.nc\n",
      "File 275 / 328 processed: filtered_CMEMS_BAL_WAV_MY_2022071101.nc\n",
      "File 276 / 328 processed: filtered_CMEMS_BAL_WAV_MY_2022072201.nc\n",
      "File 277 / 328 processed: filtered_CMEMS_BAL_WAV_MY_2022080801.nc\n",
      "File 278 / 328 processed: filtered_CMEMS_BAL_WAV_MY_2022082901.nc\n",
      "File 279 / 328 processed: filtered_CMEMS_BAL_WAV_MY_2022090101.nc\n",
      "File 280 / 328 processed: filtered_CMEMS_BAL_WAV_MY_2022092501.nc\n",
      "File 281 / 328 processed: filtered_CMEMS_BAL_WAV_MY_2022101001.nc\n",
      "File 282 / 328 processed: filtered_CMEMS_BAL_WAV_MY_2022101201.nc\n",
      "File 283 / 328 processed: filtered_CMEMS_BAL_WAV_MY_2022102401.nc\n",
      "File 284 / 328 processed: filtered_CMEMS_BAL_WAV_MY_2022102701.nc\n",
      "File 285 / 328 processed: filtered_CMEMS_BAL_WAV_MY_2022110201.nc\n",
      "File 286 / 328 processed: filtered_CMEMS_BAL_WAV_MY_2022110401.nc\n",
      "File 287 / 328 processed: filtered_CMEMS_BAL_WAV_MY_2022110701.nc\n",
      "File 288 / 328 processed: filtered_CMEMS_BAL_WAV_MY_2022110801.nc\n",
      "File 289 / 328 processed: filtered_CMEMS_BAL_WAV_MY_2022112901.nc\n",
      "File 290 / 328 processed: filtered_CMEMS_BAL_WAV_MY_2022120501.nc\n",
      "File 291 / 328 processed: filtered_CMEMS_BAL_WAV_MY_2022121901.nc\n",
      "File 292 / 328 processed: filtered_CMEMS_BAL_WAV_MY_2023010401.nc\n",
      "File 293 / 328 processed: filtered_CMEMS_BAL_WAV_MY_2023011501.nc\n",
      "File 294 / 328 processed: filtered_CMEMS_BAL_WAV_MY_2023012201.nc\n",
      "File 295 / 328 processed: filtered_CMEMS_BAL_WAV_MY_2023012601.nc\n",
      "File 296 / 328 processed: filtered_CMEMS_BAL_WAV_MY_2023013101.nc\n",
      "File 297 / 328 processed: filtered_CMEMS_BAL_WAV_MY_2023021401.nc\n",
      "File 298 / 328 processed: filtered_CMEMS_BAL_WAV_MY_2023030601.nc\n",
      "File 299 / 328 processed: filtered_CMEMS_BAL_WAV_MY_2023032001.nc\n",
      "File 300 / 328 processed: filtered_CMEMS_BAL_WAV_MY_2023032201.nc\n",
      "File 301 / 328 processed: filtered_CMEMS_BAL_WAV_MY_2023040301.nc\n",
      "File 302 / 328 processed: filtered_CMEMS_BAL_WAV_MY_2023042301.nc\n",
      "File 303 / 328 processed: filtered_CMEMS_BAL_WAV_MY_2023042401.nc\n",
      "File 304 / 328 processed: filtered_CMEMS_BAL_WAV_MY_2023042601.nc\n",
      "File 305 / 328 processed: filtered_CMEMS_BAL_WAV_MY_2023050401.nc\n",
      "File 306 / 328 processed: filtered_CMEMS_BAL_WAV_MY_2023050501.nc\n",
      "File 307 / 328 processed: filtered_CMEMS_BAL_WAV_MY_2023052301.nc\n",
      "File 308 / 328 processed: filtered_CMEMS_BAL_WAV_MY_2023052701.nc\n",
      "File 309 / 328 processed: filtered_CMEMS_BAL_WAV_MY_2023060101.nc\n",
      "File 310 / 328 processed: filtered_CMEMS_BAL_WAV_MY_2023060501.nc\n",
      "File 311 / 328 processed: filtered_CMEMS_BAL_WAV_MY_2023060601.nc\n",
      "File 312 / 328 processed: filtered_CMEMS_BAL_WAV_MY_2023061901.nc\n",
      "File 313 / 328 processed: filtered_CMEMS_BAL_WAV_MY_2023062101.nc\n",
      "File 314 / 328 processed: filtered_CMEMS_BAL_WAV_MY_2023071801.nc\n",
      "File 315 / 328 processed: filtered_CMEMS_BAL_WAV_MY_2023071901.nc\n",
      "File 316 / 328 processed: filtered_CMEMS_BAL_WAV_MY_2023080301.nc\n",
      "File 317 / 328 processed: filtered_CMEMS_BAL_WAV_MY_2023080801.nc\n",
      "File 318 / 328 processed: filtered_CMEMS_BAL_WAV_MY_2023080901.nc\n",
      "File 319 / 328 processed: filtered_CMEMS_BAL_WAV_MY_2023081701.nc\n",
      "File 320 / 328 processed: filtered_CMEMS_BAL_WAV_MY_2023082301.nc\n",
      "File 321 / 328 processed: filtered_CMEMS_BAL_WAV_MY_2023082601.nc\n",
      "File 322 / 328 processed: filtered_CMEMS_BAL_WAV_MY_2023083101.nc\n",
      "File 323 / 328 processed: filtered_CMEMS_BAL_WAV_MY_2023092601.nc\n",
      "File 324 / 328 processed: filtered_CMEMS_BAL_WAV_MY_2023100301.nc\n",
      "File 325 / 328 processed: filtered_CMEMS_BAL_WAV_MY_2023111801.nc\n",
      "File 326 / 328 processed: filtered_CMEMS_BAL_WAV_MY_2023120501.nc\n",
      "File 327 / 328 processed: filtered_CMEMS_BAL_WAV_MY_2023121901.nc\n",
      "File 328 / 328 processed: filtered_CMEMS_BAL_WAV_MY_2023122801.nc\n"
     ]
    }
   ],
   "source": [
    "i = 0\n",
    "for date in sampled_dates:\n",
    "    i += 1\n",
    "    # If you want to skip some dates\n",
    "    # if date < pd.Timestamp('2017-01-29'): \n",
    "    #     continue\n",
    "    year = date.year\n",
    "    month = date.month\n",
    "    if month < 10:\n",
    "        month = f'0{month}'             \n",
    "    day = date.day\n",
    "    if day < 10:\n",
    "        day = f'0{day}'\n",
    "    input_file_name = f'CMEMS_BAL_WAV_MY_{year}{month}{day}01.nc'\n",
    "    output_file_name = f'filtered_{input_file_name}'\n",
    "    input_file = f'{path}/{year}/{month}/{input_file_name}'\n",
    "    output_file = f'{path}/{year}/{month}/{output_file_name}'\n",
    "\n",
    "    ds = xr.open_dataset(input_file)\n",
    "    lat = ds['lat'].values\n",
    "    lon = ds['lon'].values\n",
    "    lon_grid, lat_grid = np.meshgrid(lon, lat)\n",
    "    coords = np.column_stack((lon_grid.ravel(), lat_grid.ravel()))\n",
    "    mask = np.array([livinglab_geometry.contains(shape({'type': 'Point', 'coordinates': (lon, lat)})) for lon, lat in coords])\n",
    "    mask = mask.reshape(lon_grid.shape)\n",
    "    mask_da = xr.DataArray(mask, coords=[ds['lat'], ds['lon']], dims=[\"lat\", \"lon\"])\n",
    "    filtered_data = ds.where(mask_da, drop=True) \n",
    "    \n",
    "    try:\n",
    "        filtered_data.to_netcdf(output_file)\n",
    "    finally:\n",
    "        ds.close()\n",
    "        filtered_data.close()\n",
    "        del ds\n",
    "        del filtered_data\n",
    "        gc.collect()\n",
    "        time.sleep(1)\n",
    "\n",
    "    # Try to delete the file, retrying if necessary\n",
    "    for attempt in range(5):\n",
    "        try:\n",
    "            if os.path.exists(output_file):\n",
    "                os.remove(input_file)\n",
    "            break\n",
    "        except PermissionError:\n",
    "            time.sleep(1)\n",
    "    print(f'File {i} / 328 processed: {output_file_name}')"
   ]
  },
  {
   "cell_type": "markdown",
   "id": "a6db34e1",
   "metadata": {},
   "source": [
    "### 🛠️ Calculating the yearly mean\n",
    "\n",
    "I will merge the datasets per year and caculate the mean."
   ]
  },
  {
   "cell_type": "code",
   "execution_count": null,
   "id": "6f5e00b4",
   "metadata": {},
   "outputs": [
    {
     "data": {
      "text/html": [
       "<div><svg style=\"position: absolute; width: 0; height: 0; overflow: hidden\">\n",
       "<defs>\n",
       "<symbol id=\"icon-database\" viewBox=\"0 0 32 32\">\n",
       "<path d=\"M16 0c-8.837 0-16 2.239-16 5v4c0 2.761 7.163 5 16 5s16-2.239 16-5v-4c0-2.761-7.163-5-16-5z\"></path>\n",
       "<path d=\"M16 17c-8.837 0-16-2.239-16-5v6c0 2.761 7.163 5 16 5s16-2.239 16-5v-6c0 2.761-7.163 5-16 5z\"></path>\n",
       "<path d=\"M16 26c-8.837 0-16-2.239-16-5v6c0 2.761 7.163 5 16 5s16-2.239 16-5v-6c0 2.761-7.163 5-16 5z\"></path>\n",
       "</symbol>\n",
       "<symbol id=\"icon-file-text2\" viewBox=\"0 0 32 32\">\n",
       "<path d=\"M28.681 7.159c-0.694-0.947-1.662-2.053-2.724-3.116s-2.169-2.030-3.116-2.724c-1.612-1.182-2.393-1.319-2.841-1.319h-15.5c-1.378 0-2.5 1.121-2.5 2.5v27c0 1.378 1.122 2.5 2.5 2.5h23c1.378 0 2.5-1.122 2.5-2.5v-19.5c0-0.448-0.137-1.23-1.319-2.841zM24.543 5.457c0.959 0.959 1.712 1.825 2.268 2.543h-4.811v-4.811c0.718 0.556 1.584 1.309 2.543 2.268zM28 29.5c0 0.271-0.229 0.5-0.5 0.5h-23c-0.271 0-0.5-0.229-0.5-0.5v-27c0-0.271 0.229-0.5 0.5-0.5 0 0 15.499-0 15.5 0v7c0 0.552 0.448 1 1 1h7v19.5z\"></path>\n",
       "<path d=\"M23 26h-14c-0.552 0-1-0.448-1-1s0.448-1 1-1h14c0.552 0 1 0.448 1 1s-0.448 1-1 1z\"></path>\n",
       "<path d=\"M23 22h-14c-0.552 0-1-0.448-1-1s0.448-1 1-1h14c0.552 0 1 0.448 1 1s-0.448 1-1 1z\"></path>\n",
       "<path d=\"M23 18h-14c-0.552 0-1-0.448-1-1s0.448-1 1-1h14c0.552 0 1 0.448 1 1s-0.448 1-1 1z\"></path>\n",
       "</symbol>\n",
       "</defs>\n",
       "</svg>\n",
       "<style>/* CSS stylesheet for displaying xarray objects in jupyterlab.\n",
       " *\n",
       " */\n",
       "\n",
       ":root {\n",
       "  --xr-font-color0: var(--jp-content-font-color0, rgba(0, 0, 0, 1));\n",
       "  --xr-font-color2: var(--jp-content-font-color2, rgba(0, 0, 0, 0.54));\n",
       "  --xr-font-color3: var(--jp-content-font-color3, rgba(0, 0, 0, 0.38));\n",
       "  --xr-border-color: var(--jp-border-color2, #e0e0e0);\n",
       "  --xr-disabled-color: var(--jp-layout-color3, #bdbdbd);\n",
       "  --xr-background-color: var(--jp-layout-color0, white);\n",
       "  --xr-background-color-row-even: var(--jp-layout-color1, white);\n",
       "  --xr-background-color-row-odd: var(--jp-layout-color2, #eeeeee);\n",
       "}\n",
       "\n",
       "html[theme=\"dark\"],\n",
       "html[data-theme=\"dark\"],\n",
       "body[data-theme=\"dark\"],\n",
       "body.vscode-dark {\n",
       "  --xr-font-color0: rgba(255, 255, 255, 1);\n",
       "  --xr-font-color2: rgba(255, 255, 255, 0.54);\n",
       "  --xr-font-color3: rgba(255, 255, 255, 0.38);\n",
       "  --xr-border-color: #1f1f1f;\n",
       "  --xr-disabled-color: #515151;\n",
       "  --xr-background-color: #111111;\n",
       "  --xr-background-color-row-even: #111111;\n",
       "  --xr-background-color-row-odd: #313131;\n",
       "}\n",
       "\n",
       ".xr-wrap {\n",
       "  display: block !important;\n",
       "  min-width: 300px;\n",
       "  max-width: 700px;\n",
       "}\n",
       "\n",
       ".xr-text-repr-fallback {\n",
       "  /* fallback to plain text repr when CSS is not injected (untrusted notebook) */\n",
       "  display: none;\n",
       "}\n",
       "\n",
       ".xr-header {\n",
       "  padding-top: 6px;\n",
       "  padding-bottom: 6px;\n",
       "  margin-bottom: 4px;\n",
       "  border-bottom: solid 1px var(--xr-border-color);\n",
       "}\n",
       "\n",
       ".xr-header > div,\n",
       ".xr-header > ul {\n",
       "  display: inline;\n",
       "  margin-top: 0;\n",
       "  margin-bottom: 0;\n",
       "}\n",
       "\n",
       ".xr-obj-type,\n",
       ".xr-array-name {\n",
       "  margin-left: 2px;\n",
       "  margin-right: 10px;\n",
       "}\n",
       "\n",
       ".xr-obj-type {\n",
       "  color: var(--xr-font-color2);\n",
       "}\n",
       "\n",
       ".xr-sections {\n",
       "  padding-left: 0 !important;\n",
       "  display: grid;\n",
       "  grid-template-columns: 150px auto auto 1fr 0 20px 0 20px;\n",
       "}\n",
       "\n",
       ".xr-section-item {\n",
       "  display: contents;\n",
       "}\n",
       "\n",
       ".xr-section-item input {\n",
       "  display: inline-block;\n",
       "  opacity: 0;\n",
       "  height: 0;\n",
       "}\n",
       "\n",
       ".xr-section-item input + label {\n",
       "  color: var(--xr-disabled-color);\n",
       "}\n",
       "\n",
       ".xr-section-item input:enabled + label {\n",
       "  cursor: pointer;\n",
       "  color: var(--xr-font-color2);\n",
       "}\n",
       "\n",
       ".xr-section-item input:focus + label {\n",
       "  border: 2px solid var(--xr-font-color0);\n",
       "}\n",
       "\n",
       ".xr-section-item input:enabled + label:hover {\n",
       "  color: var(--xr-font-color0);\n",
       "}\n",
       "\n",
       ".xr-section-summary {\n",
       "  grid-column: 1;\n",
       "  color: var(--xr-font-color2);\n",
       "  font-weight: 500;\n",
       "}\n",
       "\n",
       ".xr-section-summary > span {\n",
       "  display: inline-block;\n",
       "  padding-left: 0.5em;\n",
       "}\n",
       "\n",
       ".xr-section-summary-in:disabled + label {\n",
       "  color: var(--xr-font-color2);\n",
       "}\n",
       "\n",
       ".xr-section-summary-in + label:before {\n",
       "  display: inline-block;\n",
       "  content: \"►\";\n",
       "  font-size: 11px;\n",
       "  width: 15px;\n",
       "  text-align: center;\n",
       "}\n",
       "\n",
       ".xr-section-summary-in:disabled + label:before {\n",
       "  color: var(--xr-disabled-color);\n",
       "}\n",
       "\n",
       ".xr-section-summary-in:checked + label:before {\n",
       "  content: \"▼\";\n",
       "}\n",
       "\n",
       ".xr-section-summary-in:checked + label > span {\n",
       "  display: none;\n",
       "}\n",
       "\n",
       ".xr-section-summary,\n",
       ".xr-section-inline-details {\n",
       "  padding-top: 4px;\n",
       "  padding-bottom: 4px;\n",
       "}\n",
       "\n",
       ".xr-section-inline-details {\n",
       "  grid-column: 2 / -1;\n",
       "}\n",
       "\n",
       ".xr-section-details {\n",
       "  display: none;\n",
       "  grid-column: 1 / -1;\n",
       "  margin-bottom: 5px;\n",
       "}\n",
       "\n",
       ".xr-section-summary-in:checked ~ .xr-section-details {\n",
       "  display: contents;\n",
       "}\n",
       "\n",
       ".xr-array-wrap {\n",
       "  grid-column: 1 / -1;\n",
       "  display: grid;\n",
       "  grid-template-columns: 20px auto;\n",
       "}\n",
       "\n",
       ".xr-array-wrap > label {\n",
       "  grid-column: 1;\n",
       "  vertical-align: top;\n",
       "}\n",
       "\n",
       ".xr-preview {\n",
       "  color: var(--xr-font-color3);\n",
       "}\n",
       "\n",
       ".xr-array-preview,\n",
       ".xr-array-data {\n",
       "  padding: 0 5px !important;\n",
       "  grid-column: 2;\n",
       "}\n",
       "\n",
       ".xr-array-data,\n",
       ".xr-array-in:checked ~ .xr-array-preview {\n",
       "  display: none;\n",
       "}\n",
       "\n",
       ".xr-array-in:checked ~ .xr-array-data,\n",
       ".xr-array-preview {\n",
       "  display: inline-block;\n",
       "}\n",
       "\n",
       ".xr-dim-list {\n",
       "  display: inline-block !important;\n",
       "  list-style: none;\n",
       "  padding: 0 !important;\n",
       "  margin: 0;\n",
       "}\n",
       "\n",
       ".xr-dim-list li {\n",
       "  display: inline-block;\n",
       "  padding: 0;\n",
       "  margin: 0;\n",
       "}\n",
       "\n",
       ".xr-dim-list:before {\n",
       "  content: \"(\";\n",
       "}\n",
       "\n",
       ".xr-dim-list:after {\n",
       "  content: \")\";\n",
       "}\n",
       "\n",
       ".xr-dim-list li:not(:last-child):after {\n",
       "  content: \",\";\n",
       "  padding-right: 5px;\n",
       "}\n",
       "\n",
       ".xr-has-index {\n",
       "  font-weight: bold;\n",
       "}\n",
       "\n",
       ".xr-var-list,\n",
       ".xr-var-item {\n",
       "  display: contents;\n",
       "}\n",
       "\n",
       ".xr-var-item > div,\n",
       ".xr-var-item label,\n",
       ".xr-var-item > .xr-var-name span {\n",
       "  background-color: var(--xr-background-color-row-even);\n",
       "  margin-bottom: 0;\n",
       "}\n",
       "\n",
       ".xr-var-item > .xr-var-name:hover span {\n",
       "  padding-right: 5px;\n",
       "}\n",
       "\n",
       ".xr-var-list > li:nth-child(odd) > div,\n",
       ".xr-var-list > li:nth-child(odd) > label,\n",
       ".xr-var-list > li:nth-child(odd) > .xr-var-name span {\n",
       "  background-color: var(--xr-background-color-row-odd);\n",
       "}\n",
       "\n",
       ".xr-var-name {\n",
       "  grid-column: 1;\n",
       "}\n",
       "\n",
       ".xr-var-dims {\n",
       "  grid-column: 2;\n",
       "}\n",
       "\n",
       ".xr-var-dtype {\n",
       "  grid-column: 3;\n",
       "  text-align: right;\n",
       "  color: var(--xr-font-color2);\n",
       "}\n",
       "\n",
       ".xr-var-preview {\n",
       "  grid-column: 4;\n",
       "}\n",
       "\n",
       ".xr-index-preview {\n",
       "  grid-column: 2 / 5;\n",
       "  color: var(--xr-font-color2);\n",
       "}\n",
       "\n",
       ".xr-var-name,\n",
       ".xr-var-dims,\n",
       ".xr-var-dtype,\n",
       ".xr-preview,\n",
       ".xr-attrs dt {\n",
       "  white-space: nowrap;\n",
       "  overflow: hidden;\n",
       "  text-overflow: ellipsis;\n",
       "  padding-right: 10px;\n",
       "}\n",
       "\n",
       ".xr-var-name:hover,\n",
       ".xr-var-dims:hover,\n",
       ".xr-var-dtype:hover,\n",
       ".xr-attrs dt:hover {\n",
       "  overflow: visible;\n",
       "  width: auto;\n",
       "  z-index: 1;\n",
       "}\n",
       "\n",
       ".xr-var-attrs,\n",
       ".xr-var-data,\n",
       ".xr-index-data {\n",
       "  display: none;\n",
       "  background-color: var(--xr-background-color) !important;\n",
       "  padding-bottom: 5px !important;\n",
       "}\n",
       "\n",
       ".xr-var-attrs-in:checked ~ .xr-var-attrs,\n",
       ".xr-var-data-in:checked ~ .xr-var-data,\n",
       ".xr-index-data-in:checked ~ .xr-index-data {\n",
       "  display: block;\n",
       "}\n",
       "\n",
       ".xr-var-data > table {\n",
       "  float: right;\n",
       "}\n",
       "\n",
       ".xr-var-name span,\n",
       ".xr-var-data,\n",
       ".xr-index-name div,\n",
       ".xr-index-data,\n",
       ".xr-attrs {\n",
       "  padding-left: 25px !important;\n",
       "}\n",
       "\n",
       ".xr-attrs,\n",
       ".xr-var-attrs,\n",
       ".xr-var-data,\n",
       ".xr-index-data {\n",
       "  grid-column: 1 / -1;\n",
       "}\n",
       "\n",
       "dl.xr-attrs {\n",
       "  padding: 0;\n",
       "  margin: 0;\n",
       "  display: grid;\n",
       "  grid-template-columns: 125px auto;\n",
       "}\n",
       "\n",
       ".xr-attrs dt,\n",
       ".xr-attrs dd {\n",
       "  padding: 0;\n",
       "  margin: 0;\n",
       "  float: left;\n",
       "  padding-right: 10px;\n",
       "  width: auto;\n",
       "}\n",
       "\n",
       ".xr-attrs dt {\n",
       "  font-weight: normal;\n",
       "  grid-column: 1;\n",
       "}\n",
       "\n",
       ".xr-attrs dt:hover span {\n",
       "  display: inline-block;\n",
       "  background: var(--xr-background-color);\n",
       "  padding-right: 10px;\n",
       "}\n",
       "\n",
       ".xr-attrs dd {\n",
       "  grid-column: 2;\n",
       "  white-space: pre-wrap;\n",
       "  word-break: break-all;\n",
       "}\n",
       "\n",
       ".xr-icon-database,\n",
       ".xr-icon-file-text2,\n",
       ".xr-no-icon {\n",
       "  display: inline-block;\n",
       "  vertical-align: middle;\n",
       "  width: 1em;\n",
       "  height: 1.5em !important;\n",
       "  stroke-width: 0;\n",
       "  stroke: currentColor;\n",
       "  fill: currentColor;\n",
       "}\n",
       "</style><pre class='xr-text-repr-fallback'>&lt;xarray.Dataset&gt; Size: 2MB\n",
       "Dimensions:    (lat: 225, lon: 109)\n",
       "Coordinates:\n",
       "  * lat        (lat) float32 900B 55.34 55.36 55.37 55.39 ... 59.07 59.09 59.11\n",
       "  * lon        (lon) float32 436B 10.04 10.07 10.1 10.12 ... 12.99 13.01 13.04\n",
       "Data variables: (12/19)\n",
       "    VHM0       (lat, lon) float32 98kB nan nan nan nan nan ... nan nan nan nan\n",
       "    VTPK       (lat, lon) float32 98kB nan nan nan nan nan ... nan nan nan nan\n",
       "    VTM10      (lat, lon) float32 98kB nan nan nan nan nan ... nan nan nan nan\n",
       "    VTM02      (lat, lon) float32 98kB nan nan nan nan nan ... nan nan nan nan\n",
       "    VMDR       (lat, lon) float32 98kB nan nan nan nan nan ... nan nan nan nan\n",
       "    VHM0_WW    (lat, lon) float32 98kB nan nan nan nan nan ... nan nan nan nan\n",
       "    ...         ...\n",
       "    VTM01_SW2  (lat, lon) float32 98kB nan nan nan nan nan ... nan nan nan nan\n",
       "    VMDR_SW2   (lat, lon) float32 98kB nan nan nan nan nan ... nan nan nan nan\n",
       "    VSDX       (lat, lon) float32 98kB nan nan nan nan nan ... nan nan nan nan\n",
       "    VSDY       (lat, lon) float32 98kB nan nan nan nan nan ... nan nan nan nan\n",
       "    VMXL       (lat, lon) float32 98kB nan nan nan nan nan ... nan nan nan nan\n",
       "    VCMX       (lat, lon) float32 98kB nan nan nan nan nan ... nan nan nan nan</pre><div class='xr-wrap' style='display:none'><div class='xr-header'><div class='xr-obj-type'>xarray.Dataset</div></div><ul class='xr-sections'><li class='xr-section-item'><input id='section-aa3a373f-a8f6-4cd1-9f10-b92d686ae144' class='xr-section-summary-in' type='checkbox' disabled ><label for='section-aa3a373f-a8f6-4cd1-9f10-b92d686ae144' class='xr-section-summary'  title='Expand/collapse section'>Dimensions:</label><div class='xr-section-inline-details'><ul class='xr-dim-list'><li><span class='xr-has-index'>lat</span>: 225</li><li><span class='xr-has-index'>lon</span>: 109</li></ul></div><div class='xr-section-details'></div></li><li class='xr-section-item'><input id='section-9b7139b9-e9b4-4a64-a18a-90579d3dff34' class='xr-section-summary-in' type='checkbox'  checked><label for='section-9b7139b9-e9b4-4a64-a18a-90579d3dff34' class='xr-section-summary' >Coordinates: <span>(2)</span></label><div class='xr-section-inline-details'></div><div class='xr-section-details'><ul class='xr-var-list'><li class='xr-var-item'><div class='xr-var-name'><span class='xr-has-index'>lat</span></div><div class='xr-var-dims'>(lat)</div><div class='xr-var-dtype'>float32</div><div class='xr-var-preview xr-preview'>55.34 55.36 55.37 ... 59.09 59.11</div><input id='attrs-5f800f93-414d-4130-8ebf-c4c16838eae1' class='xr-var-attrs-in' type='checkbox' ><label for='attrs-5f800f93-414d-4130-8ebf-c4c16838eae1' title='Show/Hide attributes'><svg class='icon xr-icon-file-text2'><use xlink:href='#icon-file-text2'></use></svg></label><input id='data-1b0d4187-b97e-4b31-a01a-a7ae168ba6bd' class='xr-var-data-in' type='checkbox'><label for='data-1b0d4187-b97e-4b31-a01a-a7ae168ba6bd' title='Show/Hide data repr'><svg class='icon xr-icon-database'><use xlink:href='#icon-database'></use></svg></label><div class='xr-var-attrs'><dl class='xr-attrs'><dt><span>standard_name :</span></dt><dd>latitude</dd><dt><span>long_name :</span></dt><dd>latitude</dd><dt><span>units :</span></dt><dd>degrees_north</dd><dt><span>axis :</span></dt><dd>Y</dd></dl></div><div class='xr-var-data'><pre>array([55.34153 , 55.358196, 55.374863, ..., 59.074715, 59.09138 , 59.108047],\n",
       "      shape=(225,), dtype=float32)</pre></div></li><li class='xr-var-item'><div class='xr-var-name'><span class='xr-has-index'>lon</span></div><div class='xr-var-dims'>(lon)</div><div class='xr-var-dtype'>float32</div><div class='xr-var-preview xr-preview'>10.04 10.07 10.1 ... 13.01 13.04</div><input id='attrs-d1acc90c-2426-4c0d-9af3-5dbb29798a41' class='xr-var-attrs-in' type='checkbox' ><label for='attrs-d1acc90c-2426-4c0d-9af3-5dbb29798a41' title='Show/Hide attributes'><svg class='icon xr-icon-file-text2'><use xlink:href='#icon-file-text2'></use></svg></label><input id='data-f998ff8e-43f2-48c8-aba2-b55dbeaa579a' class='xr-var-data-in' type='checkbox'><label for='data-f998ff8e-43f2-48c8-aba2-b55dbeaa579a' title='Show/Hide data repr'><svg class='icon xr-icon-database'><use xlink:href='#icon-database'></use></svg></label><div class='xr-var-attrs'><dl class='xr-attrs'><dt><span>standard_name :</span></dt><dd>longitude</dd><dt><span>long_name :</span></dt><dd>longitude</dd><dt><span>units :</span></dt><dd>degrees_east</dd><dt><span>axis :</span></dt><dd>X</dd></dl></div><div class='xr-var-data'><pre>array([10.041636, 10.069413, 10.097191, 10.124968, 10.152744, 10.180521,\n",
       "       10.208299, 10.236075, 10.263852, 10.29163 , 10.319407, 10.347183,\n",
       "       10.37496 , 10.402738, 10.430514, 10.458291, 10.486069, 10.513845,\n",
       "       10.541622, 10.5694  , 10.597177, 10.624953, 10.65273 , 10.680508,\n",
       "       10.708284, 10.736061, 10.763839, 10.791615, 10.819392, 10.847169,\n",
       "       10.874947, 10.902723, 10.9305  , 10.958278, 10.986054, 11.013831,\n",
       "       11.041609, 11.069386, 11.097162, 11.124939, 11.152717, 11.180493,\n",
       "       11.20827 , 11.236048, 11.263824, 11.291601, 11.319378, 11.347156,\n",
       "       11.374932, 11.402709, 11.430487, 11.458263, 11.48604 , 11.513818,\n",
       "       11.541595, 11.569371, 11.597148, 11.624926, 11.652702, 11.680479,\n",
       "       11.708257, 11.736033, 11.76381 , 11.791587, 11.819365, 11.847141,\n",
       "       11.874918, 11.902696, 11.930472, 11.958249, 11.986027, 12.013803,\n",
       "       12.04158 , 12.069357, 12.097135, 12.124911, 12.152688, 12.180466,\n",
       "       12.208242, 12.236019, 12.263797, 12.291574, 12.31935 , 12.347127,\n",
       "       12.374905, 12.402681, 12.430458, 12.458236, 12.486012, 12.513789,\n",
       "       12.541566, 12.569344, 12.59712 , 12.624897, 12.652675, 12.680451,\n",
       "       12.708228, 12.736006, 12.763783, 12.791559, 12.819336, 12.847114,\n",
       "       12.87489 , 12.902667, 12.930445, 12.958221, 12.985998, 13.013775,\n",
       "       13.041553], dtype=float32)</pre></div></li></ul></div></li><li class='xr-section-item'><input id='section-576f32e5-ff0c-460d-86fe-a9308db521b0' class='xr-section-summary-in' type='checkbox'  ><label for='section-576f32e5-ff0c-460d-86fe-a9308db521b0' class='xr-section-summary' >Data variables: <span>(19)</span></label><div class='xr-section-inline-details'></div><div class='xr-section-details'><ul class='xr-var-list'><li class='xr-var-item'><div class='xr-var-name'><span>VHM0</span></div><div class='xr-var-dims'>(lat, lon)</div><div class='xr-var-dtype'>float32</div><div class='xr-var-preview xr-preview'>nan nan nan nan ... nan nan nan nan</div><input id='attrs-a47a60e2-f1ce-4e13-a03d-12327e58872c' class='xr-var-attrs-in' type='checkbox' disabled><label for='attrs-a47a60e2-f1ce-4e13-a03d-12327e58872c' title='Show/Hide attributes'><svg class='icon xr-icon-file-text2'><use xlink:href='#icon-file-text2'></use></svg></label><input id='data-8f1b1d06-5fef-4c96-bda0-65cc985db553' class='xr-var-data-in' type='checkbox'><label for='data-8f1b1d06-5fef-4c96-bda0-65cc985db553' title='Show/Hide data repr'><svg class='icon xr-icon-database'><use xlink:href='#icon-database'></use></svg></label><div class='xr-var-attrs'><dl class='xr-attrs'></dl></div><div class='xr-var-data'><pre>array([[nan, nan, nan, ..., nan, nan, nan],\n",
       "       [nan, nan, nan, ..., nan, nan, nan],\n",
       "       [nan, nan, nan, ..., nan, nan, nan],\n",
       "       ...,\n",
       "       [nan, nan, nan, ..., nan, nan, nan],\n",
       "       [nan, nan, nan, ..., nan, nan, nan],\n",
       "       [nan, nan, nan, ..., nan, nan, nan]],\n",
       "      shape=(225, 109), dtype=float32)</pre></div></li><li class='xr-var-item'><div class='xr-var-name'><span>VTPK</span></div><div class='xr-var-dims'>(lat, lon)</div><div class='xr-var-dtype'>float32</div><div class='xr-var-preview xr-preview'>nan nan nan nan ... nan nan nan nan</div><input id='attrs-a6a3358a-8413-423e-8e9d-f43e021bc4ed' class='xr-var-attrs-in' type='checkbox' disabled><label for='attrs-a6a3358a-8413-423e-8e9d-f43e021bc4ed' title='Show/Hide attributes'><svg class='icon xr-icon-file-text2'><use xlink:href='#icon-file-text2'></use></svg></label><input id='data-953defa4-c1b5-49d9-a2c2-1bd50c4e3e64' class='xr-var-data-in' type='checkbox'><label for='data-953defa4-c1b5-49d9-a2c2-1bd50c4e3e64' title='Show/Hide data repr'><svg class='icon xr-icon-database'><use xlink:href='#icon-database'></use></svg></label><div class='xr-var-attrs'><dl class='xr-attrs'></dl></div><div class='xr-var-data'><pre>array([[nan, nan, nan, ..., nan, nan, nan],\n",
       "       [nan, nan, nan, ..., nan, nan, nan],\n",
       "       [nan, nan, nan, ..., nan, nan, nan],\n",
       "       ...,\n",
       "       [nan, nan, nan, ..., nan, nan, nan],\n",
       "       [nan, nan, nan, ..., nan, nan, nan],\n",
       "       [nan, nan, nan, ..., nan, nan, nan]],\n",
       "      shape=(225, 109), dtype=float32)</pre></div></li><li class='xr-var-item'><div class='xr-var-name'><span>VTM10</span></div><div class='xr-var-dims'>(lat, lon)</div><div class='xr-var-dtype'>float32</div><div class='xr-var-preview xr-preview'>nan nan nan nan ... nan nan nan nan</div><input id='attrs-ca9531dd-d9a5-4a65-9739-260e0ef86b71' class='xr-var-attrs-in' type='checkbox' disabled><label for='attrs-ca9531dd-d9a5-4a65-9739-260e0ef86b71' title='Show/Hide attributes'><svg class='icon xr-icon-file-text2'><use xlink:href='#icon-file-text2'></use></svg></label><input id='data-f4781a20-bd8d-450b-8232-638f532eec4e' class='xr-var-data-in' type='checkbox'><label for='data-f4781a20-bd8d-450b-8232-638f532eec4e' title='Show/Hide data repr'><svg class='icon xr-icon-database'><use xlink:href='#icon-database'></use></svg></label><div class='xr-var-attrs'><dl class='xr-attrs'></dl></div><div class='xr-var-data'><pre>array([[nan, nan, nan, ..., nan, nan, nan],\n",
       "       [nan, nan, nan, ..., nan, nan, nan],\n",
       "       [nan, nan, nan, ..., nan, nan, nan],\n",
       "       ...,\n",
       "       [nan, nan, nan, ..., nan, nan, nan],\n",
       "       [nan, nan, nan, ..., nan, nan, nan],\n",
       "       [nan, nan, nan, ..., nan, nan, nan]],\n",
       "      shape=(225, 109), dtype=float32)</pre></div></li><li class='xr-var-item'><div class='xr-var-name'><span>VTM02</span></div><div class='xr-var-dims'>(lat, lon)</div><div class='xr-var-dtype'>float32</div><div class='xr-var-preview xr-preview'>nan nan nan nan ... nan nan nan nan</div><input id='attrs-0f96c0f3-8612-4096-9c34-82f6ae20323b' class='xr-var-attrs-in' type='checkbox' disabled><label for='attrs-0f96c0f3-8612-4096-9c34-82f6ae20323b' title='Show/Hide attributes'><svg class='icon xr-icon-file-text2'><use xlink:href='#icon-file-text2'></use></svg></label><input id='data-869dbea1-2d1d-44cc-aa22-00d614266850' class='xr-var-data-in' type='checkbox'><label for='data-869dbea1-2d1d-44cc-aa22-00d614266850' title='Show/Hide data repr'><svg class='icon xr-icon-database'><use xlink:href='#icon-database'></use></svg></label><div class='xr-var-attrs'><dl class='xr-attrs'></dl></div><div class='xr-var-data'><pre>array([[nan, nan, nan, ..., nan, nan, nan],\n",
       "       [nan, nan, nan, ..., nan, nan, nan],\n",
       "       [nan, nan, nan, ..., nan, nan, nan],\n",
       "       ...,\n",
       "       [nan, nan, nan, ..., nan, nan, nan],\n",
       "       [nan, nan, nan, ..., nan, nan, nan],\n",
       "       [nan, nan, nan, ..., nan, nan, nan]],\n",
       "      shape=(225, 109), dtype=float32)</pre></div></li><li class='xr-var-item'><div class='xr-var-name'><span>VMDR</span></div><div class='xr-var-dims'>(lat, lon)</div><div class='xr-var-dtype'>float32</div><div class='xr-var-preview xr-preview'>nan nan nan nan ... nan nan nan nan</div><input id='attrs-36f4685a-ec52-43f4-bedf-d3f39d6add27' class='xr-var-attrs-in' type='checkbox' disabled><label for='attrs-36f4685a-ec52-43f4-bedf-d3f39d6add27' title='Show/Hide attributes'><svg class='icon xr-icon-file-text2'><use xlink:href='#icon-file-text2'></use></svg></label><input id='data-3c9ec559-632d-4e05-955d-9be0ce5c75ad' class='xr-var-data-in' type='checkbox'><label for='data-3c9ec559-632d-4e05-955d-9be0ce5c75ad' title='Show/Hide data repr'><svg class='icon xr-icon-database'><use xlink:href='#icon-database'></use></svg></label><div class='xr-var-attrs'><dl class='xr-attrs'></dl></div><div class='xr-var-data'><pre>array([[nan, nan, nan, ..., nan, nan, nan],\n",
       "       [nan, nan, nan, ..., nan, nan, nan],\n",
       "       [nan, nan, nan, ..., nan, nan, nan],\n",
       "       ...,\n",
       "       [nan, nan, nan, ..., nan, nan, nan],\n",
       "       [nan, nan, nan, ..., nan, nan, nan],\n",
       "       [nan, nan, nan, ..., nan, nan, nan]],\n",
       "      shape=(225, 109), dtype=float32)</pre></div></li><li class='xr-var-item'><div class='xr-var-name'><span>VHM0_WW</span></div><div class='xr-var-dims'>(lat, lon)</div><div class='xr-var-dtype'>float32</div><div class='xr-var-preview xr-preview'>nan nan nan nan ... nan nan nan nan</div><input id='attrs-20f90839-2ae4-4e4e-9b49-ec5796a0de70' class='xr-var-attrs-in' type='checkbox' disabled><label for='attrs-20f90839-2ae4-4e4e-9b49-ec5796a0de70' title='Show/Hide attributes'><svg class='icon xr-icon-file-text2'><use xlink:href='#icon-file-text2'></use></svg></label><input id='data-7cd4d951-fb60-477d-b952-8b6cec0192ef' class='xr-var-data-in' type='checkbox'><label for='data-7cd4d951-fb60-477d-b952-8b6cec0192ef' title='Show/Hide data repr'><svg class='icon xr-icon-database'><use xlink:href='#icon-database'></use></svg></label><div class='xr-var-attrs'><dl class='xr-attrs'></dl></div><div class='xr-var-data'><pre>array([[nan, nan, nan, ..., nan, nan, nan],\n",
       "       [nan, nan, nan, ..., nan, nan, nan],\n",
       "       [nan, nan, nan, ..., nan, nan, nan],\n",
       "       ...,\n",
       "       [nan, nan, nan, ..., nan, nan, nan],\n",
       "       [nan, nan, nan, ..., nan, nan, nan],\n",
       "       [nan, nan, nan, ..., nan, nan, nan]],\n",
       "      shape=(225, 109), dtype=float32)</pre></div></li><li class='xr-var-item'><div class='xr-var-name'><span>VTM01_WW</span></div><div class='xr-var-dims'>(lat, lon)</div><div class='xr-var-dtype'>float32</div><div class='xr-var-preview xr-preview'>nan nan nan nan ... nan nan nan nan</div><input id='attrs-f4406ac8-4a67-409c-ac0a-635e3ba79b05' class='xr-var-attrs-in' type='checkbox' disabled><label for='attrs-f4406ac8-4a67-409c-ac0a-635e3ba79b05' title='Show/Hide attributes'><svg class='icon xr-icon-file-text2'><use xlink:href='#icon-file-text2'></use></svg></label><input id='data-932b365b-aebe-45bf-b79e-564d2042afae' class='xr-var-data-in' type='checkbox'><label for='data-932b365b-aebe-45bf-b79e-564d2042afae' title='Show/Hide data repr'><svg class='icon xr-icon-database'><use xlink:href='#icon-database'></use></svg></label><div class='xr-var-attrs'><dl class='xr-attrs'></dl></div><div class='xr-var-data'><pre>array([[nan, nan, nan, ..., nan, nan, nan],\n",
       "       [nan, nan, nan, ..., nan, nan, nan],\n",
       "       [nan, nan, nan, ..., nan, nan, nan],\n",
       "       ...,\n",
       "       [nan, nan, nan, ..., nan, nan, nan],\n",
       "       [nan, nan, nan, ..., nan, nan, nan],\n",
       "       [nan, nan, nan, ..., nan, nan, nan]],\n",
       "      shape=(225, 109), dtype=float32)</pre></div></li><li class='xr-var-item'><div class='xr-var-name'><span>VMDR_WW</span></div><div class='xr-var-dims'>(lat, lon)</div><div class='xr-var-dtype'>float32</div><div class='xr-var-preview xr-preview'>nan nan nan nan ... nan nan nan nan</div><input id='attrs-eca4c66e-6480-44f8-8a4e-d359fe4f33d5' class='xr-var-attrs-in' type='checkbox' disabled><label for='attrs-eca4c66e-6480-44f8-8a4e-d359fe4f33d5' title='Show/Hide attributes'><svg class='icon xr-icon-file-text2'><use xlink:href='#icon-file-text2'></use></svg></label><input id='data-d80d3239-0be4-4f31-817c-e8227a9138f4' class='xr-var-data-in' type='checkbox'><label for='data-d80d3239-0be4-4f31-817c-e8227a9138f4' title='Show/Hide data repr'><svg class='icon xr-icon-database'><use xlink:href='#icon-database'></use></svg></label><div class='xr-var-attrs'><dl class='xr-attrs'></dl></div><div class='xr-var-data'><pre>array([[nan, nan, nan, ..., nan, nan, nan],\n",
       "       [nan, nan, nan, ..., nan, nan, nan],\n",
       "       [nan, nan, nan, ..., nan, nan, nan],\n",
       "       ...,\n",
       "       [nan, nan, nan, ..., nan, nan, nan],\n",
       "       [nan, nan, nan, ..., nan, nan, nan],\n",
       "       [nan, nan, nan, ..., nan, nan, nan]],\n",
       "      shape=(225, 109), dtype=float32)</pre></div></li><li class='xr-var-item'><div class='xr-var-name'><span>VPED</span></div><div class='xr-var-dims'>(lat, lon)</div><div class='xr-var-dtype'>float32</div><div class='xr-var-preview xr-preview'>nan nan nan nan ... nan nan nan nan</div><input id='attrs-f5770aba-d952-4464-a83a-768a140db4db' class='xr-var-attrs-in' type='checkbox' disabled><label for='attrs-f5770aba-d952-4464-a83a-768a140db4db' title='Show/Hide attributes'><svg class='icon xr-icon-file-text2'><use xlink:href='#icon-file-text2'></use></svg></label><input id='data-82b245a4-d24b-4233-b4d6-6ad497aeefb5' class='xr-var-data-in' type='checkbox'><label for='data-82b245a4-d24b-4233-b4d6-6ad497aeefb5' title='Show/Hide data repr'><svg class='icon xr-icon-database'><use xlink:href='#icon-database'></use></svg></label><div class='xr-var-attrs'><dl class='xr-attrs'></dl></div><div class='xr-var-data'><pre>array([[nan, nan, nan, ..., nan, nan, nan],\n",
       "       [nan, nan, nan, ..., nan, nan, nan],\n",
       "       [nan, nan, nan, ..., nan, nan, nan],\n",
       "       ...,\n",
       "       [nan, nan, nan, ..., nan, nan, nan],\n",
       "       [nan, nan, nan, ..., nan, nan, nan],\n",
       "       [nan, nan, nan, ..., nan, nan, nan]],\n",
       "      shape=(225, 109), dtype=float32)</pre></div></li><li class='xr-var-item'><div class='xr-var-name'><span>VHM0_SW1</span></div><div class='xr-var-dims'>(lat, lon)</div><div class='xr-var-dtype'>float32</div><div class='xr-var-preview xr-preview'>nan nan nan nan ... nan nan nan nan</div><input id='attrs-96b733b1-5dd4-4569-808d-ee0e1c39e66b' class='xr-var-attrs-in' type='checkbox' disabled><label for='attrs-96b733b1-5dd4-4569-808d-ee0e1c39e66b' title='Show/Hide attributes'><svg class='icon xr-icon-file-text2'><use xlink:href='#icon-file-text2'></use></svg></label><input id='data-e19a437f-56dd-4f07-97ce-6cb71c2214fc' class='xr-var-data-in' type='checkbox'><label for='data-e19a437f-56dd-4f07-97ce-6cb71c2214fc' title='Show/Hide data repr'><svg class='icon xr-icon-database'><use xlink:href='#icon-database'></use></svg></label><div class='xr-var-attrs'><dl class='xr-attrs'></dl></div><div class='xr-var-data'><pre>array([[nan, nan, nan, ..., nan, nan, nan],\n",
       "       [nan, nan, nan, ..., nan, nan, nan],\n",
       "       [nan, nan, nan, ..., nan, nan, nan],\n",
       "       ...,\n",
       "       [nan, nan, nan, ..., nan, nan, nan],\n",
       "       [nan, nan, nan, ..., nan, nan, nan],\n",
       "       [nan, nan, nan, ..., nan, nan, nan]],\n",
       "      shape=(225, 109), dtype=float32)</pre></div></li><li class='xr-var-item'><div class='xr-var-name'><span>VTM01_SW1</span></div><div class='xr-var-dims'>(lat, lon)</div><div class='xr-var-dtype'>float32</div><div class='xr-var-preview xr-preview'>nan nan nan nan ... nan nan nan nan</div><input id='attrs-e1e8328a-0fa7-4533-b297-20ac8a9c8e53' class='xr-var-attrs-in' type='checkbox' disabled><label for='attrs-e1e8328a-0fa7-4533-b297-20ac8a9c8e53' title='Show/Hide attributes'><svg class='icon xr-icon-file-text2'><use xlink:href='#icon-file-text2'></use></svg></label><input id='data-b1cde83f-4e64-4749-8e39-ccfabb937160' class='xr-var-data-in' type='checkbox'><label for='data-b1cde83f-4e64-4749-8e39-ccfabb937160' title='Show/Hide data repr'><svg class='icon xr-icon-database'><use xlink:href='#icon-database'></use></svg></label><div class='xr-var-attrs'><dl class='xr-attrs'></dl></div><div class='xr-var-data'><pre>array([[nan, nan, nan, ..., nan, nan, nan],\n",
       "       [nan, nan, nan, ..., nan, nan, nan],\n",
       "       [nan, nan, nan, ..., nan, nan, nan],\n",
       "       ...,\n",
       "       [nan, nan, nan, ..., nan, nan, nan],\n",
       "       [nan, nan, nan, ..., nan, nan, nan],\n",
       "       [nan, nan, nan, ..., nan, nan, nan]],\n",
       "      shape=(225, 109), dtype=float32)</pre></div></li><li class='xr-var-item'><div class='xr-var-name'><span>VMDR_SW1</span></div><div class='xr-var-dims'>(lat, lon)</div><div class='xr-var-dtype'>float32</div><div class='xr-var-preview xr-preview'>nan nan nan nan ... nan nan nan nan</div><input id='attrs-a78cd90a-5c5a-4263-ad72-4c39c566c03e' class='xr-var-attrs-in' type='checkbox' disabled><label for='attrs-a78cd90a-5c5a-4263-ad72-4c39c566c03e' title='Show/Hide attributes'><svg class='icon xr-icon-file-text2'><use xlink:href='#icon-file-text2'></use></svg></label><input id='data-f8b1b6ce-6a23-4741-87c9-59fece968bb4' class='xr-var-data-in' type='checkbox'><label for='data-f8b1b6ce-6a23-4741-87c9-59fece968bb4' title='Show/Hide data repr'><svg class='icon xr-icon-database'><use xlink:href='#icon-database'></use></svg></label><div class='xr-var-attrs'><dl class='xr-attrs'></dl></div><div class='xr-var-data'><pre>array([[nan, nan, nan, ..., nan, nan, nan],\n",
       "       [nan, nan, nan, ..., nan, nan, nan],\n",
       "       [nan, nan, nan, ..., nan, nan, nan],\n",
       "       ...,\n",
       "       [nan, nan, nan, ..., nan, nan, nan],\n",
       "       [nan, nan, nan, ..., nan, nan, nan],\n",
       "       [nan, nan, nan, ..., nan, nan, nan]],\n",
       "      shape=(225, 109), dtype=float32)</pre></div></li><li class='xr-var-item'><div class='xr-var-name'><span>VHM0_SW2</span></div><div class='xr-var-dims'>(lat, lon)</div><div class='xr-var-dtype'>float32</div><div class='xr-var-preview xr-preview'>nan nan nan nan ... nan nan nan nan</div><input id='attrs-f2c66e79-83c9-4c89-9c68-4c879195233a' class='xr-var-attrs-in' type='checkbox' disabled><label for='attrs-f2c66e79-83c9-4c89-9c68-4c879195233a' title='Show/Hide attributes'><svg class='icon xr-icon-file-text2'><use xlink:href='#icon-file-text2'></use></svg></label><input id='data-60876dff-9c66-45de-b588-179ec3fef647' class='xr-var-data-in' type='checkbox'><label for='data-60876dff-9c66-45de-b588-179ec3fef647' title='Show/Hide data repr'><svg class='icon xr-icon-database'><use xlink:href='#icon-database'></use></svg></label><div class='xr-var-attrs'><dl class='xr-attrs'></dl></div><div class='xr-var-data'><pre>array([[nan, nan, nan, ..., nan, nan, nan],\n",
       "       [nan, nan, nan, ..., nan, nan, nan],\n",
       "       [nan, nan, nan, ..., nan, nan, nan],\n",
       "       ...,\n",
       "       [nan, nan, nan, ..., nan, nan, nan],\n",
       "       [nan, nan, nan, ..., nan, nan, nan],\n",
       "       [nan, nan, nan, ..., nan, nan, nan]],\n",
       "      shape=(225, 109), dtype=float32)</pre></div></li><li class='xr-var-item'><div class='xr-var-name'><span>VTM01_SW2</span></div><div class='xr-var-dims'>(lat, lon)</div><div class='xr-var-dtype'>float32</div><div class='xr-var-preview xr-preview'>nan nan nan nan ... nan nan nan nan</div><input id='attrs-4f920490-3ee8-4cef-84be-c3e8ebf47e5d' class='xr-var-attrs-in' type='checkbox' disabled><label for='attrs-4f920490-3ee8-4cef-84be-c3e8ebf47e5d' title='Show/Hide attributes'><svg class='icon xr-icon-file-text2'><use xlink:href='#icon-file-text2'></use></svg></label><input id='data-be7d4c9a-ca74-43c7-8546-4836021e6e3c' class='xr-var-data-in' type='checkbox'><label for='data-be7d4c9a-ca74-43c7-8546-4836021e6e3c' title='Show/Hide data repr'><svg class='icon xr-icon-database'><use xlink:href='#icon-database'></use></svg></label><div class='xr-var-attrs'><dl class='xr-attrs'></dl></div><div class='xr-var-data'><pre>array([[nan, nan, nan, ..., nan, nan, nan],\n",
       "       [nan, nan, nan, ..., nan, nan, nan],\n",
       "       [nan, nan, nan, ..., nan, nan, nan],\n",
       "       ...,\n",
       "       [nan, nan, nan, ..., nan, nan, nan],\n",
       "       [nan, nan, nan, ..., nan, nan, nan],\n",
       "       [nan, nan, nan, ..., nan, nan, nan]],\n",
       "      shape=(225, 109), dtype=float32)</pre></div></li><li class='xr-var-item'><div class='xr-var-name'><span>VMDR_SW2</span></div><div class='xr-var-dims'>(lat, lon)</div><div class='xr-var-dtype'>float32</div><div class='xr-var-preview xr-preview'>nan nan nan nan ... nan nan nan nan</div><input id='attrs-29f02bf5-b1d8-4863-b637-6de32877cfb9' class='xr-var-attrs-in' type='checkbox' disabled><label for='attrs-29f02bf5-b1d8-4863-b637-6de32877cfb9' title='Show/Hide attributes'><svg class='icon xr-icon-file-text2'><use xlink:href='#icon-file-text2'></use></svg></label><input id='data-c80fe7d9-4d88-4dfd-9466-0e8a97f75151' class='xr-var-data-in' type='checkbox'><label for='data-c80fe7d9-4d88-4dfd-9466-0e8a97f75151' title='Show/Hide data repr'><svg class='icon xr-icon-database'><use xlink:href='#icon-database'></use></svg></label><div class='xr-var-attrs'><dl class='xr-attrs'></dl></div><div class='xr-var-data'><pre>array([[nan, nan, nan, ..., nan, nan, nan],\n",
       "       [nan, nan, nan, ..., nan, nan, nan],\n",
       "       [nan, nan, nan, ..., nan, nan, nan],\n",
       "       ...,\n",
       "       [nan, nan, nan, ..., nan, nan, nan],\n",
       "       [nan, nan, nan, ..., nan, nan, nan],\n",
       "       [nan, nan, nan, ..., nan, nan, nan]],\n",
       "      shape=(225, 109), dtype=float32)</pre></div></li><li class='xr-var-item'><div class='xr-var-name'><span>VSDX</span></div><div class='xr-var-dims'>(lat, lon)</div><div class='xr-var-dtype'>float32</div><div class='xr-var-preview xr-preview'>nan nan nan nan ... nan nan nan nan</div><input id='attrs-9bf1adce-bb63-4be7-82f0-b689da68c1a8' class='xr-var-attrs-in' type='checkbox' disabled><label for='attrs-9bf1adce-bb63-4be7-82f0-b689da68c1a8' title='Show/Hide attributes'><svg class='icon xr-icon-file-text2'><use xlink:href='#icon-file-text2'></use></svg></label><input id='data-d736d76e-8629-433b-a3d5-66718616c7a3' class='xr-var-data-in' type='checkbox'><label for='data-d736d76e-8629-433b-a3d5-66718616c7a3' title='Show/Hide data repr'><svg class='icon xr-icon-database'><use xlink:href='#icon-database'></use></svg></label><div class='xr-var-attrs'><dl class='xr-attrs'></dl></div><div class='xr-var-data'><pre>array([[nan, nan, nan, ..., nan, nan, nan],\n",
       "       [nan, nan, nan, ..., nan, nan, nan],\n",
       "       [nan, nan, nan, ..., nan, nan, nan],\n",
       "       ...,\n",
       "       [nan, nan, nan, ..., nan, nan, nan],\n",
       "       [nan, nan, nan, ..., nan, nan, nan],\n",
       "       [nan, nan, nan, ..., nan, nan, nan]],\n",
       "      shape=(225, 109), dtype=float32)</pre></div></li><li class='xr-var-item'><div class='xr-var-name'><span>VSDY</span></div><div class='xr-var-dims'>(lat, lon)</div><div class='xr-var-dtype'>float32</div><div class='xr-var-preview xr-preview'>nan nan nan nan ... nan nan nan nan</div><input id='attrs-4409b402-1783-4f2e-8b8b-38a7e2f00436' class='xr-var-attrs-in' type='checkbox' disabled><label for='attrs-4409b402-1783-4f2e-8b8b-38a7e2f00436' title='Show/Hide attributes'><svg class='icon xr-icon-file-text2'><use xlink:href='#icon-file-text2'></use></svg></label><input id='data-dc45d67a-6860-49d3-861e-f07c3d804d5a' class='xr-var-data-in' type='checkbox'><label for='data-dc45d67a-6860-49d3-861e-f07c3d804d5a' title='Show/Hide data repr'><svg class='icon xr-icon-database'><use xlink:href='#icon-database'></use></svg></label><div class='xr-var-attrs'><dl class='xr-attrs'></dl></div><div class='xr-var-data'><pre>array([[nan, nan, nan, ..., nan, nan, nan],\n",
       "       [nan, nan, nan, ..., nan, nan, nan],\n",
       "       [nan, nan, nan, ..., nan, nan, nan],\n",
       "       ...,\n",
       "       [nan, nan, nan, ..., nan, nan, nan],\n",
       "       [nan, nan, nan, ..., nan, nan, nan],\n",
       "       [nan, nan, nan, ..., nan, nan, nan]],\n",
       "      shape=(225, 109), dtype=float32)</pre></div></li><li class='xr-var-item'><div class='xr-var-name'><span>VMXL</span></div><div class='xr-var-dims'>(lat, lon)</div><div class='xr-var-dtype'>float32</div><div class='xr-var-preview xr-preview'>nan nan nan nan ... nan nan nan nan</div><input id='attrs-a0905349-110c-43c1-90ee-17eea4792168' class='xr-var-attrs-in' type='checkbox' disabled><label for='attrs-a0905349-110c-43c1-90ee-17eea4792168' title='Show/Hide attributes'><svg class='icon xr-icon-file-text2'><use xlink:href='#icon-file-text2'></use></svg></label><input id='data-06fa3b91-fd4f-41a0-ba80-8315f98dfb5c' class='xr-var-data-in' type='checkbox'><label for='data-06fa3b91-fd4f-41a0-ba80-8315f98dfb5c' title='Show/Hide data repr'><svg class='icon xr-icon-database'><use xlink:href='#icon-database'></use></svg></label><div class='xr-var-attrs'><dl class='xr-attrs'></dl></div><div class='xr-var-data'><pre>array([[nan, nan, nan, ..., nan, nan, nan],\n",
       "       [nan, nan, nan, ..., nan, nan, nan],\n",
       "       [nan, nan, nan, ..., nan, nan, nan],\n",
       "       ...,\n",
       "       [nan, nan, nan, ..., nan, nan, nan],\n",
       "       [nan, nan, nan, ..., nan, nan, nan],\n",
       "       [nan, nan, nan, ..., nan, nan, nan]],\n",
       "      shape=(225, 109), dtype=float32)</pre></div></li><li class='xr-var-item'><div class='xr-var-name'><span>VCMX</span></div><div class='xr-var-dims'>(lat, lon)</div><div class='xr-var-dtype'>float32</div><div class='xr-var-preview xr-preview'>nan nan nan nan ... nan nan nan nan</div><input id='attrs-a981789f-e2ee-40cf-8190-24178e04fdc3' class='xr-var-attrs-in' type='checkbox' disabled><label for='attrs-a981789f-e2ee-40cf-8190-24178e04fdc3' title='Show/Hide attributes'><svg class='icon xr-icon-file-text2'><use xlink:href='#icon-file-text2'></use></svg></label><input id='data-bac75ccd-f798-4e2b-8a3e-d65d461867e4' class='xr-var-data-in' type='checkbox'><label for='data-bac75ccd-f798-4e2b-8a3e-d65d461867e4' title='Show/Hide data repr'><svg class='icon xr-icon-database'><use xlink:href='#icon-database'></use></svg></label><div class='xr-var-attrs'><dl class='xr-attrs'></dl></div><div class='xr-var-data'><pre>array([[nan, nan, nan, ..., nan, nan, nan],\n",
       "       [nan, nan, nan, ..., nan, nan, nan],\n",
       "       [nan, nan, nan, ..., nan, nan, nan],\n",
       "       ...,\n",
       "       [nan, nan, nan, ..., nan, nan, nan],\n",
       "       [nan, nan, nan, ..., nan, nan, nan],\n",
       "       [nan, nan, nan, ..., nan, nan, nan]],\n",
       "      shape=(225, 109), dtype=float32)</pre></div></li></ul></div></li><li class='xr-section-item'><input id='section-abcd5bcd-fbf9-4f19-8755-19c87c99e947' class='xr-section-summary-in' type='checkbox'  ><label for='section-abcd5bcd-fbf9-4f19-8755-19c87c99e947' class='xr-section-summary' >Indexes: <span>(2)</span></label><div class='xr-section-inline-details'></div><div class='xr-section-details'><ul class='xr-var-list'><li class='xr-var-item'><div class='xr-index-name'><div>lat</div></div><div class='xr-index-preview'>PandasIndex</div><input type='checkbox' disabled/><label></label><input id='index-cb05a90e-6d84-4306-b705-187bc09ce9d0' class='xr-index-data-in' type='checkbox'/><label for='index-cb05a90e-6d84-4306-b705-187bc09ce9d0' title='Show/Hide index repr'><svg class='icon xr-icon-database'><use xlink:href='#icon-database'></use></svg></label><div class='xr-index-data'><pre>PandasIndex(Index([55.341529846191406,  55.35819625854492,  55.37486267089844,\n",
       "        55.39152908325195,   55.4081916809082,  55.42485809326172,\n",
       "       55.441524505615234,  55.45819091796875, 55.474857330322266,\n",
       "        55.49152374267578,\n",
       "       ...\n",
       "       58.924720764160156,  58.94138717651367,  58.95804977416992,\n",
       "        58.97471618652344,  58.99138259887695, 59.024715423583984,\n",
       "       59.058048248291016,  59.07471466064453,  59.09138107299805,\n",
       "        59.10804748535156],\n",
       "      dtype=&#x27;float32&#x27;, name=&#x27;lat&#x27;, length=225))</pre></div></li><li class='xr-var-item'><div class='xr-index-name'><div>lon</div></div><div class='xr-index-preview'>PandasIndex</div><input type='checkbox' disabled/><label></label><input id='index-fcb54747-06a8-4db8-8f3c-a34d83db8a1d' class='xr-index-data-in' type='checkbox'/><label for='index-fcb54747-06a8-4db8-8f3c-a34d83db8a1d' title='Show/Hide index repr'><svg class='icon xr-icon-database'><use xlink:href='#icon-database'></use></svg></label><div class='xr-index-data'><pre>PandasIndex(Index([ 10.04163646697998, 10.069413185119629, 10.097190856933594,\n",
       "       10.124967575073242,  10.15274429321289, 10.180521011352539,\n",
       "       10.208298683166504, 10.236075401306152,   10.2638521194458,\n",
       "       10.291629791259766,\n",
       "       ...\n",
       "       12.791559219360352,      12.8193359375, 12.847113609313965,\n",
       "       12.874890327453613, 12.902667045593262, 12.930444717407227,\n",
       "       12.958221435546875, 12.985998153686523, 13.013774871826172,\n",
       "       13.041552543640137],\n",
       "      dtype=&#x27;float32&#x27;, name=&#x27;lon&#x27;, length=109))</pre></div></li></ul></div></li><li class='xr-section-item'><input id='section-05c0b563-9825-46ae-a0b7-683f7cca0736' class='xr-section-summary-in' type='checkbox' disabled ><label for='section-05c0b563-9825-46ae-a0b7-683f7cca0736' class='xr-section-summary'  title='Expand/collapse section'>Attributes: <span>(0)</span></label><div class='xr-section-inline-details'></div><div class='xr-section-details'><dl class='xr-attrs'></dl></div></li></ul></div></div>"
      ],
      "text/plain": [
       "<xarray.Dataset> Size: 2MB\n",
       "Dimensions:    (lat: 225, lon: 109)\n",
       "Coordinates:\n",
       "  * lat        (lat) float32 900B 55.34 55.36 55.37 55.39 ... 59.07 59.09 59.11\n",
       "  * lon        (lon) float32 436B 10.04 10.07 10.1 10.12 ... 12.99 13.01 13.04\n",
       "Data variables: (12/19)\n",
       "    VHM0       (lat, lon) float32 98kB nan nan nan nan nan ... nan nan nan nan\n",
       "    VTPK       (lat, lon) float32 98kB nan nan nan nan nan ... nan nan nan nan\n",
       "    VTM10      (lat, lon) float32 98kB nan nan nan nan nan ... nan nan nan nan\n",
       "    VTM02      (lat, lon) float32 98kB nan nan nan nan nan ... nan nan nan nan\n",
       "    VMDR       (lat, lon) float32 98kB nan nan nan nan nan ... nan nan nan nan\n",
       "    VHM0_WW    (lat, lon) float32 98kB nan nan nan nan nan ... nan nan nan nan\n",
       "    ...         ...\n",
       "    VTM01_SW2  (lat, lon) float32 98kB nan nan nan nan nan ... nan nan nan nan\n",
       "    VMDR_SW2   (lat, lon) float32 98kB nan nan nan nan nan ... nan nan nan nan\n",
       "    VSDX       (lat, lon) float32 98kB nan nan nan nan nan ... nan nan nan nan\n",
       "    VSDY       (lat, lon) float32 98kB nan nan nan nan nan ... nan nan nan nan\n",
       "    VMXL       (lat, lon) float32 98kB nan nan nan nan nan ... nan nan nan nan\n",
       "    VCMX       (lat, lon) float32 98kB nan nan nan nan nan ... nan nan nan nan"
      ]
     },
     "execution_count": 19,
     "metadata": {},
     "output_type": "execute_result"
    }
   ],
   "source": [
    "# Filter the sampled_dates list for the specified year\n",
    "year_to_filter = 2015\n",
    "filtered_dates = [date for date in sampled_dates if date.year == year_to_filter]\n",
    "files = [f'{path}/{date.year}/{date.month:02d}/filtered_CMEMS_BAL_WAV_MY_{date.year:04d}{date.month:02d}{date.day:02d}01.nc' for date in filtered_dates]\n",
    "# Open the datasets and concatenate them along the time dimension\n",
    "datasets = [xr.open_dataset(file) for file in files]\n",
    "# Concatenate the datasets along the 'time' dimension\n",
    "combined_dataset = xr.concat(datasets, dim='time')\n",
    "# Calculate the mean for each variable across time for the year\n",
    "yearly_mean = combined_dataset.mean(dim='time')\n",
    "yearly_mean"
   ]
  },
  {
   "cell_type": "code",
   "execution_count": 21,
   "id": "b7676d30",
   "metadata": {},
   "outputs": [
    {
     "name": "stdout",
     "output_type": "stream",
     "text": [
      "Yearly mean for 2015 saved.\n",
      "Yearly mean for 2016 saved.\n",
      "Yearly mean for 2017 saved.\n",
      "Yearly mean for 2018 saved.\n",
      "Yearly mean for 2019 saved.\n",
      "Yearly mean for 2020 saved.\n",
      "Yearly mean for 2021 saved.\n",
      "Yearly mean for 2022 saved.\n",
      "Yearly mean for 2023 saved.\n"
     ]
    }
   ],
   "source": [
    "for year_to_filter in range(2015,2024):\n",
    "    filtered_dates = [date for date in sampled_dates if date.year == year_to_filter]\n",
    "    files = [f'{path}/{date.year}/{date.month:02d}/filtered_CMEMS_BAL_WAV_MY_{date.year:04d}{date.month:02d}{date.day:02d}01.nc' for date in filtered_dates]\n",
    "    # Open the datasets and concatenate them along the time dimension\n",
    "    datasets = [xr.open_dataset(file) for file in files]\n",
    "    # Concatenate the datasets along the 'time' dimension\n",
    "    combined_dataset = xr.concat(datasets, dim='time')\n",
    "    # Calculate the mean for each variable across time for the year\n",
    "    yearly_mean = combined_dataset.mean(dim='time')\n",
    "    # Save the yearly mean to a new NetCDF file\n",
    "    yearly_mean.to_netcdf(f'{path}/{year_to_filter}/yearly_mean_CMEMS_BAL_WAV_MY_{year_to_filter}.nc')\n",
    "    print(f'Yearly mean for {year_to_filter} saved.')"
   ]
  }
 ],
 "metadata": {
  "kernelspec": {
   "display_name": "Python 3",
   "language": "python",
   "name": "python3"
  },
  "language_info": {
   "codemirror_mode": {
    "name": "ipython",
    "version": 3
   },
   "file_extension": ".py",
   "mimetype": "text/x-python",
   "name": "python",
   "nbconvert_exporter": "python",
   "pygments_lexer": "ipython3",
   "version": "3.11.9"
  }
 },
 "nbformat": 4,
 "nbformat_minor": 5
}
