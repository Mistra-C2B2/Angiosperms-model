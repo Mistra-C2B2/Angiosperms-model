{
 "cells": [
  {
   "cell_type": "markdown",
   "id": "1201e980",
   "metadata": {},
   "source": [
    "# Pre-processing - Yearly mean\n",
    "\n",
    "I want to calculate the yearly-mean of the variables of the Baltic Sea Wave Hindcast dataset. This dataset is only available in Hourly resolution. There is 1 file per day and each file is around 200MB. If I want to download all the files and calculate the mean, I need 657GB (*365 * 200 * (2024-2015) = 657 000 MB = 657 GB*)... \n",
    "\n",
    "This is not possible so I will use the same method ussualy used to carry a survey around the population. I will download a random sample of dataset and calculate the mean based on this sample.  Let's say I will dowload 10% of the dataset, it means I need to download 328 files (*365 * 9 * 0,10 = 328*).\n",
    "\n",
    "#### Required Libraries\n",
    "- `pandas` for reading and manipulating data.\n",
    "- `random` for creating random samples.\n",
    "- `requests` to interact with the API.\n",
    "- `netCDF4` to work with NetCDF files.\n",
    "\n",
    "Let's start by creating a random list of 328 dates.\n"
   ]
  },
  {
   "cell_type": "code",
   "execution_count": 1,
   "id": "2e908893",
   "metadata": {},
   "outputs": [],
   "source": [
    "import pandas as pd\n",
    "import random"
   ]
  },
  {
   "cell_type": "code",
   "execution_count": 7,
   "id": "67bc722d",
   "metadata": {},
   "outputs": [],
   "source": [
    "# Generate the full list of dates from January 1, 2015 to December 31, 2023\n",
    "start_date = \"2015-01-01\"\n",
    "end_date = \"2023-12-31\"\n",
    "\n",
    "# Generate the date range\n",
    "date_range = pd.date_range(start=start_date, end=end_date, freq='D')\n",
    "\n",
    "# Randomly sample 328 dates from this range\n",
    "sampled_dates = random.sample(list(date_range), 328)\n",
    "\n",
    "sampled_dates.sort()"
   ]
  },
  {
   "cell_type": "markdown",
   "id": "c7b5fa3f",
   "metadata": {},
   "source": [
    "I don't want to dowload this 328 files by hand. I can use the API of Copernicus Marine Data Store."
   ]
  },
  {
   "cell_type": "code",
   "execution_count": null,
   "id": "0dd9b53b",
   "metadata": {},
   "outputs": [],
   "source": []
  }
 ],
 "metadata": {
  "kernelspec": {
   "display_name": "base",
   "language": "python",
   "name": "python3"
  },
  "language_info": {
   "codemirror_mode": {
    "name": "ipython",
    "version": 3
   },
   "file_extension": ".py",
   "mimetype": "text/x-python",
   "name": "python",
   "nbconvert_exporter": "python",
   "pygments_lexer": "ipython3",
   "version": "3.12.7"
  }
 },
 "nbformat": 4,
 "nbformat_minor": 5
}
