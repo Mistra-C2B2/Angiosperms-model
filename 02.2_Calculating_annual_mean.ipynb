{
 "cells": [
  {
   "cell_type": "markdown",
   "id": "1201e980",
   "metadata": {},
   "source": [
    "# Step 2: Pre-processing - Calculating annual Mean 📅\n",
    "\n",
    "The goal is to calculate the **yearly mean** of the variables from the **Baltic Sea Wave Hindcast** dataset, which is available only in **hourly resolution**. Each day has a separate file, and each file is around **200MB** in size. If I wanted to download the entire dataset and calculate the mean, I would need **73GB** of storage! Here's the math: (*365 * 200 = 73,000 MB = 73 GB*)... \n",
    "\n",
    "Since it is quite too big, I will use a technique often employed in survey sampling. Instead of downloading the entire dataset, I will download a **random sample** of the data and calculate the mean based on this sample. To make it more manageable, I’ll assume I download **30%** of the dataset, which means downloading **109 files** (*365 * 0.30 = 109*).\n",
    "\n",
    "#### 📚 Required Libraries\n",
    "To carry out this process, you'll need the following libraries:\n",
    "- **`pandas`**: For reading, manipulating, and analyzing the data. \n",
    "- **`random`**: For generating random samples from the data. \n",
    "- **`copernicusmarine`**: To dowload the dataset with the Copernicus marine API.\n",
    "- **`xarray`**: To open the dowloaded datasets.\n",
    "- **`geopandas`**: To open the geometry of the Living Lab West.\n",
    "- **`numpy`**: To obtain the converty the Living Lab West geometry as a simple rectangle, its bounding box.\n",
    "- **`time`**: To ensure files are well deleted.\n",
    "- **`os`**: For ensuring the path exists.\n",
    "- **`gc`**: To help in the deleting precess.\n",
    "\n",
    "### 🛠️ Steps:\n",
    "1. **Generate a Random List of Dates**: Create a list of random dates to represent 10% of the total dataset.\n",
    "2. **Download the Files**: Using the list of random dates, download the corresponding files from the API. \n",
    "3. **Spatially filtering each daily dataset by the bounding box of the Living Lab Geometry**: Use a spatial filter to restrict the data to the region of interest. I used the bounding box of the `livinglab_geometry` rather than the livinglab_geometry to avoid any loss of data. Spatially filtering is useless because of resampling. See the **Ressampling** Notebook.\n",
    "2. **Calculating the annual mean of the filtered dataset**: By combining the datasets, calculate the yearly mean.\n",
    "\n",
    "This method significantly reduces the amount of data needed while still providing a statistically valid approximation.\n",
    "\n",
    "______\n"
   ]
  },
  {
   "cell_type": "markdown",
   "id": "87cf9951",
   "metadata": {},
   "source": [
    "### 🛠️ Generating a Random List of Dates "
   ]
  },
  {
   "cell_type": "markdown",
   "id": "72f7f662",
   "metadata": {},
   "source": [
    "Let’s start by generating a random list of **328 dates**. This list will determine which files to download and will be the foundation for calculating the mean based on a representative sample of the data."
   ]
  },
  {
   "cell_type": "code",
   "execution_count": null,
   "id": "2e908893",
   "metadata": {},
   "outputs": [],
   "source": [
    "import pandas as pd\n",
    "import random\n",
    "import os"
   ]
  },
  {
   "cell_type": "code",
   "execution_count": 3,
   "id": "67bc722d",
   "metadata": {},
   "outputs": [],
   "source": [
    "# Generate the full list of dates from January 1, 2015 to December 31, 2023\n",
    "start_date = \"2023-01-01\"\n",
    "end_date = \"2023-12-31\"\n",
    "\n",
    "# Generate the date range\n",
    "date_range = pd.date_range(start=start_date, end=end_date, freq='D')\n",
    "\n",
    "# Randomly sample 328 dates from this range\n",
    "sampled_dates = random.sample(list(date_range), 109)\n",
    "\n",
    "sampled_dates.sort()"
   ]
  },
  {
   "cell_type": "markdown",
   "id": "41f99219",
   "metadata": {},
   "source": [
    "We can now save our random dates in a csv file. Once I saved it, I make sure not to overwrite the file."
   ]
  },
  {
   "cell_type": "code",
   "execution_count": null,
   "id": "a245cdf1",
   "metadata": {},
   "outputs": [],
   "source": [
    "file_path = 'data/sampled_dates.csv'\n",
    "if not os.path.exists(file_path):\n",
    "    pd.Series(sampled_dates).to_csv(file_path, index=False)\n",
    "else:\n",
    "    print('The file already exists. Delete it if you want to save a new one.')"
   ]
  },
  {
   "cell_type": "markdown",
   "id": "c7b5fa3f",
   "metadata": {},
   "source": [
    "### 🛠️ Dowloading the files"
   ]
  },
  {
   "cell_type": "markdown",
   "id": "3b7b8949",
   "metadata": {},
   "source": [
    "I don't want to dowload this 109 files one by one. I can use the API of Copernicus Marine Data Store. It is possible to create a list of files or dowload the files one by one. You can find more informations on the [Copernicus Marine API page](https://help.marine.copernicus.eu/en/articles/8286883-copernicus-marine-toolbox-api-get-original-files#h_4cb9923744).\n",
    "\n",
    "⚠️ The dowloaded files are not saved in the GitHub repositary because it was too heavy (22GB). However, the spatial filtered annual mean version is saved."
   ]
  },
  {
   "cell_type": "code",
   "execution_count": 6,
   "id": "fa3520cf",
   "metadata": {},
   "outputs": [
    {
     "name": "stderr",
     "output_type": "stream",
     "text": [
      "C:\\Users\\PC\\AppData\\Local\\Packages\\PythonSoftwareFoundation.Python.3.11_qbz5n2kfra8p0\\LocalCache\\local-packages\\Python311\\site-packages\\tqdm\\auto.py:21: TqdmWarning: IProgress not found. Please update jupyter and ipywidgets. See https://ipywidgets.readthedocs.io/en/stable/user_install.html\n",
      "  from .autonotebook import tqdm as notebook_tqdm\n"
     ]
    }
   ],
   "source": [
    "import copernicusmarine as cm"
   ]
  },
  {
   "cell_type": "markdown",
   "id": "52382192",
   "metadata": {},
   "source": [
    "To dowload a dataset of the Copernicus Marine API, you have to use its ID. You can found its ID in the Data access page, in grey on the Dataset column. You can click on \"📑​\" to copy it. It will display a message : \"Copied dataset ID to your clipboard\"."
   ]
  },
  {
   "cell_type": "code",
   "execution_count": 7,
   "id": "b0900db9",
   "metadata": {},
   "outputs": [],
   "source": [
    "datasetID = 'cmems_mod_bal_wav_my_PT1H-i'\n",
    "sampled_dates = pd.read_csv('data/sampled_dates.csv', parse_dates=[0]).iloc[:, 0].tolist()"
   ]
  },
  {
   "cell_type": "markdown",
   "id": "21ce14ba",
   "metadata": {},
   "source": [
    "You need to create an account to dowload the dataset. Below is the method to dowload a specific file. (I have dowloaded one by one)."
   ]
  },
  {
   "cell_type": "code",
   "execution_count": null,
   "id": "1e9e431e",
   "metadata": {},
   "outputs": [
    {
     "name": "stderr",
     "output_type": "stream",
     "text": [
      "INFO - 2025-08-07T12:18:51Z - Selected dataset version: \"202411\"\n",
      "INFO - 2025-08-07T12:18:51Z - Selected dataset part: \"default\"\n",
      "INFO - 2025-08-07T12:18:51Z - Listing files on remote server...\n",
      "17it [00:05,  3.27it/s]\n",
      "Downloading files: 100%|██████████| 1/1 [00:09<00:00,  9.95s/it]\n"
     ]
    },
    {
     "name": "stdout",
     "output_type": "stream",
     "text": [
      "Dowloading 1 / 109 files for 2023-01-02\n"
     ]
    },
    {
     "name": "stderr",
     "output_type": "stream",
     "text": [
      "INFO - 2025-08-07T12:19:11Z - Selected dataset version: \"202411\"\n",
      "INFO - 2025-08-07T12:19:11Z - Selected dataset part: \"default\"\n",
      "INFO - 2025-08-07T12:19:11Z - Listing files on remote server...\n",
      "17it [00:05,  2.90it/s]\n",
      "Downloading files: 100%|██████████| 1/1 [00:11<00:00, 11.40s/it]\n"
     ]
    },
    {
     "name": "stdout",
     "output_type": "stream",
     "text": [
      "Dowloading 2 / 109 files for 2023-01-03\n"
     ]
    },
    {
     "name": "stderr",
     "output_type": "stream",
     "text": [
      "INFO - 2025-08-07T12:19:33Z - Selected dataset version: \"202411\"\n",
      "INFO - 2025-08-07T12:19:33Z - Selected dataset part: \"default\"\n",
      "INFO - 2025-08-07T12:19:34Z - Listing files on remote server...\n",
      "17it [00:06,  2.72it/s]\n",
      "Downloading files: 100%|██████████| 1/1 [00:10<00:00, 10.12s/it]\n"
     ]
    },
    {
     "name": "stdout",
     "output_type": "stream",
     "text": [
      "Dowloading 3 / 109 files for 2023-01-07\n"
     ]
    },
    {
     "name": "stderr",
     "output_type": "stream",
     "text": [
      "INFO - 2025-08-07T12:19:55Z - Selected dataset version: \"202411\"\n",
      "INFO - 2025-08-07T12:19:55Z - Selected dataset part: \"default\"\n",
      "INFO - 2025-08-07T12:19:55Z - Listing files on remote server...\n",
      "17it [00:05,  3.20it/s]\n",
      "Downloading files: 100%|██████████| 1/1 [00:10<00:00, 10.45s/it]\n"
     ]
    },
    {
     "name": "stdout",
     "output_type": "stream",
     "text": [
      "Dowloading 4 / 109 files for 2023-01-13\n"
     ]
    },
    {
     "name": "stderr",
     "output_type": "stream",
     "text": [
      "INFO - 2025-08-07T12:20:15Z - Selected dataset version: \"202411\"\n",
      "INFO - 2025-08-07T12:20:15Z - Selected dataset part: \"default\"\n",
      "INFO - 2025-08-07T12:20:15Z - Listing files on remote server...\n",
      "17it [00:05,  3.25it/s]\n",
      "Downloading files: 100%|██████████| 1/1 [00:09<00:00,  9.86s/it]\n"
     ]
    },
    {
     "name": "stdout",
     "output_type": "stream",
     "text": [
      "Dowloading 5 / 109 files for 2023-01-14\n"
     ]
    },
    {
     "name": "stderr",
     "output_type": "stream",
     "text": [
      "INFO - 2025-08-07T12:20:36Z - Selected dataset version: \"202411\"\n",
      "INFO - 2025-08-07T12:20:36Z - Selected dataset part: \"default\"\n",
      "INFO - 2025-08-07T12:20:36Z - Listing files on remote server...\n",
      "17it [00:04,  3.49it/s]\n",
      "Downloading files: 100%|██████████| 1/1 [00:09<00:00,  9.05s/it]\n"
     ]
    },
    {
     "name": "stdout",
     "output_type": "stream",
     "text": [
      "Dowloading 6 / 109 files for 2023-01-17\n"
     ]
    },
    {
     "name": "stderr",
     "output_type": "stream",
     "text": [
      "INFO - 2025-08-07T12:20:54Z - Selected dataset version: \"202411\"\n",
      "INFO - 2025-08-07T12:20:54Z - Selected dataset part: \"default\"\n",
      "INFO - 2025-08-07T12:20:55Z - Listing files on remote server...\n",
      "17it [00:05,  3.31it/s]\n",
      "Downloading files: 100%|██████████| 1/1 [00:08<00:00,  8.99s/it]\n"
     ]
    },
    {
     "name": "stdout",
     "output_type": "stream",
     "text": [
      "Dowloading 7 / 109 files for 2023-01-18\n"
     ]
    },
    {
     "name": "stderr",
     "output_type": "stream",
     "text": [
      "INFO - 2025-08-07T12:21:13Z - Selected dataset version: \"202411\"\n",
      "INFO - 2025-08-07T12:21:13Z - Selected dataset part: \"default\"\n",
      "INFO - 2025-08-07T12:21:13Z - Listing files on remote server...\n",
      "17it [00:04,  3.57it/s]\n",
      "Downloading files: 100%|██████████| 1/1 [00:09<00:00,  9.29s/it]\n"
     ]
    },
    {
     "name": "stdout",
     "output_type": "stream",
     "text": [
      "Dowloading 8 / 109 files for 2023-01-26\n"
     ]
    },
    {
     "name": "stderr",
     "output_type": "stream",
     "text": [
      "INFO - 2025-08-07T12:21:32Z - Selected dataset version: \"202411\"\n",
      "INFO - 2025-08-07T12:21:32Z - Selected dataset part: \"default\"\n",
      "INFO - 2025-08-07T12:21:32Z - Listing files on remote server...\n",
      "17it [00:04,  3.41it/s]\n",
      "Downloading files: 100%|██████████| 1/1 [00:09<00:00,  9.23s/it]\n"
     ]
    },
    {
     "name": "stdout",
     "output_type": "stream",
     "text": [
      "Dowloading 9 / 109 files for 2023-01-27\n"
     ]
    },
    {
     "name": "stderr",
     "output_type": "stream",
     "text": [
      "INFO - 2025-08-07T12:21:51Z - Selected dataset version: \"202411\"\n",
      "INFO - 2025-08-07T12:21:51Z - Selected dataset part: \"default\"\n",
      "INFO - 2025-08-07T12:21:51Z - Listing files on remote server...\n",
      "17it [00:05,  3.12it/s]\n",
      "Downloading files: 100%|██████████| 1/1 [00:09<00:00,  9.28s/it]\n"
     ]
    },
    {
     "name": "stdout",
     "output_type": "stream",
     "text": [
      "Dowloading 10 / 109 files for 2023-01-28\n"
     ]
    },
    {
     "name": "stderr",
     "output_type": "stream",
     "text": [
      "INFO - 2025-08-07T12:22:10Z - Selected dataset version: \"202411\"\n",
      "INFO - 2025-08-07T12:22:10Z - Selected dataset part: \"default\"\n",
      "INFO - 2025-08-07T12:22:10Z - Listing files on remote server...\n",
      "17it [00:05,  3.22it/s]\n",
      "Downloading files: 100%|██████████| 1/1 [00:08<00:00,  8.81s/it]\n"
     ]
    },
    {
     "name": "stdout",
     "output_type": "stream",
     "text": [
      "Dowloading 11 / 109 files for 2023-01-29\n"
     ]
    },
    {
     "name": "stderr",
     "output_type": "stream",
     "text": [
      "INFO - 2025-08-07T12:22:28Z - Selected dataset version: \"202411\"\n",
      "INFO - 2025-08-07T12:22:28Z - Selected dataset part: \"default\"\n",
      "INFO - 2025-08-07T12:22:29Z - Listing files on remote server...\n",
      "17it [00:05,  3.31it/s]\n",
      "Downloading files: 100%|██████████| 1/1 [00:09<00:00,  9.94s/it]\n"
     ]
    },
    {
     "name": "stdout",
     "output_type": "stream",
     "text": [
      "Dowloading 12 / 109 files for 2023-01-31\n"
     ]
    },
    {
     "name": "stderr",
     "output_type": "stream",
     "text": [
      "INFO - 2025-08-07T12:22:48Z - Selected dataset version: \"202411\"\n",
      "INFO - 2025-08-07T12:22:48Z - Selected dataset part: \"default\"\n",
      "INFO - 2025-08-07T12:22:48Z - Listing files on remote server...\n",
      "17it [00:05,  3.38it/s]\n",
      "Downloading files: 100%|██████████| 1/1 [00:08<00:00,  8.47s/it]\n"
     ]
    },
    {
     "name": "stdout",
     "output_type": "stream",
     "text": [
      "Dowloading 13 / 109 files for 2023-02-06\n"
     ]
    },
    {
     "name": "stderr",
     "output_type": "stream",
     "text": [
      "INFO - 2025-08-07T12:23:06Z - Selected dataset version: \"202411\"\n",
      "INFO - 2025-08-07T12:23:06Z - Selected dataset part: \"default\"\n",
      "INFO - 2025-08-07T12:23:06Z - Listing files on remote server...\n",
      "17it [00:05,  3.37it/s]\n",
      "Downloading files: 100%|██████████| 1/1 [00:09<00:00,  9.34s/it]\n"
     ]
    },
    {
     "name": "stdout",
     "output_type": "stream",
     "text": [
      "Dowloading 14 / 109 files for 2023-02-15\n"
     ]
    },
    {
     "name": "stderr",
     "output_type": "stream",
     "text": [
      "INFO - 2025-08-07T12:23:25Z - Selected dataset version: \"202411\"\n",
      "INFO - 2025-08-07T12:23:25Z - Selected dataset part: \"default\"\n",
      "INFO - 2025-08-07T12:23:25Z - Listing files on remote server...\n",
      "17it [00:05,  3.30it/s]\n",
      "Downloading files: 100%|██████████| 1/1 [00:15<00:00, 15.64s/it]\n"
     ]
    },
    {
     "name": "stdout",
     "output_type": "stream",
     "text": [
      "Dowloading 15 / 109 files for 2023-02-16\n"
     ]
    },
    {
     "name": "stderr",
     "output_type": "stream",
     "text": [
      "INFO - 2025-08-07T12:23:50Z - Selected dataset version: \"202411\"\n",
      "INFO - 2025-08-07T12:23:50Z - Selected dataset part: \"default\"\n",
      "INFO - 2025-08-07T12:23:51Z - Listing files on remote server...\n",
      "17it [00:04,  3.50it/s]\n",
      "Downloading files: 100%|██████████| 1/1 [00:11<00:00, 11.32s/it]\n"
     ]
    },
    {
     "name": "stdout",
     "output_type": "stream",
     "text": [
      "Dowloading 16 / 109 files for 2023-02-17\n"
     ]
    },
    {
     "name": "stderr",
     "output_type": "stream",
     "text": [
      "INFO - 2025-08-07T12:24:11Z - Selected dataset version: \"202411\"\n",
      "INFO - 2025-08-07T12:24:11Z - Selected dataset part: \"default\"\n",
      "INFO - 2025-08-07T12:24:12Z - Listing files on remote server...\n",
      "17it [00:05,  3.07it/s]\n",
      "Downloading files: 100%|██████████| 1/1 [00:09<00:00,  9.87s/it]\n"
     ]
    },
    {
     "name": "stdout",
     "output_type": "stream",
     "text": [
      "Dowloading 17 / 109 files for 2023-02-18\n"
     ]
    },
    {
     "name": "stderr",
     "output_type": "stream",
     "text": [
      "INFO - 2025-08-07T12:24:31Z - Selected dataset version: \"202411\"\n",
      "INFO - 2025-08-07T12:24:31Z - Selected dataset part: \"default\"\n",
      "INFO - 2025-08-07T12:24:32Z - Listing files on remote server...\n",
      "17it [00:04,  3.55it/s]\n",
      "Downloading files: 100%|██████████| 1/1 [00:09<00:00,  9.66s/it]\n"
     ]
    },
    {
     "name": "stdout",
     "output_type": "stream",
     "text": [
      "Dowloading 18 / 109 files for 2023-02-20\n"
     ]
    },
    {
     "name": "stderr",
     "output_type": "stream",
     "text": [
      "INFO - 2025-08-07T12:24:51Z - Selected dataset version: \"202411\"\n",
      "INFO - 2025-08-07T12:24:51Z - Selected dataset part: \"default\"\n",
      "INFO - 2025-08-07T12:24:51Z - Listing files on remote server...\n",
      "17it [00:05,  3.14it/s]\n",
      "Downloading files: 100%|██████████| 1/1 [00:08<00:00,  8.93s/it]\n"
     ]
    },
    {
     "name": "stdout",
     "output_type": "stream",
     "text": [
      "Dowloading 19 / 109 files for 2023-02-28\n"
     ]
    },
    {
     "name": "stderr",
     "output_type": "stream",
     "text": [
      "INFO - 2025-08-07T12:25:10Z - Selected dataset version: \"202411\"\n",
      "INFO - 2025-08-07T12:25:10Z - Selected dataset part: \"default\"\n",
      "INFO - 2025-08-07T12:25:10Z - Listing files on remote server...\n",
      "17it [00:05,  2.97it/s]\n",
      "Downloading files: 100%|██████████| 1/1 [00:09<00:00,  9.54s/it]\n"
     ]
    },
    {
     "name": "stdout",
     "output_type": "stream",
     "text": [
      "Dowloading 20 / 109 files for 2023-03-03\n"
     ]
    },
    {
     "name": "stderr",
     "output_type": "stream",
     "text": [
      "INFO - 2025-08-07T12:25:30Z - Selected dataset version: \"202411\"\n",
      "INFO - 2025-08-07T12:25:30Z - Selected dataset part: \"default\"\n",
      "INFO - 2025-08-07T12:25:30Z - Listing files on remote server...\n",
      "17it [00:04,  3.60it/s]\n",
      "Downloading files: 100%|██████████| 1/1 [00:09<00:00,  9.06s/it]\n"
     ]
    },
    {
     "name": "stdout",
     "output_type": "stream",
     "text": [
      "Dowloading 21 / 109 files for 2023-03-07\n"
     ]
    },
    {
     "name": "stderr",
     "output_type": "stream",
     "text": [
      "INFO - 2025-08-07T12:25:49Z - Selected dataset version: \"202411\"\n",
      "INFO - 2025-08-07T12:25:49Z - Selected dataset part: \"default\"\n",
      "INFO - 2025-08-07T12:25:49Z - Listing files on remote server...\n",
      "17it [00:07,  2.34it/s]\n",
      "Downloading files: 100%|██████████| 1/1 [00:13<00:00, 13.44s/it]\n"
     ]
    },
    {
     "name": "stdout",
     "output_type": "stream",
     "text": [
      "Dowloading 22 / 109 files for 2023-03-09\n"
     ]
    },
    {
     "name": "stderr",
     "output_type": "stream",
     "text": [
      "INFO - 2025-08-07T12:26:20Z - Selected dataset version: \"202411\"\n",
      "INFO - 2025-08-07T12:26:20Z - Selected dataset part: \"default\"\n",
      "INFO - 2025-08-07T12:26:21Z - Listing files on remote server...\n",
      "17it [00:10,  1.66it/s]\n",
      "Downloading files: 100%|██████████| 1/1 [00:08<00:00,  8.37s/it]\n"
     ]
    },
    {
     "name": "stdout",
     "output_type": "stream",
     "text": [
      "Dowloading 23 / 109 files for 2023-03-19\n"
     ]
    },
    {
     "name": "stderr",
     "output_type": "stream",
     "text": [
      "INFO - 2025-08-07T12:26:44Z - Selected dataset version: \"202411\"\n",
      "INFO - 2025-08-07T12:26:44Z - Selected dataset part: \"default\"\n",
      "INFO - 2025-08-07T12:26:45Z - Listing files on remote server...\n",
      "17it [00:04,  3.55it/s]\n",
      "Downloading files: 100%|██████████| 1/1 [00:08<00:00,  8.09s/it]\n"
     ]
    },
    {
     "name": "stdout",
     "output_type": "stream",
     "text": [
      "Dowloading 24 / 109 files for 2023-03-22\n"
     ]
    },
    {
     "name": "stderr",
     "output_type": "stream",
     "text": [
      "INFO - 2025-08-07T12:27:01Z - Selected dataset version: \"202411\"\n",
      "INFO - 2025-08-07T12:27:01Z - Selected dataset part: \"default\"\n",
      "INFO - 2025-08-07T12:27:02Z - Listing files on remote server...\n",
      "17it [00:05,  3.22it/s]\n",
      "Downloading files: 100%|██████████| 1/1 [00:08<00:00,  8.37s/it]\n"
     ]
    },
    {
     "name": "stdout",
     "output_type": "stream",
     "text": [
      "Dowloading 25 / 109 files for 2023-03-29\n"
     ]
    },
    {
     "name": "stderr",
     "output_type": "stream",
     "text": [
      "INFO - 2025-08-07T12:27:21Z - Selected dataset version: \"202411\"\n",
      "INFO - 2025-08-07T12:27:21Z - Selected dataset part: \"default\"\n",
      "INFO - 2025-08-07T12:27:21Z - Listing files on remote server...\n",
      "17it [00:05,  3.05it/s]\n",
      "Downloading files: 100%|██████████| 1/1 [00:12<00:00, 12.88s/it]\n"
     ]
    },
    {
     "name": "stdout",
     "output_type": "stream",
     "text": [
      "Dowloading 26 / 109 files for 2023-03-30\n"
     ]
    },
    {
     "name": "stderr",
     "output_type": "stream",
     "text": [
      "INFO - 2025-08-07T12:27:44Z - Selected dataset version: \"202411\"\n",
      "INFO - 2025-08-07T12:27:44Z - Selected dataset part: \"default\"\n",
      "INFO - 2025-08-07T12:27:44Z - Listing files on remote server...\n",
      "17it [00:04,  3.52it/s]\n",
      "Downloading files: 100%|██████████| 1/1 [00:17<00:00, 17.80s/it]\n"
     ]
    },
    {
     "name": "stdout",
     "output_type": "stream",
     "text": [
      "Dowloading 27 / 109 files for 2023-04-01\n"
     ]
    },
    {
     "name": "stderr",
     "output_type": "stream",
     "text": [
      "INFO - 2025-08-07T12:28:11Z - Selected dataset version: \"202411\"\n",
      "INFO - 2025-08-07T12:28:11Z - Selected dataset part: \"default\"\n",
      "INFO - 2025-08-07T12:28:11Z - Listing files on remote server...\n",
      "17it [00:05,  3.30it/s]\n",
      "Downloading files: 100%|██████████| 1/1 [00:12<00:00, 12.47s/it]\n"
     ]
    },
    {
     "name": "stdout",
     "output_type": "stream",
     "text": [
      "Dowloading 28 / 109 files for 2023-04-02\n"
     ]
    },
    {
     "name": "stderr",
     "output_type": "stream",
     "text": [
      "INFO - 2025-08-07T12:28:33Z - Selected dataset version: \"202411\"\n",
      "INFO - 2025-08-07T12:28:33Z - Selected dataset part: \"default\"\n",
      "INFO - 2025-08-07T12:28:34Z - Listing files on remote server...\n",
      "17it [00:05,  3.10it/s]\n",
      "Downloading files: 100%|██████████| 1/1 [00:08<00:00,  8.84s/it]\n"
     ]
    },
    {
     "name": "stdout",
     "output_type": "stream",
     "text": [
      "Dowloading 29 / 109 files for 2023-04-07\n"
     ]
    },
    {
     "name": "stderr",
     "output_type": "stream",
     "text": [
      "INFO - 2025-08-07T12:28:53Z - Selected dataset version: \"202411\"\n",
      "INFO - 2025-08-07T12:28:53Z - Selected dataset part: \"default\"\n",
      "INFO - 2025-08-07T12:28:54Z - Listing files on remote server...\n",
      "17it [00:05,  2.95it/s]\n",
      "Downloading files: 100%|██████████| 1/1 [00:09<00:00,  9.37s/it]\n"
     ]
    },
    {
     "name": "stdout",
     "output_type": "stream",
     "text": [
      "Dowloading 30 / 109 files for 2023-04-11\n"
     ]
    },
    {
     "name": "stderr",
     "output_type": "stream",
     "text": [
      "INFO - 2025-08-07T12:29:13Z - Selected dataset version: \"202411\"\n",
      "INFO - 2025-08-07T12:29:13Z - Selected dataset part: \"default\"\n",
      "INFO - 2025-08-07T12:29:13Z - Listing files on remote server...\n",
      "17it [00:05,  3.28it/s]\n",
      "Downloading files: 100%|██████████| 1/1 [00:08<00:00,  8.59s/it]\n"
     ]
    },
    {
     "name": "stdout",
     "output_type": "stream",
     "text": [
      "Dowloading 31 / 109 files for 2023-04-12\n"
     ]
    },
    {
     "name": "stderr",
     "output_type": "stream",
     "text": [
      "INFO - 2025-08-07T12:29:31Z - Selected dataset version: \"202411\"\n",
      "INFO - 2025-08-07T12:29:31Z - Selected dataset part: \"default\"\n",
      "INFO - 2025-08-07T12:29:32Z - Listing files on remote server...\n",
      "17it [00:04,  3.50it/s]\n",
      "Downloading files: 100%|██████████| 1/1 [00:10<00:00, 10.82s/it]\n"
     ]
    },
    {
     "name": "stdout",
     "output_type": "stream",
     "text": [
      "Dowloading 32 / 109 files for 2023-04-25\n"
     ]
    },
    {
     "name": "stderr",
     "output_type": "stream",
     "text": [
      "INFO - 2025-08-07T12:29:54Z - Selected dataset version: \"202411\"\n",
      "INFO - 2025-08-07T12:29:54Z - Selected dataset part: \"default\"\n",
      "INFO - 2025-08-07T12:29:54Z - Listing files on remote server...\n",
      "17it [00:07,  2.28it/s]\n",
      "Downloading files: 100%|██████████| 1/1 [00:08<00:00,  8.85s/it]\n"
     ]
    },
    {
     "name": "stdout",
     "output_type": "stream",
     "text": [
      "Dowloading 33 / 109 files for 2023-04-26\n"
     ]
    },
    {
     "name": "stderr",
     "output_type": "stream",
     "text": [
      "INFO - 2025-08-07T12:30:17Z - Selected dataset version: \"202411\"\n",
      "INFO - 2025-08-07T12:30:17Z - Selected dataset part: \"default\"\n",
      "INFO - 2025-08-07T12:30:17Z - Listing files on remote server...\n",
      "17it [00:04,  3.40it/s]\n",
      "Downloading files: 100%|██████████| 1/1 [00:08<00:00,  8.82s/it]\n"
     ]
    },
    {
     "name": "stdout",
     "output_type": "stream",
     "text": [
      "Dowloading 34 / 109 files for 2023-04-30\n"
     ]
    },
    {
     "name": "stderr",
     "output_type": "stream",
     "text": [
      "INFO - 2025-08-07T12:30:35Z - Selected dataset version: \"202411\"\n",
      "INFO - 2025-08-07T12:30:35Z - Selected dataset part: \"default\"\n",
      "INFO - 2025-08-07T12:30:35Z - Listing files on remote server...\n",
      "17it [00:05,  3.38it/s]\n",
      "Downloading files: 100%|██████████| 1/1 [00:09<00:00,  9.37s/it]\n"
     ]
    },
    {
     "name": "stdout",
     "output_type": "stream",
     "text": [
      "Dowloading 35 / 109 files for 2023-05-01\n"
     ]
    },
    {
     "name": "stderr",
     "output_type": "stream",
     "text": [
      "INFO - 2025-08-07T12:30:54Z - Selected dataset version: \"202411\"\n",
      "INFO - 2025-08-07T12:30:54Z - Selected dataset part: \"default\"\n",
      "INFO - 2025-08-07T12:30:54Z - Listing files on remote server...\n",
      "17it [00:05,  3.19it/s]\n",
      "Downloading files: 100%|██████████| 1/1 [00:09<00:00,  9.33s/it]\n"
     ]
    },
    {
     "name": "stdout",
     "output_type": "stream",
     "text": [
      "Dowloading 36 / 109 files for 2023-05-04\n"
     ]
    },
    {
     "name": "stderr",
     "output_type": "stream",
     "text": [
      "INFO - 2025-08-07T12:31:13Z - Selected dataset version: \"202411\"\n",
      "INFO - 2025-08-07T12:31:13Z - Selected dataset part: \"default\"\n",
      "INFO - 2025-08-07T12:31:13Z - Listing files on remote server...\n",
      "17it [00:05,  3.35it/s]\n",
      "Downloading files: 100%|██████████| 1/1 [00:08<00:00,  8.58s/it]\n"
     ]
    },
    {
     "name": "stdout",
     "output_type": "stream",
     "text": [
      "Dowloading 37 / 109 files for 2023-05-08\n"
     ]
    },
    {
     "name": "stderr",
     "output_type": "stream",
     "text": [
      "INFO - 2025-08-07T12:31:32Z - Selected dataset version: \"202411\"\n",
      "INFO - 2025-08-07T12:31:32Z - Selected dataset part: \"default\"\n",
      "INFO - 2025-08-07T12:31:32Z - Listing files on remote server...\n",
      "17it [00:05,  3.27it/s]\n",
      "Downloading files: 100%|██████████| 1/1 [00:26<00:00, 26.42s/it]\n"
     ]
    },
    {
     "name": "stdout",
     "output_type": "stream",
     "text": [
      "Dowloading 38 / 109 files for 2023-05-09\n"
     ]
    },
    {
     "name": "stderr",
     "output_type": "stream",
     "text": [
      "INFO - 2025-08-07T12:32:08Z - Selected dataset version: \"202411\"\n",
      "INFO - 2025-08-07T12:32:08Z - Selected dataset part: \"default\"\n",
      "INFO - 2025-08-07T12:32:09Z - Listing files on remote server...\n",
      "17it [00:05,  3.26it/s]\n",
      "Downloading files: 100%|██████████| 1/1 [00:08<00:00,  8.92s/it]\n"
     ]
    },
    {
     "name": "stdout",
     "output_type": "stream",
     "text": [
      "Dowloading 39 / 109 files for 2023-05-12\n"
     ]
    },
    {
     "name": "stderr",
     "output_type": "stream",
     "text": [
      "INFO - 2025-08-07T12:32:27Z - Selected dataset version: \"202411\"\n",
      "INFO - 2025-08-07T12:32:27Z - Selected dataset part: \"default\"\n",
      "INFO - 2025-08-07T12:32:28Z - Listing files on remote server...\n",
      "17it [00:05,  3.17it/s]\n",
      "Downloading files: 100%|██████████| 1/1 [00:15<00:00, 15.23s/it]\n"
     ]
    },
    {
     "name": "stdout",
     "output_type": "stream",
     "text": [
      "Dowloading 40 / 109 files for 2023-05-14\n"
     ]
    },
    {
     "name": "stderr",
     "output_type": "stream",
     "text": [
      "INFO - 2025-08-07T12:32:53Z - Selected dataset version: \"202411\"\n",
      "INFO - 2025-08-07T12:32:53Z - Selected dataset part: \"default\"\n",
      "INFO - 2025-08-07T12:32:53Z - Listing files on remote server...\n",
      "17it [00:05,  2.93it/s]\n",
      "Downloading files: 100%|██████████| 1/1 [00:09<00:00,  9.70s/it]\n"
     ]
    },
    {
     "name": "stdout",
     "output_type": "stream",
     "text": [
      "Dowloading 41 / 109 files for 2023-05-16\n"
     ]
    },
    {
     "name": "stderr",
     "output_type": "stream",
     "text": [
      "INFO - 2025-08-07T12:33:13Z - Selected dataset version: \"202411\"\n",
      "INFO - 2025-08-07T12:33:13Z - Selected dataset part: \"default\"\n",
      "INFO - 2025-08-07T12:33:13Z - Listing files on remote server...\n",
      "17it [00:04,  3.52it/s]\n",
      "Downloading files: 100%|██████████| 1/1 [00:10<00:00, 10.26s/it]\n"
     ]
    },
    {
     "name": "stdout",
     "output_type": "stream",
     "text": [
      "Dowloading 42 / 109 files for 2023-05-18\n"
     ]
    },
    {
     "name": "stderr",
     "output_type": "stream",
     "text": [
      "INFO - 2025-08-07T12:33:33Z - Selected dataset version: \"202411\"\n",
      "INFO - 2025-08-07T12:33:33Z - Selected dataset part: \"default\"\n",
      "INFO - 2025-08-07T12:33:34Z - Listing files on remote server...\n",
      "17it [00:05,  2.84it/s]\n",
      "Downloading files: 100%|██████████| 1/1 [00:10<00:00, 10.54s/it]\n"
     ]
    },
    {
     "name": "stdout",
     "output_type": "stream",
     "text": [
      "Dowloading 43 / 109 files for 2023-05-21\n"
     ]
    },
    {
     "name": "stderr",
     "output_type": "stream",
     "text": [
      "INFO - 2025-08-07T12:33:56Z - Selected dataset version: \"202411\"\n",
      "INFO - 2025-08-07T12:33:56Z - Selected dataset part: \"default\"\n",
      "INFO - 2025-08-07T12:33:56Z - Listing files on remote server...\n",
      "17it [00:05,  3.03it/s]\n",
      "Downloading files: 100%|██████████| 1/1 [00:09<00:00,  9.82s/it]\n"
     ]
    },
    {
     "name": "stdout",
     "output_type": "stream",
     "text": [
      "Dowloading 44 / 109 files for 2023-05-22\n"
     ]
    },
    {
     "name": "stderr",
     "output_type": "stream",
     "text": [
      "INFO - 2025-08-07T12:34:17Z - Selected dataset version: \"202411\"\n",
      "INFO - 2025-08-07T12:34:17Z - Selected dataset part: \"default\"\n",
      "INFO - 2025-08-07T12:34:18Z - Listing files on remote server...\n",
      "17it [00:05,  3.35it/s]\n",
      "Downloading files: 100%|██████████| 1/1 [00:09<00:00,  9.77s/it]\n"
     ]
    },
    {
     "name": "stdout",
     "output_type": "stream",
     "text": [
      "Dowloading 45 / 109 files for 2023-05-23\n"
     ]
    },
    {
     "name": "stderr",
     "output_type": "stream",
     "text": [
      "INFO - 2025-08-07T12:34:38Z - Selected dataset version: \"202411\"\n",
      "INFO - 2025-08-07T12:34:38Z - Selected dataset part: \"default\"\n",
      "INFO - 2025-08-07T12:34:39Z - Listing files on remote server...\n",
      "17it [00:05,  2.94it/s]\n",
      "Downloading files: 100%|██████████| 1/1 [00:10<00:00, 10.41s/it]\n"
     ]
    },
    {
     "name": "stdout",
     "output_type": "stream",
     "text": [
      "Dowloading 46 / 109 files for 2023-05-26\n"
     ]
    },
    {
     "name": "stderr",
     "output_type": "stream",
     "text": [
      "INFO - 2025-08-07T12:35:00Z - Selected dataset version: \"202411\"\n",
      "INFO - 2025-08-07T12:35:00Z - Selected dataset part: \"default\"\n",
      "INFO - 2025-08-07T12:35:00Z - Listing files on remote server...\n",
      "17it [00:05,  2.94it/s]\n",
      "Downloading files: 100%|██████████| 1/1 [00:09<00:00,  9.67s/it]\n"
     ]
    },
    {
     "name": "stdout",
     "output_type": "stream",
     "text": [
      "Dowloading 47 / 109 files for 2023-05-28\n"
     ]
    },
    {
     "name": "stderr",
     "output_type": "stream",
     "text": [
      "INFO - 2025-08-07T12:35:20Z - Selected dataset version: \"202411\"\n",
      "INFO - 2025-08-07T12:35:20Z - Selected dataset part: \"default\"\n",
      "INFO - 2025-08-07T12:35:21Z - Listing files on remote server...\n",
      "17it [00:04,  3.40it/s]\n",
      "Downloading files: 100%|██████████| 1/1 [00:10<00:00, 10.44s/it]\n"
     ]
    },
    {
     "name": "stdout",
     "output_type": "stream",
     "text": [
      "Dowloading 48 / 109 files for 2023-06-02\n"
     ]
    },
    {
     "name": "stderr",
     "output_type": "stream",
     "text": [
      "INFO - 2025-08-07T12:35:40Z - Selected dataset version: \"202411\"\n",
      "INFO - 2025-08-07T12:35:40Z - Selected dataset part: \"default\"\n",
      "INFO - 2025-08-07T12:35:41Z - Listing files on remote server...\n",
      "17it [00:04,  3.47it/s]\n",
      "Downloading files: 100%|██████████| 1/1 [00:09<00:00,  9.96s/it]\n"
     ]
    },
    {
     "name": "stdout",
     "output_type": "stream",
     "text": [
      "Dowloading 49 / 109 files for 2023-06-03\n"
     ]
    },
    {
     "name": "stderr",
     "output_type": "stream",
     "text": [
      "INFO - 2025-08-07T12:36:00Z - Selected dataset version: \"202411\"\n",
      "INFO - 2025-08-07T12:36:00Z - Selected dataset part: \"default\"\n",
      "INFO - 2025-08-07T12:36:00Z - Listing files on remote server...\n",
      "17it [00:05,  2.86it/s]\n",
      "Downloading files: 100%|██████████| 1/1 [00:11<00:00, 11.36s/it]\n"
     ]
    },
    {
     "name": "stdout",
     "output_type": "stream",
     "text": [
      "Dowloading 50 / 109 files for 2023-06-06\n"
     ]
    },
    {
     "name": "stderr",
     "output_type": "stream",
     "text": [
      "INFO - 2025-08-07T12:36:23Z - Selected dataset version: \"202411\"\n",
      "INFO - 2025-08-07T12:36:23Z - Selected dataset part: \"default\"\n",
      "INFO - 2025-08-07T12:36:24Z - Listing files on remote server...\n",
      "17it [00:06,  2.54it/s]\n",
      "Downloading files: 100%|██████████| 1/1 [00:12<00:00, 12.27s/it]\n"
     ]
    },
    {
     "name": "stdout",
     "output_type": "stream",
     "text": [
      "Dowloading 51 / 109 files for 2023-06-09\n"
     ]
    },
    {
     "name": "stderr",
     "output_type": "stream",
     "text": [
      "INFO - 2025-08-07T12:36:49Z - Selected dataset version: \"202411\"\n",
      "INFO - 2025-08-07T12:36:49Z - Selected dataset part: \"default\"\n",
      "INFO - 2025-08-07T12:36:49Z - Listing files on remote server...\n",
      "17it [00:05,  3.30it/s]\n",
      "Downloading files: 100%|██████████| 1/1 [00:10<00:00, 10.50s/it]\n"
     ]
    },
    {
     "name": "stdout",
     "output_type": "stream",
     "text": [
      "Dowloading 52 / 109 files for 2023-06-10\n"
     ]
    },
    {
     "name": "stderr",
     "output_type": "stream",
     "text": [
      "INFO - 2025-08-07T12:37:11Z - Selected dataset version: \"202411\"\n",
      "INFO - 2025-08-07T12:37:11Z - Selected dataset part: \"default\"\n",
      "INFO - 2025-08-07T12:37:12Z - Listing files on remote server...\n",
      "17it [00:05,  2.88it/s]\n",
      "Downloading files: 100%|██████████| 1/1 [00:09<00:00,  9.80s/it]\n"
     ]
    },
    {
     "name": "stdout",
     "output_type": "stream",
     "text": [
      "Dowloading 53 / 109 files for 2023-06-17\n"
     ]
    },
    {
     "name": "stderr",
     "output_type": "stream",
     "text": [
      "INFO - 2025-08-07T12:37:33Z - Selected dataset version: \"202411\"\n",
      "INFO - 2025-08-07T12:37:33Z - Selected dataset part: \"default\"\n",
      "INFO - 2025-08-07T12:37:34Z - Listing files on remote server...\n",
      "17it [00:06,  2.72it/s]\n",
      "Downloading files: 100%|██████████| 1/1 [00:10<00:00, 10.06s/it]\n"
     ]
    },
    {
     "name": "stdout",
     "output_type": "stream",
     "text": [
      "Dowloading 54 / 109 files for 2023-06-18\n"
     ]
    },
    {
     "name": "stderr",
     "output_type": "stream",
     "text": [
      "INFO - 2025-08-07T12:37:56Z - Selected dataset version: \"202411\"\n",
      "INFO - 2025-08-07T12:37:56Z - Selected dataset part: \"default\"\n",
      "INFO - 2025-08-07T12:37:57Z - Listing files on remote server...\n",
      "17it [00:05,  2.99it/s]\n",
      "Downloading files: 100%|██████████| 1/1 [00:10<00:00, 10.06s/it]\n"
     ]
    },
    {
     "name": "stdout",
     "output_type": "stream",
     "text": [
      "Dowloading 55 / 109 files for 2023-06-19\n"
     ]
    },
    {
     "name": "stderr",
     "output_type": "stream",
     "text": [
      "INFO - 2025-08-07T12:38:19Z - Selected dataset version: \"202411\"\n",
      "INFO - 2025-08-07T12:38:19Z - Selected dataset part: \"default\"\n",
      "INFO - 2025-08-07T12:38:20Z - Listing files on remote server...\n",
      "17it [00:07,  2.33it/s]\n",
      "Downloading files: 100%|██████████| 1/1 [00:10<00:00, 10.35s/it]\n"
     ]
    },
    {
     "name": "stdout",
     "output_type": "stream",
     "text": [
      "Dowloading 56 / 109 files for 2023-06-20\n"
     ]
    },
    {
     "name": "stderr",
     "output_type": "stream",
     "text": [
      "INFO - 2025-08-07T12:38:43Z - Selected dataset version: \"202411\"\n",
      "INFO - 2025-08-07T12:38:43Z - Selected dataset part: \"default\"\n",
      "INFO - 2025-08-07T12:38:43Z - Listing files on remote server...\n",
      "17it [00:06,  2.50it/s]\n",
      "Downloading files: 100%|██████████| 1/1 [00:10<00:00, 10.25s/it]\n"
     ]
    },
    {
     "name": "stdout",
     "output_type": "stream",
     "text": [
      "Dowloading 57 / 109 files for 2023-06-22\n"
     ]
    },
    {
     "name": "stderr",
     "output_type": "stream",
     "text": [
      "INFO - 2025-08-07T12:39:07Z - Selected dataset version: \"202411\"\n",
      "INFO - 2025-08-07T12:39:07Z - Selected dataset part: \"default\"\n",
      "INFO - 2025-08-07T12:39:08Z - Listing files on remote server...\n",
      "17it [00:08,  1.96it/s]\n",
      "Downloading files: 100%|██████████| 1/1 [00:12<00:00, 12.21s/it]\n"
     ]
    },
    {
     "name": "stdout",
     "output_type": "stream",
     "text": [
      "Dowloading 58 / 109 files for 2023-06-26\n"
     ]
    },
    {
     "name": "stderr",
     "output_type": "stream",
     "text": [
      "INFO - 2025-08-07T12:39:39Z - Selected dataset version: \"202411\"\n",
      "INFO - 2025-08-07T12:39:39Z - Selected dataset part: \"default\"\n",
      "INFO - 2025-08-07T12:39:40Z - Listing files on remote server...\n",
      "17it [00:06,  2.74it/s]\n",
      "Downloading files: 100%|██████████| 1/1 [00:25<00:00, 25.78s/it]\n"
     ]
    },
    {
     "name": "stdout",
     "output_type": "stream",
     "text": [
      "Dowloading 59 / 109 files for 2023-06-27\n"
     ]
    },
    {
     "name": "stderr",
     "output_type": "stream",
     "text": [
      "INFO - 2025-08-07T12:40:19Z - Selected dataset version: \"202411\"\n",
      "INFO - 2025-08-07T12:40:19Z - Selected dataset part: \"default\"\n",
      "INFO - 2025-08-07T12:40:19Z - Listing files on remote server...\n",
      "17it [00:06,  2.61it/s]\n",
      "Downloading files: 100%|██████████| 1/1 [00:18<00:00, 18.40s/it]\n"
     ]
    },
    {
     "name": "stdout",
     "output_type": "stream",
     "text": [
      "Dowloading 60 / 109 files for 2023-07-03\n"
     ]
    },
    {
     "name": "stderr",
     "output_type": "stream",
     "text": [
      "INFO - 2025-08-07T12:40:51Z - Selected dataset version: \"202411\"\n",
      "INFO - 2025-08-07T12:40:51Z - Selected dataset part: \"default\"\n",
      "INFO - 2025-08-07T12:40:52Z - Listing files on remote server...\n",
      "17it [00:06,  2.45it/s]\n",
      "Downloading files: 100%|██████████| 1/1 [00:11<00:00, 11.22s/it]\n"
     ]
    },
    {
     "name": "stdout",
     "output_type": "stream",
     "text": [
      "Dowloading 61 / 109 files for 2023-07-04\n"
     ]
    },
    {
     "name": "stderr",
     "output_type": "stream",
     "text": [
      "INFO - 2025-08-07T12:41:17Z - Selected dataset version: \"202411\"\n",
      "INFO - 2025-08-07T12:41:17Z - Selected dataset part: \"default\"\n",
      "INFO - 2025-08-07T12:41:18Z - Listing files on remote server...\n",
      "17it [00:06,  2.63it/s]\n",
      "Downloading files: 100%|██████████| 1/1 [00:12<00:00, 12.48s/it]\n"
     ]
    },
    {
     "name": "stdout",
     "output_type": "stream",
     "text": [
      "Dowloading 62 / 109 files for 2023-07-14\n"
     ]
    },
    {
     "name": "stderr",
     "output_type": "stream",
     "text": [
      "INFO - 2025-08-07T12:41:43Z - Selected dataset version: \"202411\"\n",
      "INFO - 2025-08-07T12:41:43Z - Selected dataset part: \"default\"\n",
      "INFO - 2025-08-07T12:41:44Z - Listing files on remote server...\n",
      "17it [00:06,  2.56it/s]\n",
      "Downloading files: 100%|██████████| 1/1 [00:11<00:00, 11.47s/it]\n"
     ]
    },
    {
     "name": "stdout",
     "output_type": "stream",
     "text": [
      "Dowloading 63 / 109 files for 2023-07-15\n"
     ]
    },
    {
     "name": "stderr",
     "output_type": "stream",
     "text": [
      "INFO - 2025-08-07T12:42:09Z - Selected dataset version: \"202411\"\n",
      "INFO - 2025-08-07T12:42:09Z - Selected dataset part: \"default\"\n",
      "INFO - 2025-08-07T12:42:09Z - Listing files on remote server...\n",
      "17it [00:06,  2.51it/s]\n",
      "Downloading files: 100%|██████████| 1/1 [00:10<00:00, 10.59s/it]\n"
     ]
    },
    {
     "name": "stdout",
     "output_type": "stream",
     "text": [
      "Dowloading 64 / 109 files for 2023-07-16\n"
     ]
    },
    {
     "name": "stderr",
     "output_type": "stream",
     "text": [
      "INFO - 2025-08-07T12:42:33Z - Selected dataset version: \"202411\"\n",
      "INFO - 2025-08-07T12:42:33Z - Selected dataset part: \"default\"\n",
      "INFO - 2025-08-07T12:42:34Z - Listing files on remote server...\n",
      "17it [00:06,  2.50it/s]\n",
      "Downloading files: 100%|██████████| 1/1 [00:10<00:00, 10.96s/it]\n"
     ]
    },
    {
     "name": "stdout",
     "output_type": "stream",
     "text": [
      "Dowloading 65 / 109 files for 2023-07-17\n"
     ]
    },
    {
     "name": "stderr",
     "output_type": "stream",
     "text": [
      "INFO - 2025-08-07T12:42:58Z - Selected dataset version: \"202411\"\n",
      "INFO - 2025-08-07T12:42:58Z - Selected dataset part: \"default\"\n",
      "INFO - 2025-08-07T12:42:58Z - Listing files on remote server...\n",
      "17it [00:06,  2.55it/s]\n",
      "Downloading files: 100%|██████████| 1/1 [00:10<00:00, 10.93s/it]\n"
     ]
    },
    {
     "name": "stdout",
     "output_type": "stream",
     "text": [
      "Dowloading 66 / 109 files for 2023-07-18\n"
     ]
    },
    {
     "name": "stderr",
     "output_type": "stream",
     "text": [
      "INFO - 2025-08-07T12:43:23Z - Selected dataset version: \"202411\"\n",
      "INFO - 2025-08-07T12:43:23Z - Selected dataset part: \"default\"\n",
      "INFO - 2025-08-07T12:43:23Z - Listing files on remote server...\n",
      "17it [00:05,  2.84it/s]\n",
      "Downloading files: 100%|██████████| 1/1 [00:11<00:00, 11.30s/it]\n"
     ]
    },
    {
     "name": "stdout",
     "output_type": "stream",
     "text": [
      "Dowloading 67 / 109 files for 2023-07-19\n"
     ]
    },
    {
     "name": "stderr",
     "output_type": "stream",
     "text": [
      "INFO - 2025-08-07T12:43:46Z - Selected dataset version: \"202411\"\n",
      "INFO - 2025-08-07T12:43:46Z - Selected dataset part: \"default\"\n",
      "INFO - 2025-08-07T12:43:47Z - Listing files on remote server...\n",
      "17it [00:06,  2.64it/s]\n",
      "Downloading files: 100%|██████████| 1/1 [00:10<00:00, 10.59s/it]\n"
     ]
    },
    {
     "name": "stdout",
     "output_type": "stream",
     "text": [
      "Dowloading 68 / 109 files for 2023-07-21\n"
     ]
    },
    {
     "name": "stderr",
     "output_type": "stream",
     "text": [
      "INFO - 2025-08-07T12:44:10Z - Selected dataset version: \"202411\"\n",
      "INFO - 2025-08-07T12:44:10Z - Selected dataset part: \"default\"\n",
      "INFO - 2025-08-07T12:44:11Z - Listing files on remote server...\n",
      "17it [00:06,  2.82it/s]\n",
      "Downloading files: 100%|██████████| 1/1 [00:10<00:00, 10.72s/it]\n"
     ]
    },
    {
     "name": "stdout",
     "output_type": "stream",
     "text": [
      "Dowloading 69 / 109 files for 2023-07-30\n"
     ]
    },
    {
     "name": "stderr",
     "output_type": "stream",
     "text": [
      "INFO - 2025-08-07T12:44:34Z - Selected dataset version: \"202411\"\n",
      "INFO - 2025-08-07T12:44:34Z - Selected dataset part: \"default\"\n",
      "INFO - 2025-08-07T12:44:35Z - Listing files on remote server...\n",
      "17it [00:06,  2.64it/s]\n",
      "Downloading files: 100%|██████████| 1/1 [00:20<00:00, 20.20s/it]\n"
     ]
    },
    {
     "name": "stdout",
     "output_type": "stream",
     "text": [
      "Dowloading 70 / 109 files for 2023-08-08\n"
     ]
    },
    {
     "name": "stderr",
     "output_type": "stream",
     "text": [
      "INFO - 2025-08-07T12:45:09Z - Selected dataset version: \"202411\"\n",
      "INFO - 2025-08-07T12:45:09Z - Selected dataset part: \"default\"\n",
      "INFO - 2025-08-07T12:45:10Z - Listing files on remote server...\n",
      "17it [00:06,  2.58it/s]\n",
      "Downloading files: 100%|██████████| 1/1 [00:12<00:00, 12.17s/it]\n"
     ]
    },
    {
     "name": "stdout",
     "output_type": "stream",
     "text": [
      "Dowloading 71 / 109 files for 2023-08-09\n"
     ]
    },
    {
     "name": "stderr",
     "output_type": "stream",
     "text": [
      "INFO - 2025-08-07T12:45:35Z - Selected dataset version: \"202411\"\n",
      "INFO - 2025-08-07T12:45:35Z - Selected dataset part: \"default\"\n",
      "INFO - 2025-08-07T12:45:36Z - Listing files on remote server...\n",
      "17it [00:06,  2.75it/s]\n",
      "Downloading files: 100%|██████████| 1/1 [00:10<00:00, 10.89s/it]\n"
     ]
    },
    {
     "name": "stdout",
     "output_type": "stream",
     "text": [
      "Dowloading 72 / 109 files for 2023-08-10\n"
     ]
    },
    {
     "name": "stderr",
     "output_type": "stream",
     "text": [
      "INFO - 2025-08-07T12:45:59Z - Selected dataset version: \"202411\"\n",
      "INFO - 2025-08-07T12:45:59Z - Selected dataset part: \"default\"\n",
      "INFO - 2025-08-07T12:46:00Z - Listing files on remote server...\n",
      "17it [00:06,  2.65it/s]\n",
      "Downloading files: 100%|██████████| 1/1 [00:09<00:00,  9.86s/it]\n"
     ]
    },
    {
     "name": "stdout",
     "output_type": "stream",
     "text": [
      "Dowloading 73 / 109 files for 2023-08-18\n"
     ]
    },
    {
     "name": "stderr",
     "output_type": "stream",
     "text": [
      "INFO - 2025-08-07T12:46:22Z - Selected dataset version: \"202411\"\n",
      "INFO - 2025-08-07T12:46:22Z - Selected dataset part: \"default\"\n",
      "INFO - 2025-08-07T12:46:23Z - Listing files on remote server...\n",
      "17it [00:06,  2.57it/s]\n",
      "Downloading files: 100%|██████████| 1/1 [00:11<00:00, 11.84s/it]\n"
     ]
    },
    {
     "name": "stdout",
     "output_type": "stream",
     "text": [
      "Dowloading 74 / 109 files for 2023-08-21\n"
     ]
    },
    {
     "name": "stderr",
     "output_type": "stream",
     "text": [
      "INFO - 2025-08-07T12:46:50Z - Selected dataset version: \"202411\"\n",
      "INFO - 2025-08-07T12:46:50Z - Selected dataset part: \"default\"\n",
      "INFO - 2025-08-07T12:46:51Z - Listing files on remote server...\n",
      "17it [00:06,  2.70it/s]\n",
      "Downloading files: 100%|██████████| 1/1 [00:10<00:00, 10.69s/it]\n"
     ]
    },
    {
     "name": "stdout",
     "output_type": "stream",
     "text": [
      "Dowloading 75 / 109 files for 2023-08-22\n"
     ]
    },
    {
     "name": "stderr",
     "output_type": "stream",
     "text": [
      "INFO - 2025-08-07T12:47:14Z - Selected dataset version: \"202411\"\n",
      "INFO - 2025-08-07T12:47:14Z - Selected dataset part: \"default\"\n",
      "INFO - 2025-08-07T12:47:14Z - Listing files on remote server...\n",
      "17it [00:06,  2.83it/s]\n",
      "Downloading files: 100%|██████████| 1/1 [00:11<00:00, 11.39s/it]\n"
     ]
    },
    {
     "name": "stdout",
     "output_type": "stream",
     "text": [
      "Dowloading 76 / 109 files for 2023-08-28\n"
     ]
    },
    {
     "name": "stderr",
     "output_type": "stream",
     "text": [
      "INFO - 2025-08-07T12:47:39Z - Selected dataset version: \"202411\"\n",
      "INFO - 2025-08-07T12:47:39Z - Selected dataset part: \"default\"\n",
      "INFO - 2025-08-07T12:47:39Z - Listing files on remote server...\n",
      "17it [00:06,  2.62it/s]\n",
      "Downloading files: 100%|██████████| 1/1 [00:11<00:00, 11.32s/it]\n"
     ]
    },
    {
     "name": "stdout",
     "output_type": "stream",
     "text": [
      "Dowloading 77 / 109 files for 2023-08-29\n"
     ]
    },
    {
     "name": "stderr",
     "output_type": "stream",
     "text": [
      "INFO - 2025-08-07T12:48:05Z - Selected dataset version: \"202411\"\n",
      "INFO - 2025-08-07T12:48:05Z - Selected dataset part: \"default\"\n",
      "INFO - 2025-08-07T12:48:05Z - Listing files on remote server...\n",
      "17it [00:07,  2.28it/s]\n",
      "Downloading files: 100%|██████████| 1/1 [00:10<00:00, 10.45s/it]\n"
     ]
    },
    {
     "name": "stdout",
     "output_type": "stream",
     "text": [
      "Dowloading 78 / 109 files for 2023-08-30\n"
     ]
    },
    {
     "name": "stderr",
     "output_type": "stream",
     "text": [
      "INFO - 2025-08-07T12:48:30Z - Selected dataset version: \"202411\"\n",
      "INFO - 2025-08-07T12:48:30Z - Selected dataset part: \"default\"\n",
      "INFO - 2025-08-07T12:48:31Z - Listing files on remote server...\n",
      "17it [00:06,  2.54it/s]\n",
      "Downloading files: 100%|██████████| 1/1 [00:33<00:00, 33.63s/it]\n"
     ]
    },
    {
     "name": "stdout",
     "output_type": "stream",
     "text": [
      "Dowloading 79 / 109 files for 2023-09-03\n"
     ]
    },
    {
     "name": "stderr",
     "output_type": "stream",
     "text": [
      "INFO - 2025-08-07T12:49:18Z - Selected dataset version: \"202411\"\n",
      "INFO - 2025-08-07T12:49:18Z - Selected dataset part: \"default\"\n",
      "INFO - 2025-08-07T12:49:18Z - Listing files on remote server...\n",
      "17it [00:05,  2.88it/s]\n",
      "Downloading files: 100%|██████████| 1/1 [00:18<00:00, 18.24s/it]\n"
     ]
    },
    {
     "name": "stdout",
     "output_type": "stream",
     "text": [
      "Dowloading 80 / 109 files for 2023-09-16\n"
     ]
    },
    {
     "name": "stderr",
     "output_type": "stream",
     "text": [
      "INFO - 2025-08-07T12:49:49Z - Selected dataset version: \"202411\"\n",
      "INFO - 2025-08-07T12:49:49Z - Selected dataset part: \"default\"\n",
      "INFO - 2025-08-07T12:49:50Z - Listing files on remote server...\n",
      "17it [00:06,  2.67it/s]\n",
      "Downloading files: 100%|██████████| 1/1 [00:12<00:00, 12.29s/it]\n"
     ]
    },
    {
     "name": "stdout",
     "output_type": "stream",
     "text": [
      "Dowloading 81 / 109 files for 2023-09-18\n"
     ]
    },
    {
     "name": "stderr",
     "output_type": "stream",
     "text": [
      "INFO - 2025-08-07T12:50:15Z - Selected dataset version: \"202411\"\n",
      "INFO - 2025-08-07T12:50:15Z - Selected dataset part: \"default\"\n",
      "INFO - 2025-08-07T12:50:16Z - Listing files on remote server...\n",
      "17it [00:06,  2.58it/s]\n",
      "Downloading files: 100%|██████████| 1/1 [00:10<00:00, 10.39s/it]\n"
     ]
    },
    {
     "name": "stdout",
     "output_type": "stream",
     "text": [
      "Dowloading 82 / 109 files for 2023-09-22\n"
     ]
    },
    {
     "name": "stderr",
     "output_type": "stream",
     "text": [
      "INFO - 2025-08-07T12:50:39Z - Selected dataset version: \"202411\"\n",
      "INFO - 2025-08-07T12:50:39Z - Selected dataset part: \"default\"\n",
      "INFO - 2025-08-07T12:50:40Z - Listing files on remote server...\n",
      "17it [00:07,  2.34it/s]\n",
      "Downloading files: 100%|██████████| 1/1 [00:11<00:00, 11.40s/it]\n"
     ]
    },
    {
     "name": "stdout",
     "output_type": "stream",
     "text": [
      "Dowloading 83 / 109 files for 2023-09-26\n"
     ]
    },
    {
     "name": "stderr",
     "output_type": "stream",
     "text": [
      "INFO - 2025-08-07T12:51:05Z - Selected dataset version: \"202411\"\n",
      "INFO - 2025-08-07T12:51:05Z - Selected dataset part: \"default\"\n",
      "INFO - 2025-08-07T12:51:06Z - Listing files on remote server...\n",
      "17it [00:06,  2.69it/s]\n",
      "Downloading files: 100%|██████████| 1/1 [00:10<00:00, 10.56s/it]\n"
     ]
    },
    {
     "name": "stdout",
     "output_type": "stream",
     "text": [
      "Dowloading 84 / 109 files for 2023-09-28\n"
     ]
    },
    {
     "name": "stderr",
     "output_type": "stream",
     "text": [
      "INFO - 2025-08-07T12:51:29Z - Selected dataset version: \"202411\"\n",
      "INFO - 2025-08-07T12:51:29Z - Selected dataset part: \"default\"\n",
      "INFO - 2025-08-07T12:51:29Z - Listing files on remote server...\n",
      "17it [00:05,  2.86it/s]\n",
      "Downloading files: 100%|██████████| 1/1 [00:10<00:00, 10.91s/it]\n"
     ]
    },
    {
     "name": "stdout",
     "output_type": "stream",
     "text": [
      "Dowloading 85 / 109 files for 2023-10-01\n"
     ]
    },
    {
     "name": "stderr",
     "output_type": "stream",
     "text": [
      "INFO - 2025-08-07T12:51:53Z - Selected dataset version: \"202411\"\n",
      "INFO - 2025-08-07T12:51:53Z - Selected dataset part: \"default\"\n",
      "INFO - 2025-08-07T12:51:54Z - Listing files on remote server...\n",
      "17it [00:06,  2.46it/s]\n",
      "Downloading files: 100%|██████████| 1/1 [00:11<00:00, 11.23s/it]\n"
     ]
    },
    {
     "name": "stdout",
     "output_type": "stream",
     "text": [
      "Dowloading 86 / 109 files for 2023-10-06\n"
     ]
    },
    {
     "name": "stderr",
     "output_type": "stream",
     "text": [
      "INFO - 2025-08-07T12:52:18Z - Selected dataset version: \"202411\"\n",
      "INFO - 2025-08-07T12:52:18Z - Selected dataset part: \"default\"\n",
      "INFO - 2025-08-07T12:52:19Z - Listing files on remote server...\n",
      "17it [00:07,  2.41it/s]\n",
      "Downloading files: 100%|██████████| 1/1 [00:10<00:00, 10.83s/it]\n"
     ]
    },
    {
     "name": "stdout",
     "output_type": "stream",
     "text": [
      "Dowloading 87 / 109 files for 2023-10-10\n"
     ]
    },
    {
     "name": "stderr",
     "output_type": "stream",
     "text": [
      "INFO - 2025-08-07T12:52:44Z - Selected dataset version: \"202411\"\n",
      "INFO - 2025-08-07T12:52:44Z - Selected dataset part: \"default\"\n",
      "INFO - 2025-08-07T12:52:45Z - Listing files on remote server...\n",
      "17it [00:08,  2.12it/s]\n",
      "Downloading files: 100%|██████████| 1/1 [00:15<00:00, 15.44s/it]\n"
     ]
    },
    {
     "name": "stdout",
     "output_type": "stream",
     "text": [
      "Dowloading 88 / 109 files for 2023-10-11\n"
     ]
    },
    {
     "name": "stderr",
     "output_type": "stream",
     "text": [
      "INFO - 2025-08-07T12:53:16Z - Selected dataset version: \"202411\"\n",
      "INFO - 2025-08-07T12:53:16Z - Selected dataset part: \"default\"\n",
      "INFO - 2025-08-07T12:53:16Z - Listing files on remote server...\n",
      "17it [00:05,  2.94it/s]\n",
      "Downloading files: 100%|██████████| 1/1 [00:13<00:00, 13.29s/it]\n"
     ]
    },
    {
     "name": "stdout",
     "output_type": "stream",
     "text": [
      "Dowloading 89 / 109 files for 2023-10-12\n"
     ]
    },
    {
     "name": "stderr",
     "output_type": "stream",
     "text": [
      "INFO - 2025-08-07T12:53:41Z - Selected dataset version: \"202411\"\n",
      "INFO - 2025-08-07T12:53:41Z - Selected dataset part: \"default\"\n",
      "INFO - 2025-08-07T12:53:42Z - Listing files on remote server...\n",
      "17it [00:06,  2.59it/s]\n",
      "Downloading files: 100%|██████████| 1/1 [00:10<00:00, 10.23s/it]\n"
     ]
    },
    {
     "name": "stdout",
     "output_type": "stream",
     "text": [
      "Dowloading 90 / 109 files for 2023-10-14\n"
     ]
    },
    {
     "name": "stderr",
     "output_type": "stream",
     "text": [
      "INFO - 2025-08-07T12:54:07Z - Selected dataset version: \"202411\"\n",
      "INFO - 2025-08-07T12:54:07Z - Selected dataset part: \"default\"\n",
      "INFO - 2025-08-07T12:54:07Z - Listing files on remote server...\n",
      "17it [00:06,  2.43it/s]\n",
      "Downloading files: 100%|██████████| 1/1 [00:34<00:00, 34.54s/it]\n"
     ]
    },
    {
     "name": "stdout",
     "output_type": "stream",
     "text": [
      "Dowloading 91 / 109 files for 2023-10-15\n"
     ]
    },
    {
     "name": "stderr",
     "output_type": "stream",
     "text": [
      "INFO - 2025-08-07T12:54:56Z - Selected dataset version: \"202411\"\n",
      "INFO - 2025-08-07T12:54:56Z - Selected dataset part: \"default\"\n",
      "INFO - 2025-08-07T12:54:56Z - Listing files on remote server...\n",
      "17it [00:06,  2.47it/s]\n",
      "Downloading files: 100%|██████████| 1/1 [00:14<00:00, 14.07s/it]\n"
     ]
    },
    {
     "name": "stdout",
     "output_type": "stream",
     "text": [
      "Dowloading 92 / 109 files for 2023-10-17\n"
     ]
    },
    {
     "name": "stderr",
     "output_type": "stream",
     "text": [
      "INFO - 2025-08-07T12:55:25Z - Selected dataset version: \"202411\"\n",
      "INFO - 2025-08-07T12:55:25Z - Selected dataset part: \"default\"\n",
      "INFO - 2025-08-07T12:55:25Z - Listing files on remote server...\n",
      "17it [00:06,  2.53it/s]\n",
      "Downloading files: 100%|██████████| 1/1 [00:12<00:00, 12.84s/it]\n"
     ]
    },
    {
     "name": "stdout",
     "output_type": "stream",
     "text": [
      "Dowloading 93 / 109 files for 2023-10-24\n"
     ]
    },
    {
     "name": "stderr",
     "output_type": "stream",
     "text": [
      "INFO - 2025-08-07T12:55:52Z - Selected dataset version: \"202411\"\n",
      "INFO - 2025-08-07T12:55:52Z - Selected dataset part: \"default\"\n",
      "INFO - 2025-08-07T12:55:52Z - Listing files on remote server...\n",
      "17it [00:07,  2.41it/s]\n",
      "Downloading files: 100%|██████████| 1/1 [00:10<00:00, 10.55s/it]\n"
     ]
    },
    {
     "name": "stdout",
     "output_type": "stream",
     "text": [
      "Dowloading 94 / 109 files for 2023-10-30\n"
     ]
    },
    {
     "name": "stderr",
     "output_type": "stream",
     "text": [
      "INFO - 2025-08-07T12:56:17Z - Selected dataset version: \"202411\"\n",
      "INFO - 2025-08-07T12:56:17Z - Selected dataset part: \"default\"\n",
      "INFO - 2025-08-07T12:56:17Z - Listing files on remote server...\n",
      "17it [00:06,  2.51it/s]\n",
      "Downloading files: 100%|██████████| 1/1 [00:25<00:00, 25.05s/it]\n"
     ]
    },
    {
     "name": "stdout",
     "output_type": "stream",
     "text": [
      "Dowloading 95 / 109 files for 2023-11-01\n"
     ]
    },
    {
     "name": "stderr",
     "output_type": "stream",
     "text": [
      "INFO - 2025-08-07T12:56:56Z - Selected dataset version: \"202411\"\n",
      "INFO - 2025-08-07T12:56:56Z - Selected dataset part: \"default\"\n",
      "INFO - 2025-08-07T12:56:57Z - Listing files on remote server...\n",
      "17it [00:06,  2.67it/s]\n",
      "Downloading files: 100%|██████████| 1/1 [00:10<00:00, 10.43s/it]\n"
     ]
    },
    {
     "name": "stdout",
     "output_type": "stream",
     "text": [
      "Dowloading 96 / 109 files for 2023-11-05\n"
     ]
    },
    {
     "name": "stderr",
     "output_type": "stream",
     "text": [
      "INFO - 2025-08-07T12:57:20Z - Selected dataset version: \"202411\"\n",
      "INFO - 2025-08-07T12:57:20Z - Selected dataset part: \"default\"\n",
      "INFO - 2025-08-07T12:57:20Z - Listing files on remote server...\n",
      "17it [00:05,  2.86it/s]\n",
      "Downloading files: 100%|██████████| 1/1 [00:10<00:00, 10.37s/it]\n"
     ]
    },
    {
     "name": "stdout",
     "output_type": "stream",
     "text": [
      "Dowloading 97 / 109 files for 2023-11-09\n"
     ]
    },
    {
     "name": "stderr",
     "output_type": "stream",
     "text": [
      "INFO - 2025-08-07T12:57:42Z - Selected dataset version: \"202411\"\n",
      "INFO - 2025-08-07T12:57:42Z - Selected dataset part: \"default\"\n",
      "INFO - 2025-08-07T12:57:43Z - Listing files on remote server...\n",
      "17it [00:05,  2.84it/s]\n",
      "Downloading files: 100%|██████████| 1/1 [00:10<00:00, 10.92s/it]\n"
     ]
    },
    {
     "name": "stdout",
     "output_type": "stream",
     "text": [
      "Dowloading 98 / 109 files for 2023-11-12\n"
     ]
    },
    {
     "name": "stderr",
     "output_type": "stream",
     "text": [
      "INFO - 2025-08-07T12:58:06Z - Selected dataset version: \"202411\"\n",
      "INFO - 2025-08-07T12:58:06Z - Selected dataset part: \"default\"\n",
      "INFO - 2025-08-07T12:58:06Z - Listing files on remote server...\n",
      "17it [00:05,  2.94it/s]\n",
      "Downloading files: 100%|██████████| 1/1 [00:10<00:00, 10.34s/it]\n"
     ]
    },
    {
     "name": "stdout",
     "output_type": "stream",
     "text": [
      "Dowloading 99 / 109 files for 2023-11-13\n"
     ]
    },
    {
     "name": "stderr",
     "output_type": "stream",
     "text": [
      "INFO - 2025-08-07T12:58:28Z - Selected dataset version: \"202411\"\n",
      "INFO - 2025-08-07T12:58:28Z - Selected dataset part: \"default\"\n",
      "INFO - 2025-08-07T12:58:29Z - Listing files on remote server...\n",
      "17it [00:05,  2.98it/s]\n",
      "Downloading files: 100%|██████████| 1/1 [00:09<00:00,  9.91s/it]\n"
     ]
    },
    {
     "name": "stdout",
     "output_type": "stream",
     "text": [
      "Dowloading 100 / 109 files for 2023-11-18\n"
     ]
    },
    {
     "name": "stderr",
     "output_type": "stream",
     "text": [
      "INFO - 2025-08-07T12:58:51Z - Selected dataset version: \"202411\"\n",
      "INFO - 2025-08-07T12:58:51Z - Selected dataset part: \"default\"\n",
      "INFO - 2025-08-07T12:58:52Z - Listing files on remote server...\n",
      "17it [00:05,  2.95it/s]\n",
      "Downloading files: 100%|██████████| 1/1 [00:10<00:00, 10.23s/it]\n"
     ]
    },
    {
     "name": "stdout",
     "output_type": "stream",
     "text": [
      "Dowloading 101 / 109 files for 2023-11-19\n"
     ]
    },
    {
     "name": "stderr",
     "output_type": "stream",
     "text": [
      "INFO - 2025-08-07T12:59:14Z - Selected dataset version: \"202411\"\n",
      "INFO - 2025-08-07T12:59:14Z - Selected dataset part: \"default\"\n",
      "INFO - 2025-08-07T12:59:14Z - Listing files on remote server...\n",
      "17it [00:06,  2.71it/s]\n",
      "Downloading files: 100%|██████████| 1/1 [00:18<00:00, 18.02s/it]\n"
     ]
    },
    {
     "name": "stdout",
     "output_type": "stream",
     "text": [
      "Dowloading 102 / 109 files for 2023-11-21\n"
     ]
    },
    {
     "name": "stderr",
     "output_type": "stream",
     "text": [
      "INFO - 2025-08-07T12:59:45Z - Selected dataset version: \"202411\"\n",
      "INFO - 2025-08-07T12:59:45Z - Selected dataset part: \"default\"\n",
      "INFO - 2025-08-07T12:59:45Z - Listing files on remote server...\n",
      "17it [00:05,  3.02it/s]\n",
      "Downloading files: 100%|██████████| 1/1 [00:12<00:00, 12.60s/it]\n"
     ]
    },
    {
     "name": "stdout",
     "output_type": "stream",
     "text": [
      "Dowloading 103 / 109 files for 2023-11-22\n"
     ]
    },
    {
     "name": "stderr",
     "output_type": "stream",
     "text": [
      "INFO - 2025-08-07T13:00:11Z - Selected dataset version: \"202411\"\n",
      "INFO - 2025-08-07T13:00:11Z - Selected dataset part: \"default\"\n",
      "INFO - 2025-08-07T13:00:11Z - Listing files on remote server...\n",
      "17it [00:06,  2.83it/s]\n",
      "Downloading files: 100%|██████████| 1/1 [00:10<00:00, 10.24s/it]\n"
     ]
    },
    {
     "name": "stdout",
     "output_type": "stream",
     "text": [
      "Dowloading 104 / 109 files for 2023-12-03\n"
     ]
    },
    {
     "name": "stderr",
     "output_type": "stream",
     "text": [
      "INFO - 2025-08-07T13:00:34Z - Selected dataset version: \"202411\"\n",
      "INFO - 2025-08-07T13:00:34Z - Selected dataset part: \"default\"\n",
      "INFO - 2025-08-07T13:00:34Z - Listing files on remote server...\n",
      "17it [00:05,  2.89it/s]\n",
      "Downloading files: 100%|██████████| 1/1 [00:10<00:00, 10.35s/it]\n"
     ]
    },
    {
     "name": "stdout",
     "output_type": "stream",
     "text": [
      "Dowloading 105 / 109 files for 2023-12-07\n"
     ]
    },
    {
     "name": "stderr",
     "output_type": "stream",
     "text": [
      "INFO - 2025-08-07T13:00:57Z - Selected dataset version: \"202411\"\n",
      "INFO - 2025-08-07T13:00:57Z - Selected dataset part: \"default\"\n",
      "INFO - 2025-08-07T13:00:57Z - Listing files on remote server...\n",
      "17it [00:07,  2.35it/s]\n",
      "Downloading files: 100%|██████████| 1/1 [00:14<00:00, 14.84s/it]\n"
     ]
    },
    {
     "name": "stdout",
     "output_type": "stream",
     "text": [
      "Dowloading 106 / 109 files for 2023-12-13\n"
     ]
    },
    {
     "name": "stderr",
     "output_type": "stream",
     "text": [
      "INFO - 2025-08-07T13:01:24Z - Selected dataset version: \"202411\"\n",
      "INFO - 2025-08-07T13:01:24Z - Selected dataset part: \"default\"\n",
      "INFO - 2025-08-07T13:01:25Z - Listing files on remote server...\n",
      "17it [00:05,  3.30it/s]\n",
      "Downloading files: 100%|██████████| 1/1 [00:09<00:00,  9.30s/it]\n"
     ]
    },
    {
     "name": "stdout",
     "output_type": "stream",
     "text": [
      "Dowloading 107 / 109 files for 2023-12-18\n"
     ]
    },
    {
     "name": "stderr",
     "output_type": "stream",
     "text": [
      "INFO - 2025-08-07T13:01:45Z - Selected dataset version: \"202411\"\n",
      "INFO - 2025-08-07T13:01:45Z - Selected dataset part: \"default\"\n",
      "INFO - 2025-08-07T13:01:45Z - Listing files on remote server...\n",
      "17it [00:05,  2.89it/s]\n",
      "Downloading files: 100%|██████████| 1/1 [00:10<00:00, 10.24s/it]\n"
     ]
    },
    {
     "name": "stdout",
     "output_type": "stream",
     "text": [
      "Dowloading 108 / 109 files for 2023-12-24\n"
     ]
    },
    {
     "name": "stderr",
     "output_type": "stream",
     "text": [
      "INFO - 2025-08-07T13:02:05Z - Selected dataset version: \"202411\"\n",
      "INFO - 2025-08-07T13:02:05Z - Selected dataset part: \"default\"\n",
      "INFO - 2025-08-07T13:02:06Z - Listing files on remote server...\n",
      "17it [00:05,  3.24it/s]\n",
      "Downloading files: 100%|██████████| 1/1 [00:10<00:00, 10.32s/it]"
     ]
    },
    {
     "name": "stdout",
     "output_type": "stream",
     "text": [
      "Dowloading 109 / 109 files for 2023-12-30\n"
     ]
    },
    {
     "name": "stderr",
     "output_type": "stream",
     "text": [
      "\n"
     ]
    }
   ],
   "source": [
    "i=0\n",
    "for date in sampled_dates:\n",
    "    i += 1\n",
    "    year = date.year\n",
    "    month = date.month \n",
    "    if month < 10:\n",
    "        month = f'0{month}'             \n",
    "    day = date.day\n",
    "    if day < 10:\n",
    "        day = f'0{day}'\n",
    "    cm.get(\n",
    "        username = 'your_username',\n",
    "        password = 'your_password',\n",
    "        dataset_id  = datasetID,\n",
    "        filter=f'*{year}{month}{day}*'\n",
    "        )\n",
    "    print(f'Dowloading {i} / 109 files for {year}-{month}-{day}')"
   ]
  },
  {
   "cell_type": "markdown",
   "id": "c8bdd3fb",
   "metadata": {},
   "source": [
    "### 🛠️ Spatially filtering each daily dataset by the bounding box of the Living Lab Geometry"
   ]
  },
  {
   "cell_type": "markdown",
   "id": "8fa4e19b",
   "metadata": {},
   "source": [
    "I need to filter spatially the dataset before the calcul of the annual mean because I don't want to calcul the values of the mean for all the Baltic Sea. However, using the Living Lab West mask can create issues at the border of the geometry and cause a loss of data at the border... because I am working in shalow water, the border data are very important ! I will create and use the boundingbox of the living lab geometry as a mask."
   ]
  },
  {
   "cell_type": "markdown",
   "id": "5443dc7f",
   "metadata": {},
   "source": [
    "I will merge the datasets per year and caculate the mean."
   ]
  },
  {
   "cell_type": "code",
   "execution_count": null,
   "id": "cf2de97b",
   "metadata": {},
   "outputs": [],
   "source": [
    "import xarray as xr\n",
    "import geopandas as gpd\n",
    "import numpy as np\n",
    "import time\n",
    "import matplotlib.pyplot as plt\n",
    "import gc"
   ]
  },
  {
   "cell_type": "code",
   "execution_count": 11,
   "id": "8e6ce545",
   "metadata": {},
   "outputs": [],
   "source": [
    "livinglab_geometry = gpd.read_file(\"data/livinglab_west.json\")"
   ]
  },
  {
   "cell_type": "code",
   "execution_count": 13,
   "id": "66b88a85",
   "metadata": {},
   "outputs": [
    {
     "name": "stdout",
     "output_type": "stream",
     "text": [
      "File 1 / 109 processed: bounding_box_filtered_CMEMS_BAL_WAV_MY_2023010201.nc\n",
      "File 2 / 109 processed: bounding_box_filtered_CMEMS_BAL_WAV_MY_2023010301.nc\n",
      "File 3 / 109 processed: bounding_box_filtered_CMEMS_BAL_WAV_MY_2023010701.nc\n",
      "File 4 / 109 processed: bounding_box_filtered_CMEMS_BAL_WAV_MY_2023011301.nc\n",
      "File 5 / 109 processed: bounding_box_filtered_CMEMS_BAL_WAV_MY_2023011401.nc\n",
      "File 6 / 109 processed: bounding_box_filtered_CMEMS_BAL_WAV_MY_2023011701.nc\n",
      "File 7 / 109 processed: bounding_box_filtered_CMEMS_BAL_WAV_MY_2023011801.nc\n",
      "File 8 / 109 processed: bounding_box_filtered_CMEMS_BAL_WAV_MY_2023012601.nc\n",
      "File 9 / 109 processed: bounding_box_filtered_CMEMS_BAL_WAV_MY_2023012701.nc\n",
      "File 10 / 109 processed: bounding_box_filtered_CMEMS_BAL_WAV_MY_2023012801.nc\n",
      "File 11 / 109 processed: bounding_box_filtered_CMEMS_BAL_WAV_MY_2023012901.nc\n",
      "File 12 / 109 processed: bounding_box_filtered_CMEMS_BAL_WAV_MY_2023013101.nc\n",
      "File 13 / 109 processed: bounding_box_filtered_CMEMS_BAL_WAV_MY_2023020601.nc\n",
      "File 14 / 109 processed: bounding_box_filtered_CMEMS_BAL_WAV_MY_2023021501.nc\n",
      "File 15 / 109 processed: bounding_box_filtered_CMEMS_BAL_WAV_MY_2023021601.nc\n",
      "File 16 / 109 processed: bounding_box_filtered_CMEMS_BAL_WAV_MY_2023021701.nc\n",
      "File 17 / 109 processed: bounding_box_filtered_CMEMS_BAL_WAV_MY_2023021801.nc\n",
      "File 18 / 109 processed: bounding_box_filtered_CMEMS_BAL_WAV_MY_2023022001.nc\n",
      "File 19 / 109 processed: bounding_box_filtered_CMEMS_BAL_WAV_MY_2023022801.nc\n",
      "File 20 / 109 processed: bounding_box_filtered_CMEMS_BAL_WAV_MY_2023030301.nc\n",
      "File 21 / 109 processed: bounding_box_filtered_CMEMS_BAL_WAV_MY_2023030701.nc\n",
      "File 22 / 109 processed: bounding_box_filtered_CMEMS_BAL_WAV_MY_2023030901.nc\n",
      "File 23 / 109 processed: bounding_box_filtered_CMEMS_BAL_WAV_MY_2023031901.nc\n",
      "File 24 / 109 processed: bounding_box_filtered_CMEMS_BAL_WAV_MY_2023032201.nc\n",
      "File 25 / 109 processed: bounding_box_filtered_CMEMS_BAL_WAV_MY_2023032901.nc\n",
      "File 26 / 109 processed: bounding_box_filtered_CMEMS_BAL_WAV_MY_2023033001.nc\n",
      "File 27 / 109 processed: bounding_box_filtered_CMEMS_BAL_WAV_MY_2023040101.nc\n",
      "File 28 / 109 processed: bounding_box_filtered_CMEMS_BAL_WAV_MY_2023040201.nc\n",
      "File 29 / 109 processed: bounding_box_filtered_CMEMS_BAL_WAV_MY_2023040701.nc\n",
      "File 30 / 109 processed: bounding_box_filtered_CMEMS_BAL_WAV_MY_2023041101.nc\n",
      "File 31 / 109 processed: bounding_box_filtered_CMEMS_BAL_WAV_MY_2023041201.nc\n",
      "File 32 / 109 processed: bounding_box_filtered_CMEMS_BAL_WAV_MY_2023042501.nc\n",
      "File 33 / 109 processed: bounding_box_filtered_CMEMS_BAL_WAV_MY_2023042601.nc\n",
      "File 34 / 109 processed: bounding_box_filtered_CMEMS_BAL_WAV_MY_2023043001.nc\n",
      "File 35 / 109 processed: bounding_box_filtered_CMEMS_BAL_WAV_MY_2023050101.nc\n",
      "File 36 / 109 processed: bounding_box_filtered_CMEMS_BAL_WAV_MY_2023050401.nc\n",
      "File 37 / 109 processed: bounding_box_filtered_CMEMS_BAL_WAV_MY_2023050801.nc\n",
      "File 38 / 109 processed: bounding_box_filtered_CMEMS_BAL_WAV_MY_2023050901.nc\n",
      "File 39 / 109 processed: bounding_box_filtered_CMEMS_BAL_WAV_MY_2023051201.nc\n",
      "File 40 / 109 processed: bounding_box_filtered_CMEMS_BAL_WAV_MY_2023051401.nc\n",
      "File 41 / 109 processed: bounding_box_filtered_CMEMS_BAL_WAV_MY_2023051601.nc\n",
      "File 42 / 109 processed: bounding_box_filtered_CMEMS_BAL_WAV_MY_2023051801.nc\n",
      "File 43 / 109 processed: bounding_box_filtered_CMEMS_BAL_WAV_MY_2023052101.nc\n",
      "File 44 / 109 processed: bounding_box_filtered_CMEMS_BAL_WAV_MY_2023052201.nc\n",
      "File 45 / 109 processed: bounding_box_filtered_CMEMS_BAL_WAV_MY_2023052301.nc\n",
      "File 46 / 109 processed: bounding_box_filtered_CMEMS_BAL_WAV_MY_2023052601.nc\n",
      "File 47 / 109 processed: bounding_box_filtered_CMEMS_BAL_WAV_MY_2023052801.nc\n",
      "File 48 / 109 processed: bounding_box_filtered_CMEMS_BAL_WAV_MY_2023060201.nc\n",
      "File 49 / 109 processed: bounding_box_filtered_CMEMS_BAL_WAV_MY_2023060301.nc\n",
      "File 50 / 109 processed: bounding_box_filtered_CMEMS_BAL_WAV_MY_2023060601.nc\n",
      "File 51 / 109 processed: bounding_box_filtered_CMEMS_BAL_WAV_MY_2023060901.nc\n",
      "File 52 / 109 processed: bounding_box_filtered_CMEMS_BAL_WAV_MY_2023061001.nc\n",
      "File 53 / 109 processed: bounding_box_filtered_CMEMS_BAL_WAV_MY_2023061701.nc\n",
      "File 54 / 109 processed: bounding_box_filtered_CMEMS_BAL_WAV_MY_2023061801.nc\n",
      "File 55 / 109 processed: bounding_box_filtered_CMEMS_BAL_WAV_MY_2023061901.nc\n",
      "File 56 / 109 processed: bounding_box_filtered_CMEMS_BAL_WAV_MY_2023062001.nc\n",
      "File 57 / 109 processed: bounding_box_filtered_CMEMS_BAL_WAV_MY_2023062201.nc\n",
      "File 58 / 109 processed: bounding_box_filtered_CMEMS_BAL_WAV_MY_2023062601.nc\n",
      "File 59 / 109 processed: bounding_box_filtered_CMEMS_BAL_WAV_MY_2023062701.nc\n",
      "File 60 / 109 processed: bounding_box_filtered_CMEMS_BAL_WAV_MY_2023070301.nc\n",
      "File 61 / 109 processed: bounding_box_filtered_CMEMS_BAL_WAV_MY_2023070401.nc\n",
      "File 62 / 109 processed: bounding_box_filtered_CMEMS_BAL_WAV_MY_2023071401.nc\n",
      "File 63 / 109 processed: bounding_box_filtered_CMEMS_BAL_WAV_MY_2023071501.nc\n",
      "File 64 / 109 processed: bounding_box_filtered_CMEMS_BAL_WAV_MY_2023071601.nc\n",
      "File 65 / 109 processed: bounding_box_filtered_CMEMS_BAL_WAV_MY_2023071701.nc\n",
      "File 66 / 109 processed: bounding_box_filtered_CMEMS_BAL_WAV_MY_2023071801.nc\n",
      "File 67 / 109 processed: bounding_box_filtered_CMEMS_BAL_WAV_MY_2023071901.nc\n",
      "File 68 / 109 processed: bounding_box_filtered_CMEMS_BAL_WAV_MY_2023072101.nc\n",
      "File 69 / 109 processed: bounding_box_filtered_CMEMS_BAL_WAV_MY_2023073001.nc\n",
      "File 70 / 109 processed: bounding_box_filtered_CMEMS_BAL_WAV_MY_2023080801.nc\n",
      "File 71 / 109 processed: bounding_box_filtered_CMEMS_BAL_WAV_MY_2023080901.nc\n",
      "File 72 / 109 processed: bounding_box_filtered_CMEMS_BAL_WAV_MY_2023081001.nc\n",
      "File 73 / 109 processed: bounding_box_filtered_CMEMS_BAL_WAV_MY_2023081801.nc\n",
      "File 74 / 109 processed: bounding_box_filtered_CMEMS_BAL_WAV_MY_2023082101.nc\n",
      "File 75 / 109 processed: bounding_box_filtered_CMEMS_BAL_WAV_MY_2023082201.nc\n",
      "File 76 / 109 processed: bounding_box_filtered_CMEMS_BAL_WAV_MY_2023082801.nc\n",
      "File 77 / 109 processed: bounding_box_filtered_CMEMS_BAL_WAV_MY_2023082901.nc\n",
      "File 78 / 109 processed: bounding_box_filtered_CMEMS_BAL_WAV_MY_2023083001.nc\n",
      "File 79 / 109 processed: bounding_box_filtered_CMEMS_BAL_WAV_MY_2023090301.nc\n",
      "File 80 / 109 processed: bounding_box_filtered_CMEMS_BAL_WAV_MY_2023091601.nc\n",
      "File 81 / 109 processed: bounding_box_filtered_CMEMS_BAL_WAV_MY_2023091801.nc\n",
      "File 82 / 109 processed: bounding_box_filtered_CMEMS_BAL_WAV_MY_2023092201.nc\n",
      "File 83 / 109 processed: bounding_box_filtered_CMEMS_BAL_WAV_MY_2023092601.nc\n",
      "File 84 / 109 processed: bounding_box_filtered_CMEMS_BAL_WAV_MY_2023092801.nc\n",
      "File 85 / 109 processed: bounding_box_filtered_CMEMS_BAL_WAV_MY_2023100101.nc\n",
      "File 86 / 109 processed: bounding_box_filtered_CMEMS_BAL_WAV_MY_2023100601.nc\n",
      "File 87 / 109 processed: bounding_box_filtered_CMEMS_BAL_WAV_MY_2023101001.nc\n",
      "File 88 / 109 processed: bounding_box_filtered_CMEMS_BAL_WAV_MY_2023101101.nc\n",
      "File 89 / 109 processed: bounding_box_filtered_CMEMS_BAL_WAV_MY_2023101201.nc\n",
      "File 90 / 109 processed: bounding_box_filtered_CMEMS_BAL_WAV_MY_2023101401.nc\n",
      "File 91 / 109 processed: bounding_box_filtered_CMEMS_BAL_WAV_MY_2023101501.nc\n",
      "File 92 / 109 processed: bounding_box_filtered_CMEMS_BAL_WAV_MY_2023101701.nc\n",
      "File 93 / 109 processed: bounding_box_filtered_CMEMS_BAL_WAV_MY_2023102401.nc\n",
      "File 94 / 109 processed: bounding_box_filtered_CMEMS_BAL_WAV_MY_2023103001.nc\n",
      "File 95 / 109 processed: bounding_box_filtered_CMEMS_BAL_WAV_MY_2023110101.nc\n",
      "File 96 / 109 processed: bounding_box_filtered_CMEMS_BAL_WAV_MY_2023110501.nc\n",
      "File 97 / 109 processed: bounding_box_filtered_CMEMS_BAL_WAV_MY_2023110901.nc\n",
      "File 98 / 109 processed: bounding_box_filtered_CMEMS_BAL_WAV_MY_2023111201.nc\n",
      "File 99 / 109 processed: bounding_box_filtered_CMEMS_BAL_WAV_MY_2023111301.nc\n",
      "File 100 / 109 processed: bounding_box_filtered_CMEMS_BAL_WAV_MY_2023111801.nc\n",
      "File 101 / 109 processed: bounding_box_filtered_CMEMS_BAL_WAV_MY_2023111901.nc\n",
      "File 102 / 109 processed: bounding_box_filtered_CMEMS_BAL_WAV_MY_2023112101.nc\n",
      "File 103 / 109 processed: bounding_box_filtered_CMEMS_BAL_WAV_MY_2023112201.nc\n",
      "File 104 / 109 processed: bounding_box_filtered_CMEMS_BAL_WAV_MY_2023120301.nc\n",
      "File 105 / 109 processed: bounding_box_filtered_CMEMS_BAL_WAV_MY_2023120701.nc\n",
      "File 106 / 109 processed: bounding_box_filtered_CMEMS_BAL_WAV_MY_2023121301.nc\n",
      "File 107 / 109 processed: bounding_box_filtered_CMEMS_BAL_WAV_MY_2023121801.nc\n",
      "File 108 / 109 processed: bounding_box_filtered_CMEMS_BAL_WAV_MY_2023122401.nc\n",
      "File 109 / 109 processed: bounding_box_filtered_CMEMS_BAL_WAV_MY_2023123001.nc\n"
     ]
    }
   ],
   "source": [
    "i = 0\n",
    "for date in sampled_dates:\n",
    "    i += 1\n",
    "    year = date.year\n",
    "    month = date.month\n",
    "    if month < 10:\n",
    "        month = f'0{month}'             \n",
    "    day = date.day\n",
    "    if day < 10:\n",
    "        day = f'0{day}'\n",
    "    input_file_name = f'CMEMS_BAL_WAV_MY_{year}{month}{day}01.nc'\n",
    "    output_file_name = f'bounding_box_filtered_{input_file_name}'\n",
    "    input_file = f'data/{year}/{month}/{input_file_name}'\n",
    "    output_file = f'data/{year}/{month}/{output_file_name}'\n",
    "\n",
    "    ds = xr.open_dataset(input_file)\n",
    "    lat = ds['lat'].values\n",
    "    lon = ds['lon'].values\n",
    "    lon_grid, lat_grid = np.meshgrid(lon, lat)\n",
    "    coords = np.column_stack((lon_grid.ravel(), lat_grid.ravel()))\n",
    "    # Get the bounding box of the livinglab_geometry\n",
    "    minx, miny, maxx, maxy = livinglab_geometry.total_bounds\n",
    "    # Create a mask using the bounding box\n",
    "    mask = ((lat_grid >= miny) & (lat_grid <= maxy) & (lon_grid >= minx) & (lon_grid <= maxx))\n",
    "    mask_da = xr.DataArray(mask, coords=[ds['lat'], ds['lon']], dims=[\"lat\", \"lon\"])\n",
    "    filtered_data = ds.where(mask_da, drop=True) \n",
    "    \n",
    "    try:\n",
    "        filtered_data.to_netcdf(output_file)\n",
    "    finally:\n",
    "        ds.close()\n",
    "        filtered_data.close()\n",
    "        del ds\n",
    "        del filtered_data\n",
    "        gc.collect()\n",
    "        time.sleep(1)\n",
    "\n",
    "    # Try to delete the file, retrying if necessary\n",
    "    for attempt in range(5):\n",
    "        try:\n",
    "            if os.path.exists(output_file):\n",
    "                os.remove(input_file)\n",
    "            break\n",
    "        except PermissionError:\n",
    "            time.sleep(1)\n",
    "    print(f'File {i} / 109 processed: {output_file_name}')"
   ]
  },
  {
   "cell_type": "markdown",
   "id": "6fad3337",
   "metadata": {},
   "source": [
    "### 🛠️ Calculating the annual mean of the filtered dataset"
   ]
  },
  {
   "cell_type": "code",
   "execution_count": 15,
   "id": "20e77c97",
   "metadata": {},
   "outputs": [
    {
     "data": {
      "text/html": [
       "<div><svg style=\"position: absolute; width: 0; height: 0; overflow: hidden\">\n",
       "<defs>\n",
       "<symbol id=\"icon-database\" viewBox=\"0 0 32 32\">\n",
       "<path d=\"M16 0c-8.837 0-16 2.239-16 5v4c0 2.761 7.163 5 16 5s16-2.239 16-5v-4c0-2.761-7.163-5-16-5z\"></path>\n",
       "<path d=\"M16 17c-8.837 0-16-2.239-16-5v6c0 2.761 7.163 5 16 5s16-2.239 16-5v-6c0 2.761-7.163 5-16 5z\"></path>\n",
       "<path d=\"M16 26c-8.837 0-16-2.239-16-5v6c0 2.761 7.163 5 16 5s16-2.239 16-5v-6c0 2.761-7.163 5-16 5z\"></path>\n",
       "</symbol>\n",
       "<symbol id=\"icon-file-text2\" viewBox=\"0 0 32 32\">\n",
       "<path d=\"M28.681 7.159c-0.694-0.947-1.662-2.053-2.724-3.116s-2.169-2.030-3.116-2.724c-1.612-1.182-2.393-1.319-2.841-1.319h-15.5c-1.378 0-2.5 1.121-2.5 2.5v27c0 1.378 1.122 2.5 2.5 2.5h23c1.378 0 2.5-1.122 2.5-2.5v-19.5c0-0.448-0.137-1.23-1.319-2.841zM24.543 5.457c0.959 0.959 1.712 1.825 2.268 2.543h-4.811v-4.811c0.718 0.556 1.584 1.309 2.543 2.268zM28 29.5c0 0.271-0.229 0.5-0.5 0.5h-23c-0.271 0-0.5-0.229-0.5-0.5v-27c0-0.271 0.229-0.5 0.5-0.5 0 0 15.499-0 15.5 0v7c0 0.552 0.448 1 1 1h7v19.5z\"></path>\n",
       "<path d=\"M23 26h-14c-0.552 0-1-0.448-1-1s0.448-1 1-1h14c0.552 0 1 0.448 1 1s-0.448 1-1 1z\"></path>\n",
       "<path d=\"M23 22h-14c-0.552 0-1-0.448-1-1s0.448-1 1-1h14c0.552 0 1 0.448 1 1s-0.448 1-1 1z\"></path>\n",
       "<path d=\"M23 18h-14c-0.552 0-1-0.448-1-1s0.448-1 1-1h14c0.552 0 1 0.448 1 1s-0.448 1-1 1z\"></path>\n",
       "</symbol>\n",
       "</defs>\n",
       "</svg>\n",
       "<style>/* CSS stylesheet for displaying xarray objects in jupyterlab.\n",
       " *\n",
       " */\n",
       "\n",
       ":root {\n",
       "  --xr-font-color0: var(--jp-content-font-color0, rgba(0, 0, 0, 1));\n",
       "  --xr-font-color2: var(--jp-content-font-color2, rgba(0, 0, 0, 0.54));\n",
       "  --xr-font-color3: var(--jp-content-font-color3, rgba(0, 0, 0, 0.38));\n",
       "  --xr-border-color: var(--jp-border-color2, #e0e0e0);\n",
       "  --xr-disabled-color: var(--jp-layout-color3, #bdbdbd);\n",
       "  --xr-background-color: var(--jp-layout-color0, white);\n",
       "  --xr-background-color-row-even: var(--jp-layout-color1, white);\n",
       "  --xr-background-color-row-odd: var(--jp-layout-color2, #eeeeee);\n",
       "}\n",
       "\n",
       "html[theme=\"dark\"],\n",
       "html[data-theme=\"dark\"],\n",
       "body[data-theme=\"dark\"],\n",
       "body.vscode-dark {\n",
       "  --xr-font-color0: rgba(255, 255, 255, 1);\n",
       "  --xr-font-color2: rgba(255, 255, 255, 0.54);\n",
       "  --xr-font-color3: rgba(255, 255, 255, 0.38);\n",
       "  --xr-border-color: #1f1f1f;\n",
       "  --xr-disabled-color: #515151;\n",
       "  --xr-background-color: #111111;\n",
       "  --xr-background-color-row-even: #111111;\n",
       "  --xr-background-color-row-odd: #313131;\n",
       "}\n",
       "\n",
       ".xr-wrap {\n",
       "  display: block !important;\n",
       "  min-width: 300px;\n",
       "  max-width: 700px;\n",
       "}\n",
       "\n",
       ".xr-text-repr-fallback {\n",
       "  /* fallback to plain text repr when CSS is not injected (untrusted notebook) */\n",
       "  display: none;\n",
       "}\n",
       "\n",
       ".xr-header {\n",
       "  padding-top: 6px;\n",
       "  padding-bottom: 6px;\n",
       "  margin-bottom: 4px;\n",
       "  border-bottom: solid 1px var(--xr-border-color);\n",
       "}\n",
       "\n",
       ".xr-header > div,\n",
       ".xr-header > ul {\n",
       "  display: inline;\n",
       "  margin-top: 0;\n",
       "  margin-bottom: 0;\n",
       "}\n",
       "\n",
       ".xr-obj-type,\n",
       ".xr-array-name {\n",
       "  margin-left: 2px;\n",
       "  margin-right: 10px;\n",
       "}\n",
       "\n",
       ".xr-obj-type {\n",
       "  color: var(--xr-font-color2);\n",
       "}\n",
       "\n",
       ".xr-sections {\n",
       "  padding-left: 0 !important;\n",
       "  display: grid;\n",
       "  grid-template-columns: 150px auto auto 1fr 0 20px 0 20px;\n",
       "}\n",
       "\n",
       ".xr-section-item {\n",
       "  display: contents;\n",
       "}\n",
       "\n",
       ".xr-section-item input {\n",
       "  display: inline-block;\n",
       "  opacity: 0;\n",
       "  height: 0;\n",
       "}\n",
       "\n",
       ".xr-section-item input + label {\n",
       "  color: var(--xr-disabled-color);\n",
       "}\n",
       "\n",
       ".xr-section-item input:enabled + label {\n",
       "  cursor: pointer;\n",
       "  color: var(--xr-font-color2);\n",
       "}\n",
       "\n",
       ".xr-section-item input:focus + label {\n",
       "  border: 2px solid var(--xr-font-color0);\n",
       "}\n",
       "\n",
       ".xr-section-item input:enabled + label:hover {\n",
       "  color: var(--xr-font-color0);\n",
       "}\n",
       "\n",
       ".xr-section-summary {\n",
       "  grid-column: 1;\n",
       "  color: var(--xr-font-color2);\n",
       "  font-weight: 500;\n",
       "}\n",
       "\n",
       ".xr-section-summary > span {\n",
       "  display: inline-block;\n",
       "  padding-left: 0.5em;\n",
       "}\n",
       "\n",
       ".xr-section-summary-in:disabled + label {\n",
       "  color: var(--xr-font-color2);\n",
       "}\n",
       "\n",
       ".xr-section-summary-in + label:before {\n",
       "  display: inline-block;\n",
       "  content: \"►\";\n",
       "  font-size: 11px;\n",
       "  width: 15px;\n",
       "  text-align: center;\n",
       "}\n",
       "\n",
       ".xr-section-summary-in:disabled + label:before {\n",
       "  color: var(--xr-disabled-color);\n",
       "}\n",
       "\n",
       ".xr-section-summary-in:checked + label:before {\n",
       "  content: \"▼\";\n",
       "}\n",
       "\n",
       ".xr-section-summary-in:checked + label > span {\n",
       "  display: none;\n",
       "}\n",
       "\n",
       ".xr-section-summary,\n",
       ".xr-section-inline-details {\n",
       "  padding-top: 4px;\n",
       "  padding-bottom: 4px;\n",
       "}\n",
       "\n",
       ".xr-section-inline-details {\n",
       "  grid-column: 2 / -1;\n",
       "}\n",
       "\n",
       ".xr-section-details {\n",
       "  display: none;\n",
       "  grid-column: 1 / -1;\n",
       "  margin-bottom: 5px;\n",
       "}\n",
       "\n",
       ".xr-section-summary-in:checked ~ .xr-section-details {\n",
       "  display: contents;\n",
       "}\n",
       "\n",
       ".xr-array-wrap {\n",
       "  grid-column: 1 / -1;\n",
       "  display: grid;\n",
       "  grid-template-columns: 20px auto;\n",
       "}\n",
       "\n",
       ".xr-array-wrap > label {\n",
       "  grid-column: 1;\n",
       "  vertical-align: top;\n",
       "}\n",
       "\n",
       ".xr-preview {\n",
       "  color: var(--xr-font-color3);\n",
       "}\n",
       "\n",
       ".xr-array-preview,\n",
       ".xr-array-data {\n",
       "  padding: 0 5px !important;\n",
       "  grid-column: 2;\n",
       "}\n",
       "\n",
       ".xr-array-data,\n",
       ".xr-array-in:checked ~ .xr-array-preview {\n",
       "  display: none;\n",
       "}\n",
       "\n",
       ".xr-array-in:checked ~ .xr-array-data,\n",
       ".xr-array-preview {\n",
       "  display: inline-block;\n",
       "}\n",
       "\n",
       ".xr-dim-list {\n",
       "  display: inline-block !important;\n",
       "  list-style: none;\n",
       "  padding: 0 !important;\n",
       "  margin: 0;\n",
       "}\n",
       "\n",
       ".xr-dim-list li {\n",
       "  display: inline-block;\n",
       "  padding: 0;\n",
       "  margin: 0;\n",
       "}\n",
       "\n",
       ".xr-dim-list:before {\n",
       "  content: \"(\";\n",
       "}\n",
       "\n",
       ".xr-dim-list:after {\n",
       "  content: \")\";\n",
       "}\n",
       "\n",
       ".xr-dim-list li:not(:last-child):after {\n",
       "  content: \",\";\n",
       "  padding-right: 5px;\n",
       "}\n",
       "\n",
       ".xr-has-index {\n",
       "  font-weight: bold;\n",
       "}\n",
       "\n",
       ".xr-var-list,\n",
       ".xr-var-item {\n",
       "  display: contents;\n",
       "}\n",
       "\n",
       ".xr-var-item > div,\n",
       ".xr-var-item label,\n",
       ".xr-var-item > .xr-var-name span {\n",
       "  background-color: var(--xr-background-color-row-even);\n",
       "  margin-bottom: 0;\n",
       "}\n",
       "\n",
       ".xr-var-item > .xr-var-name:hover span {\n",
       "  padding-right: 5px;\n",
       "}\n",
       "\n",
       ".xr-var-list > li:nth-child(odd) > div,\n",
       ".xr-var-list > li:nth-child(odd) > label,\n",
       ".xr-var-list > li:nth-child(odd) > .xr-var-name span {\n",
       "  background-color: var(--xr-background-color-row-odd);\n",
       "}\n",
       "\n",
       ".xr-var-name {\n",
       "  grid-column: 1;\n",
       "}\n",
       "\n",
       ".xr-var-dims {\n",
       "  grid-column: 2;\n",
       "}\n",
       "\n",
       ".xr-var-dtype {\n",
       "  grid-column: 3;\n",
       "  text-align: right;\n",
       "  color: var(--xr-font-color2);\n",
       "}\n",
       "\n",
       ".xr-var-preview {\n",
       "  grid-column: 4;\n",
       "}\n",
       "\n",
       ".xr-index-preview {\n",
       "  grid-column: 2 / 5;\n",
       "  color: var(--xr-font-color2);\n",
       "}\n",
       "\n",
       ".xr-var-name,\n",
       ".xr-var-dims,\n",
       ".xr-var-dtype,\n",
       ".xr-preview,\n",
       ".xr-attrs dt {\n",
       "  white-space: nowrap;\n",
       "  overflow: hidden;\n",
       "  text-overflow: ellipsis;\n",
       "  padding-right: 10px;\n",
       "}\n",
       "\n",
       ".xr-var-name:hover,\n",
       ".xr-var-dims:hover,\n",
       ".xr-var-dtype:hover,\n",
       ".xr-attrs dt:hover {\n",
       "  overflow: visible;\n",
       "  width: auto;\n",
       "  z-index: 1;\n",
       "}\n",
       "\n",
       ".xr-var-attrs,\n",
       ".xr-var-data,\n",
       ".xr-index-data {\n",
       "  display: none;\n",
       "  background-color: var(--xr-background-color) !important;\n",
       "  padding-bottom: 5px !important;\n",
       "}\n",
       "\n",
       ".xr-var-attrs-in:checked ~ .xr-var-attrs,\n",
       ".xr-var-data-in:checked ~ .xr-var-data,\n",
       ".xr-index-data-in:checked ~ .xr-index-data {\n",
       "  display: block;\n",
       "}\n",
       "\n",
       ".xr-var-data > table {\n",
       "  float: right;\n",
       "}\n",
       "\n",
       ".xr-var-name span,\n",
       ".xr-var-data,\n",
       ".xr-index-name div,\n",
       ".xr-index-data,\n",
       ".xr-attrs {\n",
       "  padding-left: 25px !important;\n",
       "}\n",
       "\n",
       ".xr-attrs,\n",
       ".xr-var-attrs,\n",
       ".xr-var-data,\n",
       ".xr-index-data {\n",
       "  grid-column: 1 / -1;\n",
       "}\n",
       "\n",
       "dl.xr-attrs {\n",
       "  padding: 0;\n",
       "  margin: 0;\n",
       "  display: grid;\n",
       "  grid-template-columns: 125px auto;\n",
       "}\n",
       "\n",
       ".xr-attrs dt,\n",
       ".xr-attrs dd {\n",
       "  padding: 0;\n",
       "  margin: 0;\n",
       "  float: left;\n",
       "  padding-right: 10px;\n",
       "  width: auto;\n",
       "}\n",
       "\n",
       ".xr-attrs dt {\n",
       "  font-weight: normal;\n",
       "  grid-column: 1;\n",
       "}\n",
       "\n",
       ".xr-attrs dt:hover span {\n",
       "  display: inline-block;\n",
       "  background: var(--xr-background-color);\n",
       "  padding-right: 10px;\n",
       "}\n",
       "\n",
       ".xr-attrs dd {\n",
       "  grid-column: 2;\n",
       "  white-space: pre-wrap;\n",
       "  word-break: break-all;\n",
       "}\n",
       "\n",
       ".xr-icon-database,\n",
       ".xr-icon-file-text2,\n",
       ".xr-no-icon {\n",
       "  display: inline-block;\n",
       "  vertical-align: middle;\n",
       "  width: 1em;\n",
       "  height: 1.5em !important;\n",
       "  stroke-width: 0;\n",
       "  stroke: currentColor;\n",
       "  fill: currentColor;\n",
       "}\n",
       "</style><pre class='xr-text-repr-fallback'>&lt;xarray.Dataset&gt; Size: 2MB\n",
       "Dimensions:    (lat: 227, lon: 109)\n",
       "Coordinates:\n",
       "  * lat        (lat) float32 908B 55.34 55.36 55.37 55.39 ... 59.07 59.09 59.11\n",
       "  * lon        (lon) float32 436B 10.04 10.07 10.1 10.12 ... 12.99 13.01 13.04\n",
       "Data variables: (12/19)\n",
       "    VHM0       (lat, lon) float32 99kB nan nan nan nan nan ... nan nan nan nan\n",
       "    VTPK       (lat, lon) float32 99kB nan nan nan nan nan ... nan nan nan nan\n",
       "    VTM10      (lat, lon) float32 99kB nan nan nan nan nan ... nan nan nan nan\n",
       "    VTM02      (lat, lon) float32 99kB nan nan nan nan nan ... nan nan nan nan\n",
       "    VMDR       (lat, lon) float32 99kB nan nan nan nan nan ... nan nan nan nan\n",
       "    VHM0_WW    (lat, lon) float32 99kB nan nan nan nan nan ... nan nan nan nan\n",
       "    ...         ...\n",
       "    VTM01_SW2  (lat, lon) float32 99kB nan nan nan nan nan ... nan nan nan nan\n",
       "    VMDR_SW2   (lat, lon) float32 99kB nan nan nan nan nan ... nan nan nan nan\n",
       "    VSDX       (lat, lon) float32 99kB nan nan nan nan nan ... nan nan nan nan\n",
       "    VSDY       (lat, lon) float32 99kB nan nan nan nan nan ... nan nan nan nan\n",
       "    VMXL       (lat, lon) float32 99kB nan nan nan nan nan ... nan nan nan nan\n",
       "    VCMX       (lat, lon) float32 99kB nan nan nan nan nan ... nan nan nan nan</pre><div class='xr-wrap' style='display:none'><div class='xr-header'><div class='xr-obj-type'>xarray.Dataset</div></div><ul class='xr-sections'><li class='xr-section-item'><input id='section-5fb7cb9c-ab2b-4893-9ab4-65195a21479d' class='xr-section-summary-in' type='checkbox' disabled ><label for='section-5fb7cb9c-ab2b-4893-9ab4-65195a21479d' class='xr-section-summary'  title='Expand/collapse section'>Dimensions:</label><div class='xr-section-inline-details'><ul class='xr-dim-list'><li><span class='xr-has-index'>lat</span>: 227</li><li><span class='xr-has-index'>lon</span>: 109</li></ul></div><div class='xr-section-details'></div></li><li class='xr-section-item'><input id='section-695bb25d-cbe8-47fe-8d23-756e6f25f89b' class='xr-section-summary-in' type='checkbox'  checked><label for='section-695bb25d-cbe8-47fe-8d23-756e6f25f89b' class='xr-section-summary' >Coordinates: <span>(2)</span></label><div class='xr-section-inline-details'></div><div class='xr-section-details'><ul class='xr-var-list'><li class='xr-var-item'><div class='xr-var-name'><span class='xr-has-index'>lat</span></div><div class='xr-var-dims'>(lat)</div><div class='xr-var-dtype'>float32</div><div class='xr-var-preview xr-preview'>55.34 55.36 55.37 ... 59.09 59.11</div><input id='attrs-ed3a3331-6174-43e0-bb41-963f04027531' class='xr-var-attrs-in' type='checkbox' ><label for='attrs-ed3a3331-6174-43e0-bb41-963f04027531' title='Show/Hide attributes'><svg class='icon xr-icon-file-text2'><use xlink:href='#icon-file-text2'></use></svg></label><input id='data-8a8aabd1-ed0f-4ccd-851b-8359d2a593c6' class='xr-var-data-in' type='checkbox'><label for='data-8a8aabd1-ed0f-4ccd-851b-8359d2a593c6' title='Show/Hide data repr'><svg class='icon xr-icon-database'><use xlink:href='#icon-database'></use></svg></label><div class='xr-var-attrs'><dl class='xr-attrs'><dt><span>standard_name :</span></dt><dd>latitude</dd><dt><span>long_name :</span></dt><dd>latitude</dd><dt><span>units :</span></dt><dd>degrees_north</dd><dt><span>axis :</span></dt><dd>Y</dd></dl></div><div class='xr-var-data'><pre>array([55.34153 , 55.358196, 55.374863, ..., 59.074715, 59.09138 , 59.108047],\n",
       "      dtype=float32)</pre></div></li><li class='xr-var-item'><div class='xr-var-name'><span class='xr-has-index'>lon</span></div><div class='xr-var-dims'>(lon)</div><div class='xr-var-dtype'>float32</div><div class='xr-var-preview xr-preview'>10.04 10.07 10.1 ... 13.01 13.04</div><input id='attrs-56663f08-5e71-4528-8aa6-e16b0e46ce93' class='xr-var-attrs-in' type='checkbox' ><label for='attrs-56663f08-5e71-4528-8aa6-e16b0e46ce93' title='Show/Hide attributes'><svg class='icon xr-icon-file-text2'><use xlink:href='#icon-file-text2'></use></svg></label><input id='data-fbd66c51-da4c-4cb9-8d1f-6a4c21132782' class='xr-var-data-in' type='checkbox'><label for='data-fbd66c51-da4c-4cb9-8d1f-6a4c21132782' title='Show/Hide data repr'><svg class='icon xr-icon-database'><use xlink:href='#icon-database'></use></svg></label><div class='xr-var-attrs'><dl class='xr-attrs'><dt><span>standard_name :</span></dt><dd>longitude</dd><dt><span>long_name :</span></dt><dd>longitude</dd><dt><span>units :</span></dt><dd>degrees_east</dd><dt><span>axis :</span></dt><dd>X</dd></dl></div><div class='xr-var-data'><pre>array([10.041636, 10.069413, 10.097191, 10.124968, 10.152744, 10.180521,\n",
       "       10.208299, 10.236075, 10.263852, 10.29163 , 10.319407, 10.347183,\n",
       "       10.37496 , 10.402738, 10.430514, 10.458291, 10.486069, 10.513845,\n",
       "       10.541622, 10.5694  , 10.597177, 10.624953, 10.65273 , 10.680508,\n",
       "       10.708284, 10.736061, 10.763839, 10.791615, 10.819392, 10.847169,\n",
       "       10.874947, 10.902723, 10.9305  , 10.958278, 10.986054, 11.013831,\n",
       "       11.041609, 11.069386, 11.097162, 11.124939, 11.152717, 11.180493,\n",
       "       11.20827 , 11.236048, 11.263824, 11.291601, 11.319378, 11.347156,\n",
       "       11.374932, 11.402709, 11.430487, 11.458263, 11.48604 , 11.513818,\n",
       "       11.541595, 11.569371, 11.597148, 11.624926, 11.652702, 11.680479,\n",
       "       11.708257, 11.736033, 11.76381 , 11.791587, 11.819365, 11.847141,\n",
       "       11.874918, 11.902696, 11.930472, 11.958249, 11.986027, 12.013803,\n",
       "       12.04158 , 12.069357, 12.097135, 12.124911, 12.152688, 12.180466,\n",
       "       12.208242, 12.236019, 12.263797, 12.291574, 12.31935 , 12.347127,\n",
       "       12.374905, 12.402681, 12.430458, 12.458236, 12.486012, 12.513789,\n",
       "       12.541566, 12.569344, 12.59712 , 12.624897, 12.652675, 12.680451,\n",
       "       12.708228, 12.736006, 12.763783, 12.791559, 12.819336, 12.847114,\n",
       "       12.87489 , 12.902667, 12.930445, 12.958221, 12.985998, 13.013775,\n",
       "       13.041553], dtype=float32)</pre></div></li></ul></div></li><li class='xr-section-item'><input id='section-42cda221-a4cb-488a-b9d5-053e7ef3b1ac' class='xr-section-summary-in' type='checkbox'  ><label for='section-42cda221-a4cb-488a-b9d5-053e7ef3b1ac' class='xr-section-summary' >Data variables: <span>(19)</span></label><div class='xr-section-inline-details'></div><div class='xr-section-details'><ul class='xr-var-list'><li class='xr-var-item'><div class='xr-var-name'><span>VHM0</span></div><div class='xr-var-dims'>(lat, lon)</div><div class='xr-var-dtype'>float32</div><div class='xr-var-preview xr-preview'>nan nan nan nan ... nan nan nan nan</div><input id='attrs-d0dc8ef7-aad9-474c-8d56-8932ce4b85b8' class='xr-var-attrs-in' type='checkbox' disabled><label for='attrs-d0dc8ef7-aad9-474c-8d56-8932ce4b85b8' title='Show/Hide attributes'><svg class='icon xr-icon-file-text2'><use xlink:href='#icon-file-text2'></use></svg></label><input id='data-7045b043-e637-4e99-afd7-84d2470fed4c' class='xr-var-data-in' type='checkbox'><label for='data-7045b043-e637-4e99-afd7-84d2470fed4c' title='Show/Hide data repr'><svg class='icon xr-icon-database'><use xlink:href='#icon-database'></use></svg></label><div class='xr-var-attrs'><dl class='xr-attrs'></dl></div><div class='xr-var-data'><pre>array([[       nan,        nan,        nan, ..., 0.69495285, 0.7028545 ,\n",
       "        0.7050234 ],\n",
       "       [       nan,        nan,        nan, ..., 0.6484894 , 0.6546634 ,\n",
       "        0.65071094],\n",
       "       [       nan,        nan,        nan, ..., 0.5812788 , 0.5622688 ,\n",
       "        0.42656928],\n",
       "       ...,\n",
       "       [       nan,        nan,        nan, ...,        nan,        nan,\n",
       "               nan],\n",
       "       [       nan,        nan,        nan, ...,        nan,        nan,\n",
       "               nan],\n",
       "       [       nan,        nan,        nan, ...,        nan,        nan,\n",
       "               nan]], dtype=float32)</pre></div></li><li class='xr-var-item'><div class='xr-var-name'><span>VTPK</span></div><div class='xr-var-dims'>(lat, lon)</div><div class='xr-var-dtype'>float32</div><div class='xr-var-preview xr-preview'>nan nan nan nan ... nan nan nan nan</div><input id='attrs-61220dfd-800e-48c9-886e-cf2b8682e834' class='xr-var-attrs-in' type='checkbox' disabled><label for='attrs-61220dfd-800e-48c9-886e-cf2b8682e834' title='Show/Hide attributes'><svg class='icon xr-icon-file-text2'><use xlink:href='#icon-file-text2'></use></svg></label><input id='data-be1f6035-2a44-4f52-a2c7-c178668811dc' class='xr-var-data-in' type='checkbox'><label for='data-be1f6035-2a44-4f52-a2c7-c178668811dc' title='Show/Hide data repr'><svg class='icon xr-icon-database'><use xlink:href='#icon-database'></use></svg></label><div class='xr-var-attrs'><dl class='xr-attrs'></dl></div><div class='xr-var-data'><pre>array([[      nan,       nan,       nan, ..., 4.031104 , 4.0623155,\n",
       "        4.08702  ],\n",
       "       [      nan,       nan,       nan, ..., 4.024821 , 4.0494013,\n",
       "        4.0878963],\n",
       "       [      nan,       nan,       nan, ..., 4.016376 , 4.044094 ,\n",
       "        4.024341 ],\n",
       "       ...,\n",
       "       [      nan,       nan,       nan, ...,       nan,       nan,\n",
       "              nan],\n",
       "       [      nan,       nan,       nan, ...,       nan,       nan,\n",
       "              nan],\n",
       "       [      nan,       nan,       nan, ...,       nan,       nan,\n",
       "              nan]], dtype=float32)</pre></div></li><li class='xr-var-item'><div class='xr-var-name'><span>VTM10</span></div><div class='xr-var-dims'>(lat, lon)</div><div class='xr-var-dtype'>float32</div><div class='xr-var-preview xr-preview'>nan nan nan nan ... nan nan nan nan</div><input id='attrs-3c0fef2a-b291-4cc6-ad71-68174164ef41' class='xr-var-attrs-in' type='checkbox' disabled><label for='attrs-3c0fef2a-b291-4cc6-ad71-68174164ef41' title='Show/Hide attributes'><svg class='icon xr-icon-file-text2'><use xlink:href='#icon-file-text2'></use></svg></label><input id='data-975870c8-a73e-4581-9293-c799464d2b24' class='xr-var-data-in' type='checkbox'><label for='data-975870c8-a73e-4581-9293-c799464d2b24' title='Show/Hide data repr'><svg class='icon xr-icon-database'><use xlink:href='#icon-database'></use></svg></label><div class='xr-var-attrs'><dl class='xr-attrs'></dl></div><div class='xr-var-data'><pre>array([[      nan,       nan,       nan, ..., 3.2871304, 3.3095946,\n",
       "        3.3242235],\n",
       "       [      nan,       nan,       nan, ..., 3.2266898, 3.2492716,\n",
       "        3.2785301],\n",
       "       [      nan,       nan,       nan, ..., 3.1554   , 3.1570604,\n",
       "        3.0012445],\n",
       "       ...,\n",
       "       [      nan,       nan,       nan, ...,       nan,       nan,\n",
       "              nan],\n",
       "       [      nan,       nan,       nan, ...,       nan,       nan,\n",
       "              nan],\n",
       "       [      nan,       nan,       nan, ...,       nan,       nan,\n",
       "              nan]], dtype=float32)</pre></div></li><li class='xr-var-item'><div class='xr-var-name'><span>VTM02</span></div><div class='xr-var-dims'>(lat, lon)</div><div class='xr-var-dtype'>float32</div><div class='xr-var-preview xr-preview'>nan nan nan nan ... nan nan nan nan</div><input id='attrs-b6191e2d-e1da-4584-9258-479863bb1679' class='xr-var-attrs-in' type='checkbox' disabled><label for='attrs-b6191e2d-e1da-4584-9258-479863bb1679' title='Show/Hide attributes'><svg class='icon xr-icon-file-text2'><use xlink:href='#icon-file-text2'></use></svg></label><input id='data-b2427a4b-3dc6-47ff-a76c-9c615ee2cb6d' class='xr-var-data-in' type='checkbox'><label for='data-b2427a4b-3dc6-47ff-a76c-9c615ee2cb6d' title='Show/Hide data repr'><svg class='icon xr-icon-database'><use xlink:href='#icon-database'></use></svg></label><div class='xr-var-attrs'><dl class='xr-attrs'></dl></div><div class='xr-var-data'><pre>array([[      nan,       nan,       nan, ..., 2.5184367, 2.53655  ,\n",
       "        2.5470796],\n",
       "       [      nan,       nan,       nan, ..., 2.4516478, 2.469611 ,\n",
       "        2.4877439],\n",
       "       [      nan,       nan,       nan, ..., 2.3578615, 2.3458712,\n",
       "        2.1651535],\n",
       "       ...,\n",
       "       [      nan,       nan,       nan, ...,       nan,       nan,\n",
       "              nan],\n",
       "       [      nan,       nan,       nan, ...,       nan,       nan,\n",
       "              nan],\n",
       "       [      nan,       nan,       nan, ...,       nan,       nan,\n",
       "              nan]], dtype=float32)</pre></div></li><li class='xr-var-item'><div class='xr-var-name'><span>VMDR</span></div><div class='xr-var-dims'>(lat, lon)</div><div class='xr-var-dtype'>float32</div><div class='xr-var-preview xr-preview'>nan nan nan nan ... nan nan nan nan</div><input id='attrs-aa777b13-9c7b-4d59-b50c-5ac61bd2a250' class='xr-var-attrs-in' type='checkbox' disabled><label for='attrs-aa777b13-9c7b-4d59-b50c-5ac61bd2a250' title='Show/Hide attributes'><svg class='icon xr-icon-file-text2'><use xlink:href='#icon-file-text2'></use></svg></label><input id='data-ff415ebe-dfc1-43ce-b9da-e4f46c0ef00f' class='xr-var-data-in' type='checkbox'><label for='data-ff415ebe-dfc1-43ce-b9da-e4f46c0ef00f' title='Show/Hide data repr'><svg class='icon xr-icon-database'><use xlink:href='#icon-database'></use></svg></label><div class='xr-var-attrs'><dl class='xr-attrs'></dl></div><div class='xr-var-data'><pre>array([[      nan,       nan,       nan, ..., 190.97736, 191.31633,\n",
       "        191.80049],\n",
       "       [      nan,       nan,       nan, ..., 190.53326, 191.65991,\n",
       "        192.56857],\n",
       "       [      nan,       nan,       nan, ..., 190.56459, 193.57227,\n",
       "        197.60103],\n",
       "       ...,\n",
       "       [      nan,       nan,       nan, ...,       nan,       nan,\n",
       "              nan],\n",
       "       [      nan,       nan,       nan, ...,       nan,       nan,\n",
       "              nan],\n",
       "       [      nan,       nan,       nan, ...,       nan,       nan,\n",
       "              nan]], dtype=float32)</pre></div></li><li class='xr-var-item'><div class='xr-var-name'><span>VHM0_WW</span></div><div class='xr-var-dims'>(lat, lon)</div><div class='xr-var-dtype'>float32</div><div class='xr-var-preview xr-preview'>nan nan nan nan ... nan nan nan nan</div><input id='attrs-5b187dcd-f45b-478f-a5f8-d485af37dcc0' class='xr-var-attrs-in' type='checkbox' disabled><label for='attrs-5b187dcd-f45b-478f-a5f8-d485af37dcc0' title='Show/Hide attributes'><svg class='icon xr-icon-file-text2'><use xlink:href='#icon-file-text2'></use></svg></label><input id='data-0868142a-046e-4c0d-a298-7121bcff8f7f' class='xr-var-data-in' type='checkbox'><label for='data-0868142a-046e-4c0d-a298-7121bcff8f7f' title='Show/Hide data repr'><svg class='icon xr-icon-database'><use xlink:href='#icon-database'></use></svg></label><div class='xr-var-attrs'><dl class='xr-attrs'></dl></div><div class='xr-var-data'><pre>array([[       nan,        nan,        nan, ..., 0.6325772 , 0.6399441 ,\n",
       "        0.64210236],\n",
       "       [       nan,        nan,        nan, ..., 0.58581066, 0.59296894,\n",
       "        0.5869171 ],\n",
       "       [       nan,        nan,        nan, ..., 0.5200999 , 0.50788224,\n",
       "        0.387086  ],\n",
       "       ...,\n",
       "       [       nan,        nan,        nan, ...,        nan,        nan,\n",
       "               nan],\n",
       "       [       nan,        nan,        nan, ...,        nan,        nan,\n",
       "               nan],\n",
       "       [       nan,        nan,        nan, ...,        nan,        nan,\n",
       "               nan]], dtype=float32)</pre></div></li><li class='xr-var-item'><div class='xr-var-name'><span>VTM01_WW</span></div><div class='xr-var-dims'>(lat, lon)</div><div class='xr-var-dtype'>float32</div><div class='xr-var-preview xr-preview'>nan nan nan nan ... nan nan nan nan</div><input id='attrs-c346f9c2-ce81-434a-b63a-b1ae28205dea' class='xr-var-attrs-in' type='checkbox' disabled><label for='attrs-c346f9c2-ce81-434a-b63a-b1ae28205dea' title='Show/Hide attributes'><svg class='icon xr-icon-file-text2'><use xlink:href='#icon-file-text2'></use></svg></label><input id='data-a54e8a1b-e6cb-4b79-acfe-e2afa2337b1d' class='xr-var-data-in' type='checkbox'><label for='data-a54e8a1b-e6cb-4b79-acfe-e2afa2337b1d' title='Show/Hide data repr'><svg class='icon xr-icon-database'><use xlink:href='#icon-database'></use></svg></label><div class='xr-var-attrs'><dl class='xr-attrs'></dl></div><div class='xr-var-data'><pre>array([[      nan,       nan,       nan, ..., 2.4033678, 2.418522 ,\n",
       "        2.4252503],\n",
       "       [      nan,       nan,       nan, ..., 2.3119907, 2.3294113,\n",
       "        2.3346379],\n",
       "       [      nan,       nan,       nan, ..., 2.192127 , 2.1877487,\n",
       "        2.0326076],\n",
       "       ...,\n",
       "       [      nan,       nan,       nan, ...,       nan,       nan,\n",
       "              nan],\n",
       "       [      nan,       nan,       nan, ...,       nan,       nan,\n",
       "              nan],\n",
       "       [      nan,       nan,       nan, ...,       nan,       nan,\n",
       "              nan]], dtype=float32)</pre></div></li><li class='xr-var-item'><div class='xr-var-name'><span>VMDR_WW</span></div><div class='xr-var-dims'>(lat, lon)</div><div class='xr-var-dtype'>float32</div><div class='xr-var-preview xr-preview'>nan nan nan nan ... nan nan nan nan</div><input id='attrs-ebb3c98f-2b19-4bc7-82bd-540091deec34' class='xr-var-attrs-in' type='checkbox' disabled><label for='attrs-ebb3c98f-2b19-4bc7-82bd-540091deec34' title='Show/Hide attributes'><svg class='icon xr-icon-file-text2'><use xlink:href='#icon-file-text2'></use></svg></label><input id='data-90b4a721-8e8c-4380-ba9b-96da80376f9b' class='xr-var-data-in' type='checkbox'><label for='data-90b4a721-8e8c-4380-ba9b-96da80376f9b' title='Show/Hide data repr'><svg class='icon xr-icon-database'><use xlink:href='#icon-database'></use></svg></label><div class='xr-var-attrs'><dl class='xr-attrs'></dl></div><div class='xr-var-data'><pre>array([[      nan,       nan,       nan, ..., 200.37144, 200.69945,\n",
       "        200.70638],\n",
       "       [      nan,       nan,       nan, ..., 199.75737, 200.30746,\n",
       "        200.11565],\n",
       "       [      nan,       nan,       nan, ..., 199.25807, 199.49065,\n",
       "        200.8149 ],\n",
       "       ...,\n",
       "       [      nan,       nan,       nan, ...,       nan,       nan,\n",
       "              nan],\n",
       "       [      nan,       nan,       nan, ...,       nan,       nan,\n",
       "              nan],\n",
       "       [      nan,       nan,       nan, ...,       nan,       nan,\n",
       "              nan]], dtype=float32)</pre></div></li><li class='xr-var-item'><div class='xr-var-name'><span>VPED</span></div><div class='xr-var-dims'>(lat, lon)</div><div class='xr-var-dtype'>float32</div><div class='xr-var-preview xr-preview'>nan nan nan nan ... nan nan nan nan</div><input id='attrs-880acefc-4ecf-4ad8-a71a-7279c072bd77' class='xr-var-attrs-in' type='checkbox' disabled><label for='attrs-880acefc-4ecf-4ad8-a71a-7279c072bd77' title='Show/Hide attributes'><svg class='icon xr-icon-file-text2'><use xlink:href='#icon-file-text2'></use></svg></label><input id='data-f3f946c3-78bf-4dcd-89c4-0eec6b1fcc55' class='xr-var-data-in' type='checkbox'><label for='data-f3f946c3-78bf-4dcd-89c4-0eec6b1fcc55' title='Show/Hide data repr'><svg class='icon xr-icon-database'><use xlink:href='#icon-database'></use></svg></label><div class='xr-var-attrs'><dl class='xr-attrs'></dl></div><div class='xr-var-data'><pre>array([[      nan,       nan,       nan, ..., 185.63185, 186.06993,\n",
       "        185.93765],\n",
       "       [      nan,       nan,       nan, ..., 184.7919 , 186.01457,\n",
       "        186.38997],\n",
       "       [      nan,       nan,       nan, ..., 185.30869, 188.53432,\n",
       "        192.82793],\n",
       "       ...,\n",
       "       [      nan,       nan,       nan, ...,       nan,       nan,\n",
       "              nan],\n",
       "       [      nan,       nan,       nan, ...,       nan,       nan,\n",
       "              nan],\n",
       "       [      nan,       nan,       nan, ...,       nan,       nan,\n",
       "              nan]], dtype=float32)</pre></div></li><li class='xr-var-item'><div class='xr-var-name'><span>VHM0_SW1</span></div><div class='xr-var-dims'>(lat, lon)</div><div class='xr-var-dtype'>float32</div><div class='xr-var-preview xr-preview'>nan nan nan nan ... nan nan nan nan</div><input id='attrs-17a92c34-58a9-4799-9d74-fb1cc456d8c3' class='xr-var-attrs-in' type='checkbox' disabled><label for='attrs-17a92c34-58a9-4799-9d74-fb1cc456d8c3' title='Show/Hide attributes'><svg class='icon xr-icon-file-text2'><use xlink:href='#icon-file-text2'></use></svg></label><input id='data-7a36ccb8-c375-44be-8384-2fbb492aaece' class='xr-var-data-in' type='checkbox'><label for='data-7a36ccb8-c375-44be-8384-2fbb492aaece' title='Show/Hide data repr'><svg class='icon xr-icon-database'><use xlink:href='#icon-database'></use></svg></label><div class='xr-var-attrs'><dl class='xr-attrs'></dl></div><div class='xr-var-data'><pre>array([[       nan,        nan,        nan, ..., 0.14707664, 0.14655913,\n",
       "        0.1452129 ],\n",
       "       [       nan,        nan,        nan, ..., 0.1471106 , 0.14116569,\n",
       "        0.14331909],\n",
       "       [       nan,        nan,        nan, ..., 0.14247921, 0.12295033,\n",
       "        0.0947504 ],\n",
       "       ...,\n",
       "       [       nan,        nan,        nan, ...,        nan,        nan,\n",
       "               nan],\n",
       "       [       nan,        nan,        nan, ...,        nan,        nan,\n",
       "               nan],\n",
       "       [       nan,        nan,        nan, ...,        nan,        nan,\n",
       "               nan]], dtype=float32)</pre></div></li><li class='xr-var-item'><div class='xr-var-name'><span>VTM01_SW1</span></div><div class='xr-var-dims'>(lat, lon)</div><div class='xr-var-dtype'>float32</div><div class='xr-var-preview xr-preview'>nan nan nan nan ... nan nan nan nan</div><input id='attrs-b3f1b082-594c-4ea9-9aab-bf98a0354fcd' class='xr-var-attrs-in' type='checkbox' disabled><label for='attrs-b3f1b082-594c-4ea9-9aab-bf98a0354fcd' title='Show/Hide attributes'><svg class='icon xr-icon-file-text2'><use xlink:href='#icon-file-text2'></use></svg></label><input id='data-c8bff4c5-5bea-44d6-a016-18cdbe74c5b7' class='xr-var-data-in' type='checkbox'><label for='data-c8bff4c5-5bea-44d6-a016-18cdbe74c5b7' title='Show/Hide data repr'><svg class='icon xr-icon-database'><use xlink:href='#icon-database'></use></svg></label><div class='xr-var-attrs'><dl class='xr-attrs'></dl></div><div class='xr-var-data'><pre>array([[      nan,       nan,       nan, ..., 2.9178028, 2.8759048,\n",
       "        2.8721266],\n",
       "       [      nan,       nan,       nan, ..., 2.9660745, 2.8820882,\n",
       "        2.901489 ],\n",
       "       [      nan,       nan,       nan, ..., 2.9633114, 2.899136 ,\n",
       "        2.917446 ],\n",
       "       ...,\n",
       "       [      nan,       nan,       nan, ...,       nan,       nan,\n",
       "              nan],\n",
       "       [      nan,       nan,       nan, ...,       nan,       nan,\n",
       "              nan],\n",
       "       [      nan,       nan,       nan, ...,       nan,       nan,\n",
       "              nan]], dtype=float32)</pre></div></li><li class='xr-var-item'><div class='xr-var-name'><span>VMDR_SW1</span></div><div class='xr-var-dims'>(lat, lon)</div><div class='xr-var-dtype'>float32</div><div class='xr-var-preview xr-preview'>nan nan nan nan ... nan nan nan nan</div><input id='attrs-57fb6852-6c27-4c6e-8efa-5eca2014e75d' class='xr-var-attrs-in' type='checkbox' disabled><label for='attrs-57fb6852-6c27-4c6e-8efa-5eca2014e75d' title='Show/Hide attributes'><svg class='icon xr-icon-file-text2'><use xlink:href='#icon-file-text2'></use></svg></label><input id='data-151fb5f0-0169-4cec-b058-119e833272fc' class='xr-var-data-in' type='checkbox'><label for='data-151fb5f0-0169-4cec-b058-119e833272fc' title='Show/Hide data repr'><svg class='icon xr-icon-database'><use xlink:href='#icon-database'></use></svg></label><div class='xr-var-attrs'><dl class='xr-attrs'></dl></div><div class='xr-var-data'><pre>array([[      nan,       nan,       nan, ..., 164.20535, 164.70639,\n",
       "        166.22064],\n",
       "       [      nan,       nan,       nan, ..., 164.7338 , 165.68452,\n",
       "        167.09691],\n",
       "       [      nan,       nan,       nan, ..., 169.23   , 170.06303,\n",
       "        172.34529],\n",
       "       ...,\n",
       "       [      nan,       nan,       nan, ...,       nan,       nan,\n",
       "              nan],\n",
       "       [      nan,       nan,       nan, ...,       nan,       nan,\n",
       "              nan],\n",
       "       [      nan,       nan,       nan, ...,       nan,       nan,\n",
       "              nan]], dtype=float32)</pre></div></li><li class='xr-var-item'><div class='xr-var-name'><span>VHM0_SW2</span></div><div class='xr-var-dims'>(lat, lon)</div><div class='xr-var-dtype'>float32</div><div class='xr-var-preview xr-preview'>nan nan nan nan ... nan nan nan nan</div><input id='attrs-c8d297c1-4e8e-455d-a584-04954f8210a5' class='xr-var-attrs-in' type='checkbox' disabled><label for='attrs-c8d297c1-4e8e-455d-a584-04954f8210a5' title='Show/Hide attributes'><svg class='icon xr-icon-file-text2'><use xlink:href='#icon-file-text2'></use></svg></label><input id='data-32a54a43-a229-4bff-b6ad-8015d2f5a0d5' class='xr-var-data-in' type='checkbox'><label for='data-32a54a43-a229-4bff-b6ad-8015d2f5a0d5' title='Show/Hide data repr'><svg class='icon xr-icon-database'><use xlink:href='#icon-database'></use></svg></label><div class='xr-var-attrs'><dl class='xr-attrs'></dl></div><div class='xr-var-data'><pre>array([[       nan,        nan,        nan, ..., 0.01624301, 0.0165803 ,\n",
       "        0.01656001],\n",
       "       [       nan,        nan,        nan, ..., 0.01433604, 0.01422015,\n",
       "        0.01462555],\n",
       "       [       nan,        nan,        nan, ..., 0.0122013 , 0.01087817,\n",
       "        0.00770658],\n",
       "       ...,\n",
       "       [       nan,        nan,        nan, ...,        nan,        nan,\n",
       "               nan],\n",
       "       [       nan,        nan,        nan, ...,        nan,        nan,\n",
       "               nan],\n",
       "       [       nan,        nan,        nan, ...,        nan,        nan,\n",
       "               nan]], dtype=float32)</pre></div></li><li class='xr-var-item'><div class='xr-var-name'><span>VTM01_SW2</span></div><div class='xr-var-dims'>(lat, lon)</div><div class='xr-var-dtype'>float32</div><div class='xr-var-preview xr-preview'>nan nan nan nan ... nan nan nan nan</div><input id='attrs-efbd2bab-e444-4c92-b036-67ccc7eab26f' class='xr-var-attrs-in' type='checkbox' disabled><label for='attrs-efbd2bab-e444-4c92-b036-67ccc7eab26f' title='Show/Hide attributes'><svg class='icon xr-icon-file-text2'><use xlink:href='#icon-file-text2'></use></svg></label><input id='data-ceef9a80-0e8f-48ed-8e12-027f88ca3c4f' class='xr-var-data-in' type='checkbox'><label for='data-ceef9a80-0e8f-48ed-8e12-027f88ca3c4f' title='Show/Hide data repr'><svg class='icon xr-icon-database'><use xlink:href='#icon-database'></use></svg></label><div class='xr-var-attrs'><dl class='xr-attrs'></dl></div><div class='xr-var-data'><pre>array([[      nan,       nan,       nan, ..., 6.6473937, 6.205153 ,\n",
       "        7.4174066],\n",
       "       [      nan,       nan,       nan, ..., 7.1768274, 7.3913417,\n",
       "        8.457665 ],\n",
       "       [      nan,       nan,       nan, ..., 8.118212 , 6.8518677,\n",
       "        1.6280154],\n",
       "       ...,\n",
       "       [      nan,       nan,       nan, ...,       nan,       nan,\n",
       "              nan],\n",
       "       [      nan,       nan,       nan, ...,       nan,       nan,\n",
       "              nan],\n",
       "       [      nan,       nan,       nan, ...,       nan,       nan,\n",
       "              nan]], dtype=float32)</pre></div></li><li class='xr-var-item'><div class='xr-var-name'><span>VMDR_SW2</span></div><div class='xr-var-dims'>(lat, lon)</div><div class='xr-var-dtype'>float32</div><div class='xr-var-preview xr-preview'>nan nan nan nan ... nan nan nan nan</div><input id='attrs-da54e27c-540d-43fe-b8db-99bb639a71ca' class='xr-var-attrs-in' type='checkbox' disabled><label for='attrs-da54e27c-540d-43fe-b8db-99bb639a71ca' title='Show/Hide attributes'><svg class='icon xr-icon-file-text2'><use xlink:href='#icon-file-text2'></use></svg></label><input id='data-c7e733e5-150c-4c9e-ae58-595c0a28fc02' class='xr-var-data-in' type='checkbox'><label for='data-c7e733e5-150c-4c9e-ae58-595c0a28fc02' title='Show/Hide data repr'><svg class='icon xr-icon-database'><use xlink:href='#icon-database'></use></svg></label><div class='xr-var-attrs'><dl class='xr-attrs'></dl></div><div class='xr-var-data'><pre>array([[      nan,       nan,       nan, ..., 171.67426, 177.33057,\n",
       "        180.31786],\n",
       "       [      nan,       nan,       nan, ..., 172.78171, 179.52655,\n",
       "        183.99188],\n",
       "       [      nan,       nan,       nan, ..., 173.969  , 190.76912,\n",
       "        196.86227],\n",
       "       ...,\n",
       "       [      nan,       nan,       nan, ...,       nan,       nan,\n",
       "              nan],\n",
       "       [      nan,       nan,       nan, ...,       nan,       nan,\n",
       "              nan],\n",
       "       [      nan,       nan,       nan, ...,       nan,       nan,\n",
       "              nan]], dtype=float32)</pre></div></li><li class='xr-var-item'><div class='xr-var-name'><span>VSDX</span></div><div class='xr-var-dims'>(lat, lon)</div><div class='xr-var-dtype'>float32</div><div class='xr-var-preview xr-preview'>nan nan nan nan ... nan nan nan nan</div><input id='attrs-991134d6-4e28-41ec-b2c1-2d26f9f3dd3f' class='xr-var-attrs-in' type='checkbox' disabled><label for='attrs-991134d6-4e28-41ec-b2c1-2d26f9f3dd3f' title='Show/Hide attributes'><svg class='icon xr-icon-file-text2'><use xlink:href='#icon-file-text2'></use></svg></label><input id='data-9f4a9a63-54b1-45bd-9dfc-0c194935a1ce' class='xr-var-data-in' type='checkbox'><label for='data-9f4a9a63-54b1-45bd-9dfc-0c194935a1ce' title='Show/Hide data repr'><svg class='icon xr-icon-database'><use xlink:href='#icon-database'></use></svg></label><div class='xr-var-attrs'><dl class='xr-attrs'></dl></div><div class='xr-var-data'><pre>array([[       nan,        nan,        nan, ..., 0.03522332, 0.03549714,\n",
       "        0.03574523],\n",
       "       [       nan,        nan,        nan, ..., 0.03426644, 0.03467443,\n",
       "        0.03409797],\n",
       "       [       nan,        nan,        nan, ..., 0.03365441, 0.03473206,\n",
       "        0.03051434],\n",
       "       ...,\n",
       "       [       nan,        nan,        nan, ...,        nan,        nan,\n",
       "               nan],\n",
       "       [       nan,        nan,        nan, ...,        nan,        nan,\n",
       "               nan],\n",
       "       [       nan,        nan,        nan, ...,        nan,        nan,\n",
       "               nan]], dtype=float32)</pre></div></li><li class='xr-var-item'><div class='xr-var-name'><span>VSDY</span></div><div class='xr-var-dims'>(lat, lon)</div><div class='xr-var-dtype'>float32</div><div class='xr-var-preview xr-preview'>nan nan nan nan ... nan nan nan nan</div><input id='attrs-def8f066-c03e-4ffa-9fc4-c836326e1393' class='xr-var-attrs-in' type='checkbox' disabled><label for='attrs-def8f066-c03e-4ffa-9fc4-c836326e1393' title='Show/Hide attributes'><svg class='icon xr-icon-file-text2'><use xlink:href='#icon-file-text2'></use></svg></label><input id='data-e4676d05-3fa5-4911-90f0-1bcc3201d16c' class='xr-var-data-in' type='checkbox'><label for='data-e4676d05-3fa5-4911-90f0-1bcc3201d16c' title='Show/Hide data repr'><svg class='icon xr-icon-database'><use xlink:href='#icon-database'></use></svg></label><div class='xr-var-attrs'><dl class='xr-attrs'></dl></div><div class='xr-var-data'><pre>array([[       nan,        nan,        nan, ..., 0.03392713, 0.03400107,\n",
       "        0.0345766 ],\n",
       "       [       nan,        nan,        nan, ..., 0.03488228, 0.03502918,\n",
       "        0.03720732],\n",
       "       [       nan,        nan,        nan, ..., 0.03630928, 0.03457957,\n",
       "        0.0242058 ],\n",
       "       ...,\n",
       "       [       nan,        nan,        nan, ...,        nan,        nan,\n",
       "               nan],\n",
       "       [       nan,        nan,        nan, ...,        nan,        nan,\n",
       "               nan],\n",
       "       [       nan,        nan,        nan, ...,        nan,        nan,\n",
       "               nan]], dtype=float32)</pre></div></li><li class='xr-var-item'><div class='xr-var-name'><span>VMXL</span></div><div class='xr-var-dims'>(lat, lon)</div><div class='xr-var-dtype'>float32</div><div class='xr-var-preview xr-preview'>nan nan nan nan ... nan nan nan nan</div><input id='attrs-8cb3aecb-a303-400e-8dd7-41a4c454301e' class='xr-var-attrs-in' type='checkbox' disabled><label for='attrs-8cb3aecb-a303-400e-8dd7-41a4c454301e' title='Show/Hide attributes'><svg class='icon xr-icon-file-text2'><use xlink:href='#icon-file-text2'></use></svg></label><input id='data-77a01fc5-cd4f-4080-b9a5-9fdecebfcfab' class='xr-var-data-in' type='checkbox'><label for='data-77a01fc5-cd4f-4080-b9a5-9fdecebfcfab' title='Show/Hide data repr'><svg class='icon xr-icon-database'><use xlink:href='#icon-database'></use></svg></label><div class='xr-var-attrs'><dl class='xr-attrs'></dl></div><div class='xr-var-data'><pre>array([[       nan,        nan,        nan, ..., 0.6809043 , 0.687739  ,\n",
       "        0.68930745],\n",
       "       [       nan,        nan,        nan, ..., 0.63606393, 0.6404377 ,\n",
       "        0.63577193],\n",
       "       [       nan,        nan,        nan, ..., 0.56959087, 0.550279  ,\n",
       "        0.42912745],\n",
       "       ...,\n",
       "       [       nan,        nan,        nan, ...,        nan,        nan,\n",
       "               nan],\n",
       "       [       nan,        nan,        nan, ...,        nan,        nan,\n",
       "               nan],\n",
       "       [       nan,        nan,        nan, ...,        nan,        nan,\n",
       "               nan]], dtype=float32)</pre></div></li><li class='xr-var-item'><div class='xr-var-name'><span>VCMX</span></div><div class='xr-var-dims'>(lat, lon)</div><div class='xr-var-dtype'>float32</div><div class='xr-var-preview xr-preview'>nan nan nan nan ... nan nan nan nan</div><input id='attrs-162c4a41-b019-416b-a269-4514f4724091' class='xr-var-attrs-in' type='checkbox' disabled><label for='attrs-162c4a41-b019-416b-a269-4514f4724091' title='Show/Hide attributes'><svg class='icon xr-icon-file-text2'><use xlink:href='#icon-file-text2'></use></svg></label><input id='data-074583c8-f6dd-43bb-a371-aca7c0e92d02' class='xr-var-data-in' type='checkbox'><label for='data-074583c8-f6dd-43bb-a371-aca7c0e92d02' title='Show/Hide data repr'><svg class='icon xr-icon-database'><use xlink:href='#icon-database'></use></svg></label><div class='xr-var-attrs'><dl class='xr-attrs'></dl></div><div class='xr-var-data'><pre>array([[       nan,        nan,        nan, ..., 1.116712  , 1.129255  ,\n",
       "        1.1323184 ],\n",
       "       [       nan,        nan,        nan, ..., 1.0393027 , 1.0492814 ,\n",
       "        1.0416765 ],\n",
       "       [       nan,        nan,        nan, ..., 0.9266649 , 0.8953306 ,\n",
       "        0.67216295],\n",
       "       ...,\n",
       "       [       nan,        nan,        nan, ...,        nan,        nan,\n",
       "               nan],\n",
       "       [       nan,        nan,        nan, ...,        nan,        nan,\n",
       "               nan],\n",
       "       [       nan,        nan,        nan, ...,        nan,        nan,\n",
       "               nan]], dtype=float32)</pre></div></li></ul></div></li><li class='xr-section-item'><input id='section-44a27ee7-8207-4a1d-8727-52100f87e2fd' class='xr-section-summary-in' type='checkbox'  ><label for='section-44a27ee7-8207-4a1d-8727-52100f87e2fd' class='xr-section-summary' >Indexes: <span>(2)</span></label><div class='xr-section-inline-details'></div><div class='xr-section-details'><ul class='xr-var-list'><li class='xr-var-item'><div class='xr-index-name'><div>lat</div></div><div class='xr-index-preview'>PandasIndex</div><input type='checkbox' disabled/><label></label><input id='index-67ff7934-c549-4ad7-ad24-af128690f8b9' class='xr-index-data-in' type='checkbox'/><label for='index-67ff7934-c549-4ad7-ad24-af128690f8b9' title='Show/Hide index repr'><svg class='icon xr-icon-database'><use xlink:href='#icon-database'></use></svg></label><div class='xr-index-data'><pre>PandasIndex(Index([55.341529846191406,  55.35819625854492,  55.37486267089844,\n",
       "        55.39152908325195,   55.4081916809082,  55.42485809326172,\n",
       "       55.441524505615234,  55.45819091796875, 55.474857330322266,\n",
       "        55.49152374267578,\n",
       "       ...\n",
       "        58.95804977416992,  58.97471618652344,  58.99138259887695,\n",
       "        59.00804901123047, 59.024715423583984,   59.0413818359375,\n",
       "       59.058048248291016,  59.07471466064453,  59.09138107299805,\n",
       "        59.10804748535156],\n",
       "      dtype=&#x27;float32&#x27;, name=&#x27;lat&#x27;, length=227))</pre></div></li><li class='xr-var-item'><div class='xr-index-name'><div>lon</div></div><div class='xr-index-preview'>PandasIndex</div><input type='checkbox' disabled/><label></label><input id='index-10e52fee-41e3-4c6a-904c-1e3db3c2d2e1' class='xr-index-data-in' type='checkbox'/><label for='index-10e52fee-41e3-4c6a-904c-1e3db3c2d2e1' title='Show/Hide index repr'><svg class='icon xr-icon-database'><use xlink:href='#icon-database'></use></svg></label><div class='xr-index-data'><pre>PandasIndex(Index([ 10.04163646697998, 10.069413185119629, 10.097190856933594,\n",
       "       10.124967575073242,  10.15274429321289, 10.180521011352539,\n",
       "       10.208298683166504, 10.236075401306152,   10.2638521194458,\n",
       "       10.291629791259766,\n",
       "       ...\n",
       "       12.791559219360352,      12.8193359375, 12.847113609313965,\n",
       "       12.874890327453613, 12.902667045593262, 12.930444717407227,\n",
       "       12.958221435546875, 12.985998153686523, 13.013774871826172,\n",
       "       13.041552543640137],\n",
       "      dtype=&#x27;float32&#x27;, name=&#x27;lon&#x27;, length=109))</pre></div></li></ul></div></li><li class='xr-section-item'><input id='section-ef7a7fc1-c458-4656-ada3-e2651507f05b' class='xr-section-summary-in' type='checkbox' disabled ><label for='section-ef7a7fc1-c458-4656-ada3-e2651507f05b' class='xr-section-summary'  title='Expand/collapse section'>Attributes: <span>(0)</span></label><div class='xr-section-inline-details'></div><div class='xr-section-details'><dl class='xr-attrs'></dl></div></li></ul></div></div>"
      ],
      "text/plain": [
       "<xarray.Dataset> Size: 2MB\n",
       "Dimensions:    (lat: 227, lon: 109)\n",
       "Coordinates:\n",
       "  * lat        (lat) float32 908B 55.34 55.36 55.37 55.39 ... 59.07 59.09 59.11\n",
       "  * lon        (lon) float32 436B 10.04 10.07 10.1 10.12 ... 12.99 13.01 13.04\n",
       "Data variables: (12/19)\n",
       "    VHM0       (lat, lon) float32 99kB nan nan nan nan nan ... nan nan nan nan\n",
       "    VTPK       (lat, lon) float32 99kB nan nan nan nan nan ... nan nan nan nan\n",
       "    VTM10      (lat, lon) float32 99kB nan nan nan nan nan ... nan nan nan nan\n",
       "    VTM02      (lat, lon) float32 99kB nan nan nan nan nan ... nan nan nan nan\n",
       "    VMDR       (lat, lon) float32 99kB nan nan nan nan nan ... nan nan nan nan\n",
       "    VHM0_WW    (lat, lon) float32 99kB nan nan nan nan nan ... nan nan nan nan\n",
       "    ...         ...\n",
       "    VTM01_SW2  (lat, lon) float32 99kB nan nan nan nan nan ... nan nan nan nan\n",
       "    VMDR_SW2   (lat, lon) float32 99kB nan nan nan nan nan ... nan nan nan nan\n",
       "    VSDX       (lat, lon) float32 99kB nan nan nan nan nan ... nan nan nan nan\n",
       "    VSDY       (lat, lon) float32 99kB nan nan nan nan nan ... nan nan nan nan\n",
       "    VMXL       (lat, lon) float32 99kB nan nan nan nan nan ... nan nan nan nan\n",
       "    VCMX       (lat, lon) float32 99kB nan nan nan nan nan ... nan nan nan nan"
      ]
     },
     "execution_count": 15,
     "metadata": {},
     "output_type": "execute_result"
    }
   ],
   "source": [
    "# Filter the sampled_dates list for the specified year\n",
    "files = [f'data/{date.year}/{date.month:02d}/bounding_box_filtered_CMEMS_BAL_WAV_MY_{date.year}{date.month:02d}{date.day:02d}01.nc' for date in sampled_dates]\n",
    "# Open the datasets and concatenate them along the time dimension\n",
    "datasets = [xr.open_dataset(file) for file in files]\n",
    "# Concatenate the datasets along the 'time' dimension\n",
    "combined_dataset = xr.concat(datasets, dim='time')\n",
    "# Calculate the mean for each variable across time for the year\n",
    "yearly_mean = combined_dataset.mean(dim='time')\n",
    "yearly_mean"
   ]
  },
  {
   "cell_type": "code",
   "execution_count": 17,
   "id": "60407584",
   "metadata": {},
   "outputs": [],
   "source": [
    "# Save the file\n",
    "yearly_mean.to_netcdf(f'data/CMEMS_BAL_WAV_MY-AnnualMeans-2023.nc')"
   ]
  }
 ],
 "metadata": {
  "kernelspec": {
   "display_name": "Python 3",
   "language": "python",
   "name": "python3"
  },
  "language_info": {
   "codemirror_mode": {
    "name": "ipython",
    "version": 3
   },
   "file_extension": ".py",
   "mimetype": "text/x-python",
   "name": "python",
   "nbconvert_exporter": "python",
   "pygments_lexer": "ipython3",
   "version": "3.11.9"
  }
 },
 "nbformat": 4,
 "nbformat_minor": 5
}
