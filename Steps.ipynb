{
 "cells": [
  {
   "cell_type": "markdown",
   "id": "a8b49eed",
   "metadata": {},
   "source": [
    "This Jupyter notebook aim to present a method used to model a symphony raster.\n",
    "\n",
    "## Step 0 : Choose the symphony layer you want to model\n",
    "You can use the [Web Application for visualization for the symphony layers](https://mistra-c2b2-symphony-layers-interactive-explorer-interface.streamlit.app/). You will find a **summary** and a **recommendation for data improvement** of each layer.\n",
    "\n",
    "I decided to model the *Angiosperms* layer.\n",
    "\n",
    "## Step 1 : Download the datasets\n",
    "You can use the **summary** and the **recommendation for data improvement** of the layer to dress a list of the relevant parameters for your layer. You can also search for studies of your subject.\n",
    "\n",
    "The  [Symphony Metadata Report (March 2019)](https://github.com/Mistra-C2B2/Symphony-Layers-Interactive-Explorer/blob/main/Symphony%20Metadata%20March%202019.pdf) recommand to use additional environmental criteria such as *water depth*, *substrate salinity* and *exposure* to model the Angiosperms probability of presence. In addition, a study of the [distribution and co-occurrence patterns of charophytes and angiosperms in the northern Baltic Sea](https://www.nature.com/articles/s41598-023-47176-8) list relevant paramaters to create a model for Angiosperms plants.\n",
    "\n",
    "I decided to model the probability of presence of the Zosteraceae between 2015 and 2023. I have downloaded a datasets of Zosteraceae locations in the Sweden marine area and relevant datasets from the [Copernicus Marine Data Store](https://data.marine.copernicus.eu/products)."
   ]
  },
  {
   "cell_type": "code",
   "execution_count": null,
   "id": "69546333",
   "metadata": {},
   "outputs": [],
   "source": []
  },
  {
   "cell_type": "code",
   "execution_count": null,
   "id": "cf03b839",
   "metadata": {},
   "outputs": [],
   "source": []
  }
 ],
 "metadata": {
  "kernelspec": {
   "display_name": "Python 3",
   "language": "python",
   "name": "python3"
  },
  "language_info": {
   "codemirror_mode": {
    "name": "ipython",
    "version": 3
   },
   "file_extension": ".py",
   "mimetype": "text/x-python",
   "name": "python",
   "nbconvert_exporter": "python",
   "pygments_lexer": "ipython3",
   "version": "3.11.9"
  }
 },
 "nbformat": 4,
 "nbformat_minor": 5
}
