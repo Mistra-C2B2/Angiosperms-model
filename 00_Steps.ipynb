{
 "cells": [
  {
   "cell_type": "markdown",
   "id": "a8b49eed",
   "metadata": {},
   "source": [
    "This Jupyter notebook aim to present a method used to model a symphony raster.\n",
    "\n",
    "## Step 0 : Choose your Symphony Layer\n",
    "You can use the [Web Application for visualization for the symphony layers](https://mistra-c2b2-symphony-layers-interactive-explorer-interface.streamlit.app/). You will find a **summary** and a **recommendation for data improvement** of each layer.\n",
    "\n",
    "I decided to model the *Angiosperms* layer.\n",
    "\n",
    "## Step 1 : Download your datasets\n",
    "You can use the **summary** and the **recommendation for data improvement** of the layer to dress a list of the relevant parameters for your layer. You can also search for studies of your subject.\n",
    "\n",
    "The  [Symphony Metadata Report (March 2019)](https://github.com/Mistra-C2B2/Symphony-Layers-Interactive-Explorer/blob/main/Symphony%20Metadata%20March%202019.pdf) recommand to use additional environmental criteria such as *water depth*, *substrate salinity* and *exposure* to model the Angiosperms probability of presence. In addition, a study of the [distribution and co-occurrence patterns of charophytes and angiosperms in the northern Baltic Sea](https://www.nature.com/articles/s41598-023-47176-8) list relevant paramaters to create a model for Angiosperms plants.\n",
    "\n",
    "I decided to model the probability of presence of the Zosteraceae between 2015 and 2023. I have downloaded a datasets of Zosteraceae locations in the Sweden marine area from [GBIF](https://www.gbif.org) and relevant datasets from the [Copernicus Marine Data Store](https://data.marine.copernicus.eu/products).\n",
    "\n",
    "Here is the list of dataset I have downloaded : \n",
    "\n",
    "- [Baltic Sea Physics Reanalysis](https://data.marine.copernicus.eu/product/BALTICSEA_MULTIYEAR_PHY_003_011/description)\n",
    "- [Baltic Sea Biogeochemistry Reanalysis](https://data.marine.copernicus.eu/product/BALTICSEA_MULTIYEAR_BGC_003_012/description)\n",
    "- [Baltic Sea Wave Hindcast](https://data.marine.copernicus.eu/product/BALTICSEA_MULTIYEAR_WAV_003_015/description)\n",
    "- [Artportalen](https://www.gbif.org/dataset/38b4c89f-584c-41bb-bd8f-cd1def33e92f)\n",
    "\n",
    "To filter the Artportalen dataset, in the DOWNLOAD section, you can use the simple filters and flter by :\n",
    "* **Scientific name** : Plantae > Liliopsida > Alismatales > Zosteraceae\n",
    "* **Year** : 2015 - 2023\n",
    "* **Location** : I click on \"Including coordinates\", and drew myself a rough geometry of the Baltic Sea including Skagerrak.\n",
    "\n",
    "To download the Baltic Sea Physics Reanalysis and the Baltic Sea Biogeochemistry Reanalysis dataset, click on \"Data access\", choosed between the different time resolution (here Yearly) and download your dataset using the \"From\" or \"Browse\" buttons.\n",
    "\n",
    "The Baltic Sea Wave Hindcast dataset isn only available in Hourly resolution so I had to calculate ma yearly mean dataset.\n",
    "\n",
    "## Step 2 : Pre-processing\n",
    "\n",
    "This step is the most important one because it prepares and formats the data for the model. Any mistake can influance your result and it is very difficult to found the mistake analyzing the final result. I have applyed 2 diffrent transformations to my datasets :\n",
    "- Spatial filtering\n",
    "- Yearly mean\n",
    "\n",
    "\n",
    "## Step 3 : Filter the input\n",
    "By using a correlation matrix...\n",
    "\n",
    "## Step 4 : Choose your model\n",
    "I chossed a MaxEnt model because it is a specific model for presence only data, usually used to model species presence.\n"
   ]
  }
 ],
 "metadata": {
  "kernelspec": {
   "display_name": "Python 3",
   "language": "python",
   "name": "python3"
  },
  "language_info": {
   "codemirror_mode": {
    "name": "ipython",
    "version": 3
   },
   "file_extension": ".py",
   "mimetype": "text/x-python",
   "name": "python",
   "nbconvert_exporter": "python",
   "pygments_lexer": "ipython3",
   "version": "3.11.9"
  }
 },
 "nbformat": 4,
 "nbformat_minor": 5
}
